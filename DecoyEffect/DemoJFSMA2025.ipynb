{
 "cells": [
  {
   "cell_type": "markdown",
   "id": "7264724e-2f48-4d00-9d2c-5495b61156b2",
   "metadata": {},
   "source": [
    "# Calibration d'un simulateur multi agents sur des données réelles\n",
    "\n",
    "Team : CRISTAL Lab, SMAC team, Lille University\n",
    "\n",
    "Entreprise Collaboratrice : fifty-five, 5-7 rue d'Athènes, Paris\n",
    "\n",
    "Contact : jarod.vanderlynden@fifty-five.com, philippe.mathieu@univ-lille.fr, romain@fifty-five.com\n",
    "\n",
    "Création : 28/02/2025"
   ]
  },
  {
   "cell_type": "markdown",
   "id": "bdc59ca6-5df1-4b0d-bed4-aac3ede26500",
   "metadata": {},
   "source": [
    "## Introduction\n",
    "\n",
    "Cette feuille Jupyter reproduit les résultats présentés dans l'article \"_Calibration d’un Système Multi-Agent pour\n",
    "l’Optimisation des Prix de Produits Concurrentiels_\". \n",
    "\n",
    "### Présentation du modèle\n",
    "\n",
    "Dans un premier temps nous présentons rapidement le modèle. C'est le même modèle que celui présenté dans le notebook \"_FR_Get_Started_Decoy_Effect_\". Dans ce modèle, nous n'observons qu'une catégorie de produit. Une catégorie de produit est définie comme un ensemble de produits en concurrence directe. Ce modèle simule la présentation d'une catégorie de produits à un ensemble de clients, puis chacun des clients choisit un produit. Les agents sont des abstractions des clients, ils disposent de paramètres internes qu'ils utilisent pour faire leurs choix. Le processus de décision des agents est le même pour tous. On ne cherche pas à simuler les nombre d'acheteurs potentiels.\n",
    "\n",
    "Nous avons montré que ce modèle était capable de reproduire des faits stylisés marketing tel que l'effet de leurre de similarité et de compromis. Ces effets également appelés effets de contexte son des effets que nous avons réussi a reproduire en implémentant un unique biais psychologique chez nos agents : l'aversion à la perte. "
   ]
  },
  {
   "cell_type": "code",
   "execution_count": 2,
   "id": "5f366375-e4a3-459a-ba17-f04884091cf3",
   "metadata": {},
   "outputs": [],
   "source": [
    "import pandas as pd\n",
    "from datetime import datetime, date, timedelta\n",
    "import numpy as np\n",
    "import matplotlib.pyplot as plt\n",
    "import scipy.stats as stats\n",
    "import time"
   ]
  },
  {
   "cell_type": "markdown",
   "id": "af6ca26f-18df-4baf-92d3-9402a5785b2f",
   "metadata": {},
   "source": [
    "***\n",
    "\n",
    "### Description du modèle\n",
    "\n",
    "Dans cette partie nous décrivons le modèle et son implémentation. Nous passerons rapidement sur le fonctionnement du modèle, un notebook : \"_FR_Get_Started_Decoy_Effect_\", détaille le fonctionnement du modèle."
   ]
  },
  {
   "cell_type": "markdown",
   "id": "d4445866-ef9e-4f3c-96d5-1420186d70dc",
   "metadata": {},
   "source": [
    "***\n",
    "\n",
    "### Calibration \n",
    "\n",
    "Dans cette partie nous détaillerons la calibration du modèle. \n",
    "\n",
    "Dans un premier temps nous récupérons les informations sur nos produits. Ils sont ici encodés \"à la main\" afin de ne pas avoir à acceder aux fichiers de données que nous ne pouvons rendre public."
   ]
  },
  {
   "cell_type": "code",
   "execution_count": 5,
   "id": "3e7a9744-7779-4705-a456-071c7874a6b7",
   "metadata": {},
   "outputs": [],
   "source": [
    "# Définition d'un dataframe de produits.\n",
    "df_products = pd.DataFrame()\n",
    "df_products[\"name\"] = np.array(['45 OUTILS', '108 OUTILS',\n",
    "       '111 OUTILS MALLETTE',\n",
    "       '40 OUTILS BOITE'])\n",
    "df_products[\"prix\"] = [49.90, 59.90, 99.90, 49.40]\n",
    "df_products[\"type_boite\"] = [0, 2, 3, 1]\n",
    "df_products[\"nb_outils\"] = [45, 108, 111, 40]\n",
    "# Normalisation entre 0 et 1\n",
    "for name in [\"prix\", \"type_boite\", \"nb_outils\"]:\n",
    "    x, y = df_products[name].min(), df_products[name].max()\n",
    "    df_products[name] = (df_products[name] - x)/(y-x)\n",
    "\n",
    "true_sales_sorted =  [54, 295, 161, 131] # Cette variable représente les ventes réelles de nos différents produits, trié selon l'ordre \"P1, P2, P3, P4\""
   ]
  },
  {
   "cell_type": "markdown",
   "id": "d09791db-09bc-48be-8919-002c0e1fa9bc",
   "metadata": {},
   "source": [
    "On crée une distribution de revenus grâce à des données INSEE : _https://www.insee.fr/fr/statistiques/7707884#onglet-1_, données, figure 2"
   ]
  },
  {
   "cell_type": "code",
   "execution_count": 8,
   "id": "54b004d4-0970-4013-937a-bd53eb8f4ebe",
   "metadata": {},
   "outputs": [
    {
     "data": {
      "image/png": "[encoded data removed]",
      "text/plain": [
       "<Figure size 640x480 with 1 Axes>"
      ]
     },
     "metadata": {},
     "output_type": "display_data"
    }
   ],
   "source": [
    "distrib_revenues = np.array([531,832,1027,1174,1198,1116,1030,938,861,770,688,616,547,495,447,402,359,323,294,266,240,220,200,183,168,152,139,130,\n",
    "                             120,110,102,94,85,79,74,69,63,59,56,51,47,44,42,39,37,34,32,30,29,27,25,24,22,21,20,\n",
    "                             19,18,17,16,15,14,13,13,12,12,11,11,10,10,9,9,8,8,8,7,7,7,6])\n",
    "bins=[0,1300,1400,1500,1600,1700,1800,1900,2000,2100,2200,2300,2400,2500,2600,2700,2800,2900,3000,3100,3200,3300,3400,\n",
    "      3500,3600,3700,3800,3900,4000,4100,4200,4300,4400,4500,4600,4700,4800,4900,5000,5100,5200,5300,5400,5500,5600,\n",
    "      5700,5800,5900,6000,6100,6200,6300,6400,6500,6600,6700,6800,6900,7000,7100,7200,7300,7400,7500,7600,7700,7800,\n",
    "      7900,8000,8100,8200,8300,8400,8500,8600,8700,8800,8900,9000]\n",
    "density = plt.hist(bins[:-1], bins, weights=distrib_revenues, density=True)\n",
    "density[0][0] = density[0][0]*13"
   ]
  },
  {
   "cell_type": "markdown",
   "id": "f65909fd-7921-48e9-98ad-139b319799d1",
   "metadata": {},
   "source": [
    "Maintenant on définit une fonction de génération de sensibilité à la qualité pour nos agents. Le processus, aussi décrit dans l'article, est le suivant : La sensibilité à la qualité $S_Q$ de nos agents est représentée par un réel compris entre 0 et 1. 0 étant une sensibilité nulle à la qualité et 1 une sensibilité maximale. Pour obetenir cette sensibilité, nous utilisons un tirage suivant une loi normale de moyenne $\\mu$ et d'écart-type $\\sigma$. \n",
    "\n",
    "Les agents sont répartis en trois catégories ayant chacune une valeur de $\\mu$ et $\\sigma$ différente. La répartition des agents dans ces catégories est faite en s'appuyant sur un questionnaire réalisé auprès des clients de cette entreprise. Les clients avaient droit à plusieurs réponses face à la question \"Quels sont vos critères de choix\".Trois réponses étaient possible \"Le prix le plus bas\" 47\\% des réponses, \"L’esthétique\" 7.5\\% des réponses et \"Le respect des normes de qualité\" 45.5\\% des réponses. \n",
    "\n",
    "Les valeurs utilisées pour $\\mu$ selon les catégories sont les suivantes : \n",
    "- \"Le prix le plus bas\" $\\mu = 0.1$ \n",
    "- \"L’esthétique\" $\\mu = x_4$\n",
    "- \"Le respect des normes de qualité\" $\\mu = 0.9$\n",
    "\n",
    "La valeur de $\\sigma$ est la même pour toutes les catégories et est laissée libre pour le processus de calibration : $\\sigma = x_5$. Les valeurs inférieures à zéro et supérieures à un sont ramenées à ces bornes. La valeur de sensibilité à la qualité d'un agent suit donc une loi normale de moyenne et d'écart-type dépendant de sa catégorie. Les agents sont répartis entre les catégories selon une distribution issues du questionnaire précédent. "
   ]
  },
  {
   "cell_type": "code",
   "execution_count": 42,
   "id": "2f033dcf-a61b-4f85-b0fb-f12c4fb14a55",
   "metadata": {},
   "outputs": [],
   "source": [
    "#Format des données à intégrer à notre fonction de génération de sis\n",
    "data_categories = {\n",
    "    \"Le prix le plus bas\": 8846,\n",
    "    \"L'esthétique / Le design\": 1426,\n",
    "    \"Le respect des normes de qualité, de sécurité\": 8654,\n",
    "}\n",
    "\n",
    "sensitivity_weights = {\n",
    "        \"Le prix le plus bas\": 0.1, \n",
    "        \"L'esthétique / Le design\": 0, # Entre 0 et 1, paramètre à calibrer.\n",
    "        \"Le respect des normes de qualité, de sécurité\": 0.9, \n",
    "    }\n",
    "\n",
    "def generate_quality_sensitivity_distribution(categories, sensitivity_weights, calibration_factor=1.0, size=1000):\n",
    "    \"\"\"\n",
    "    Génère une distribution de sensibilités à la qualité basées sur les catégories et leur importance.\n",
    "\n",
    "    :param categories: Dictionnaire avec les catégories et leur nombre d'occurrences\n",
    "    :param sensitivity_weights: Dictionnaire avec les sensibilités moyennes associées aux catégories\n",
    "    :param calibration_factor: Facteur de calibration pour ajuster la variance\n",
    "    :param size: Nombre total de sensibilités à générer\n",
    "    :return: Distribution des sensibilités à la qualité (numpy array)\n",
    "    \"\"\"\n",
    "    size = size+10\n",
    "    # Normalisation des poids\n",
    "    total_clients = sum(categories.values())\n",
    "    category_probabilities = {cat: count / total_clients for cat, count in categories.items()}\n",
    "\n",
    "    # Initialisation de la liste des sensibilités\n",
    "    sensitivities = []\n",
    "\n",
    "    # Calcul du nombre d'échantillons par catégorie, en tenant compte du total à générer\n",
    "    remaining_samples = size  # Nombre d'échantillons restants à générer\n",
    "\n",
    "    # Calcul du nombre d'échantillons pour chaque catégorie, ajusté pour éviter les imprécisions\n",
    "    category_samples = {}\n",
    "    for category, probability in category_probabilities.items():\n",
    "        category_samples[category] = round(probability * size)\n",
    "        remaining_samples -= category_samples[category]\n",
    "\n",
    "    # Ajuster les échantillons restants pour la dernière catégorie afin de respecter le total\n",
    "    if remaining_samples > 0:\n",
    "        # Ajouter les échantillons restants à la catégorie ayant la probabilité la plus élevée\n",
    "        largest_category = max(category_samples, key=lambda cat: category_probabilities[cat])\n",
    "        category_samples[largest_category] += remaining_samples\n",
    "\n",
    "    # Génération des sensibilités pour chaque catégorie\n",
    "    for category, num_samples in category_samples.items():\n",
    "        mean_sensitivity = sensitivity_weights.get(category, 0.5)\n",
    "        std_dev = (1 - mean_sensitivity) * calibration_factor  # Écart type ajusté\n",
    "\n",
    "        # Génération d'une sous-distribution pour la catégorie\n",
    "        sub_distribution = np.clip(np.random.normal(mean_sensitivity, std_dev, num_samples), 0, 1)\n",
    "        sensitivities.extend(sub_distribution)\n",
    "    size = size - 10 # Due à des erreurs d'imprécisions a cause d'arrondies, nous générons trop de valeurs afin d'être sur d'en avoir tiré assez\n",
    "    return np.array(sensitivities)[:size]"
   ]
  },
  {
   "cell_type": "markdown",
   "id": "0bb40692-26d5-4a6a-bf28-e77d7ba33916",
   "metadata": {},
   "source": [
    "On définit maintenant la fonction de calibration. L'objectif est de générer une population d'agents, la tester avec notre modèle. On obtiens des ventes qu'on compare avec les ventes réelles, cela nous donne une perte qu'on va pourvoir essayer de minimiser."
   ]
  },
  {
   "cell_type": "code",
   "execution_count": 45,
   "id": "6830af01-54c6-4880-82e3-60bff280f431",
   "metadata": {},
   "outputs": [],
   "source": [
    "def calibration(true_sales_sorted, df_products, nb_agents, x3, x5, \n",
    "                     max_revenue, loss_aversion, weights1, weights7):\n",
    "    # Génération des revenus des agents\n",
    "    np.random.seed(np.random.randint(5000))\n",
    "    agents_revenue = np.random.choice(density[1][:-1],nb_agents,p=(density[0]*100))\n",
    "    agents_revenue[agents_revenue==0]=(1300/2)\n",
    "    agents_revenue = np.random.normal(agents_revenue,200)\n",
    "    \n",
    "    data_categories = {\n",
    "        \"Le prix le plus bas\": 8846,\n",
    "        \"L'esthétique / Le design\": 1426,\n",
    "        \"Le respect des normes de qualité, de sécurité\": 8654,\n",
    "    }\n",
    "    \n",
    "    sensitivity_weights = {\n",
    "        \"Le prix le plus bas\": 0.1, \n",
    "        \"L'esthétique / Le design\": weights1, # Entre 0 et 1 \n",
    "        \"Le respect des normes de qualité, de sécurité\": 0.9, \n",
    "    }\n",
    "\n",
    "    calibration_factor = weights7 \n",
    "\n",
    "    # Génération de la sensibilité a la qualité des agents.\n",
    "    sensi_qual = generate_quality_sensitivity_distribution(data_categories, sensitivity_weights, calibration_factor, size=len(agents_revenue))\n",
    "\n",
    "    # Création de la qualité des produits, composée des différentes caractéristiques des produits.\n",
    "    products = np.array([df_products[\"prix\"], np.array(x3 * df_products[\"type_boite\"] + x5 * df_products[\"nb_outils\"])])\n",
    "\n",
    "    # Création de la sensibilité au prix des agents en utilisant les tirages de revenus réalisés précedemment\n",
    "    sensi_prix = np.maximum(0, 1-(agents_revenue/max_revenue))\n",
    "    \n",
    "    # Création des couples sensibilité prix/qualité qui forment les caractéristiques d'un agent. \n",
    "    sensitivity = (np.array([sensi_prix,sensi_qual])).T\n",
    "    # sensitivity a une taille : (nb_agent, 2) \n",
    "    \n",
    "    # Calcul des caractéristiques du produit de références\n",
    "    product_ref_prix = products[0].mean()\n",
    "    product_ref_quality = products[1].mean()\n",
    "\n",
    "    #Calcul de la fonction d'utilité, on réalise tous les calculs en une fois avec du calcul matriciel. \n",
    "    # Initialisation de la matrice des différences (par rapport au produit de référence)\n",
    "    diffs = products.copy() # Copie pour éviter de modifier `products`\n",
    "    diffs[0] = -1 * (products[0] - product_ref_prix) # Différence des prix inversée \n",
    "    # Un prix élevé est perçu comme négatif et à l'inverse une qualité élevée est perçu comme positif.\n",
    "    diffs[1] = products[1] - product_ref_quality\n",
    "\n",
    "    # Application du paramètre d'aversion aux pertes\n",
    "    diffs_lossed = np.where(diffs<0, diffs * loss_aversion, diffs)\n",
    "    \n",
    "    # Préparation pour le calcul matriciel\n",
    "    diffs_expanded = diffs_lossed.T[:, np.newaxis, :]\n",
    "    # Transpose `diffs_lossed` pour avoir une shape de (nb_products, 2),  \n",
    "    # puis ajoute un nouvel axe pour obtenir (nb_products, 1, 2)\n",
    "    sensitivity_expanded = sensitivity[np.newaxis, : , :]\n",
    "    # Ajoute un axe pour avoir une shape de (1, nb_agent, 2),  \n",
    "    # permettant le broadcasting lors de la multiplication\n",
    "    \n",
    "    # Calcul de l’utilité en multipliant les différences avec la sensibilité\n",
    "    utilities = diffs_expanded * sensitivity_expanded\n",
    "    # Broadcasting : (nb_products, 1, 2) * (1, nb_agent, 2)  \n",
    "    # Résultat : (nb_products, nb_agent, 2)\n",
    "    \n",
    "    utilities = np.sum(utilities, axis=-1)\n",
    "    # Somme sur la dernière dimension (somme des contributions du prix et de la qualité)  \n",
    "    # Shape finale : (nb_products, nb_agent)\n",
    "\n",
    "    # Sélection du produit ayant la meilleure utilité pour chaque agent\n",
    "    max_values = np.max(utilities, axis=0)\n",
    "    best_product_indices = np.argmax(utilities, axis=0)  # (num_agents,)\n",
    "\n",
    "    # Comptabilisation du nombre d’agents choisissant chaque produit\n",
    "    results = np.unique(best_product_indices, return_counts=True)\n",
    "    results_sorted = np.zeros(len(true_sales_sorted))\n",
    "    cpt = 0\n",
    "    for i in range(len(results_sorted)):\n",
    "        if cpt>=len(results[0]):\n",
    "            results_sorted = (results_sorted / np.sum(results_sorted)) * 100\n",
    "            true_sales_sorted = (true_sales_sorted / np.sum(true_sales_sorted)) * 100\n",
    "            return np.sum(np.abs(results_sorted - true_sales_sorted))\n",
    "        if i == results[0][cpt]:\n",
    "            results_sorted[i] = results[1][cpt]\n",
    "            cpt+=1\n",
    "    results_sorted = (results_sorted / np.sum(results_sorted)) * 100\n",
    "    true_sales_sorted = (true_sales_sorted / np.sum(true_sales_sorted)) * 100\n",
    "    return np.sum(np.abs(results_sorted - true_sales_sorted))"
   ]
  },
  {
   "cell_type": "code",
   "execution_count": 46,
   "id": "d10df336-fffc-4451-997d-5087ee158d11",
   "metadata": {},
   "outputs": [
    {
     "name": "stdout",
     "output_type": "stream",
     "text": [
      "126.1173166926677\n",
      "Le temps d'exécution de la fonction test_calibration est de 0.004988 secondes.\n"
     ]
    }
   ],
   "source": [
    "start_time = time.time()\n",
    "print(calibration(true_sales_sorted, df_products, 1000, 1, 10, 1000, 10,\n",
    "                       0.1, 1))\n",
    "end_time = time.time()\n",
    "execution_time = end_time - start_time\n",
    "print(f\"Le temps d'exécution de la fonction test_calibration est de {execution_time:.6f} secondes.\")"
   ]
  },
  {
   "cell_type": "markdown",
   "id": "aebdf4f4-8004-43be-a0f6-f57274df2b22",
   "metadata": {},
   "source": [
    "***\n",
    "\n",
    "### GridSearch\n",
    "\n",
    "/!\\ L'éxécution des cellules qui suivent peut être long."
   ]
  },
  {
   "cell_type": "code",
   "execution_count": 79,
   "id": "e3edc0b2-0025-429f-a679-daf31359e215",
   "metadata": {},
   "outputs": [
    {
     "name": "stderr",
     "output_type": "stream",
     "text": [
      "Calibration en cours: 100%|██████████████████████████████| 62500/62500 [1:49:39<00:00,  9.50it/s]\n"
     ]
    },
    {
     "name": "stdout",
     "output_type": "stream",
     "text": [
      "Meilleurs paramètres: (0.0, 0.4444444444444444, 3000.0, 0.0, 1.0, 1.0)\n",
      "Meilleure perte: 9.672386895475821\n"
     ]
    }
   ],
   "source": [
    "from itertools import product\n",
    "from tqdm import tqdm\n",
    "\n",
    "def grid_search_calibration(true_sales_sorted, df_products, nb_agents):\n",
    "    # Définition des grilles de valeurs à tester pour chaque paramètre\n",
    "    x3_values = np.linspace(0, 0.3, 10)  # 5 valeurs entre 0 et 1\n",
    "    x5_values = np.linspace(0, 0.3, 10)\n",
    "    max_revenue_values = np.linspace(1000, 9000, 5)  # 5 valeurs entre 0 et 9000\n",
    "    loss_aversion_values = np.linspace(0, 10, 5)  # 5 valeurs entre 0 et 10\n",
    "    w1_values = np.linspace(0, 1, 5)\n",
    "    w7_values = np.linspace(0, 1, 5)\n",
    "    \n",
    "    # Liste de toutes les combinaisons possibles\n",
    "    param_grid = list(product(x3_values, x5_values, max_revenue_values, \n",
    "                              loss_aversion_values, w1_values, w7_values))\n",
    "    \n",
    "    best_loss = float('inf')\n",
    "    best_params = None\n",
    "    \n",
    "    # Parcours de toutes les combinaisons avec une barre de progression\n",
    "    for params in tqdm(param_grid, desc=\"Calibration en cours\"):\n",
    "        x3, x5, max_revenue, loss_aversion, w1, w7 = params\n",
    "        \n",
    "        # Calcul de la fonction de perte\n",
    "        loss = (calibration(true_sales_sorted, df_products, nb_agents, x3, x5, \n",
    "                                max_revenue, loss_aversion, w1, w7) + calibration(true_sales_sorted, df_products, nb_agents, x3, x5, \n",
    "                                max_revenue, loss_aversion, w1, w7) + calibration(true_sales_sorted, df_products, nb_agents, x3, x5, \n",
    "                                max_revenue, loss_aversion, w1, w7) + calibration(true_sales_sorted, df_products, nb_agents, x3, x5, \n",
    "                                max_revenue, loss_aversion, w1, w7) + calibration(true_sales_sorted, df_products, nb_agents, x3, x5, \n",
    "                                max_revenue, loss_aversion, w1, w7))/5\n",
    "        \n",
    "        # Mise à jour des meilleurs paramètres si meilleure performance\n",
    "        if loss < best_loss:\n",
    "            best_loss = loss\n",
    "            best_params = params\n",
    "    \n",
    "    return best_params, best_loss\n",
    "\n",
    "# Exécution du Grid Search\n",
    "best_params, best_loss = grid_search_calibration(true_sales_sorted, df_products, 641)\n",
    "print(\"Meilleurs paramètres:\", best_params)\n",
    "print(\"Meilleure perte:\", best_loss)\n"
   ]
  },
  {
   "cell_type": "code",
   "execution_count": 76,
   "id": "473d997e-2ffe-4884-ade7-7a5c2db81b8e",
   "metadata": {},
   "outputs": [
    {
     "name": "stdout",
     "output_type": "stream",
     "text": [
      "Optimized Parameters:\n",
      "x3: 0.0, x5: 0.16666666666666666\n",
      "w0: 0.75, w7: 0.0\n",
      "max_revenue: 2777.777777777778, loss_aversion: 2.5\n",
      "7.800312012480504\n",
      "Minimum Loss: 0.31201248049922015\n"
     ]
    }
   ],
   "source": [
    "x3, x5, max_revenue, loss_aversion, w0, w7 = best_params\n",
    "print(\"Optimized Parameters:\")\n",
    "print(f\"x3: {x3}, x5: {x5}\")\n",
    "print(f\"w0: {w0}, w7: {w7}\")\n",
    "print(f\"max_revenue: {max_revenue}, loss_aversion: {loss_aversion}\")\n",
    "print(calibration(true_sales_sorted, df_products, 641, x3, x5,\n",
    "                            max_revenue, loss_aversion, w0, w7))\n",
    "print(f\"Minimum Loss: {result.fun}\")"
   ]
  },
  {
   "cell_type": "markdown",
   "id": "9f20de3e-997a-490c-a686-b091751b4a17",
   "metadata": {},
   "source": [
    "***\n",
    "### Calibration \"_differential_evolution_\"\n",
    "\n",
    "On utilise \"_differential_evolution_\" de la bibliothèque scipy.optimize. Cette calibration est plus rapide, quelque minutes, contre quelque heures pour la calibration Grid Search."
   ]
  },
  {
   "cell_type": "code",
   "execution_count": 83,
   "id": "eb43be31-052b-48f5-ae09-6d337a00004c",
   "metadata": {},
   "outputs": [
    {
     "name": "stdout",
     "output_type": "stream",
     "text": [
      "Optimized Parameters:\n",
      "x3: 0.2399701067149994, x5: 0.15066952660211808\n",
      "w0: 0.03274523048860872, w7: 0.9193377155138657\n",
      "max_revenue: 2531.329840657556, loss_aversion: 2.243490641312851\n",
      "5.30421216848675\n",
      "Minimum Loss: 2.1216848673946984\n"
     ]
    }
   ],
   "source": [
    "from scipy.optimize import differential_evolution\n",
    "import numpy as np\n",
    "\n",
    "# Mise à jour des bornes\n",
    "bounds = [\n",
    "    (0, 1),  # x3\n",
    "    (0, 1),  # x5\n",
    "    (0, 9000),  # max_revenue\n",
    "    (0, 10),  # loss_aversion\n",
    "    (0, 1),   # w1\n",
    "    (0, 1)    # w7\n",
    "]\n",
    "\n",
    "# Fonction d'évaluation\n",
    "def objective_function(params):\n",
    "    x3, x5, max_revenue, loss_aversion, w1, w7 = params\n",
    "    \n",
    "    # Appeler la fonction de simulation\n",
    "    loss = (calibration(true_sales_sorted, df_products, 641, x3, x5, \n",
    "                                max_revenue, loss_aversion, w1, w7) + calibration(true_sales_sorted, df_products, 641, x3, x5, \n",
    "                                max_revenue, loss_aversion, w1, w7) + calibration(true_sales_sorted, df_products, 641, x3, x5, \n",
    "                                max_revenue, loss_aversion, w1, w7) + calibration(true_sales_sorted, df_products, 641, x3, x5, \n",
    "                                max_revenue, loss_aversion, w1, w7) + calibration(true_sales_sorted, df_products, 641, x3, x5, \n",
    "                                max_revenue, loss_aversion, w1, w7))/5\n",
    "    return loss\n",
    "\n",
    "# Optimisation par Differential Evolution\n",
    "result = differential_evolution(objective_function, bounds, strategy='best1bin', maxiter=100, popsize=20, tol=1e-7)\n",
    "\n",
    "# Résultats\n",
    "best_params = result.x\n",
    "x3, x5, max_revenue, loss_aversion, w0, w7 = best_params\n",
    "\n",
    "print(\"Optimized Parameters:\")\n",
    "print(f\"x3: {x3}, x5: {x5}\")\n",
    "print(f\"w0: {w0}, w7: {w7}\")\n",
    "print(f\"max_revenue: {max_revenue}, loss_aversion: {loss_aversion}\")\n",
    "print(calibration(true_sales_sorted, df_products, 641, x3, x5,\n",
    "                            max_revenue, loss_aversion, w0, w7))\n",
    "print(f\"Minimum Loss: {result.fun}\")"
   ]
  },
  {
   "cell_type": "markdown",
   "id": "2e7ce8b9-5302-4877-b24b-6fd578911da9",
   "metadata": {},
   "source": [
    "***\n",
    "\n",
    "### Résultats"
   ]
  },
  {
   "cell_type": "code",
   "execution_count": null,
   "id": "dfa9a3ce-be9c-4c96-9cee-9268bb708aa0",
   "metadata": {},
   "outputs": [],
   "source": [
    "params_calib = [0.1470951699029322, 0.10950094313138714, 2624.4162794437734, 2.7268455989921705]"
   ]
  },
  {
   "cell_type": "code",
   "execution_count": null,
   "id": "f264447f-c97e-4d0d-a343-4e7a4066ae47",
   "metadata": {},
   "outputs": [],
   "source": []
  },
  {
   "cell_type": "code",
   "execution_count": null,
   "id": "8b3d62f5-a982-4110-bb56-0c3df382ad07",
   "metadata": {},
   "outputs": [],
   "source": []
  }
 ],
 "metadata": {
  "kernelspec": {
   "display_name": "Python 3 (ipykernel)",
   "language": "python",
   "name": "python3"
  },
  "language_info": {
   "codemirror_mode": {
    "name": "ipython",
    "version": 3
   },
   "file_extension": ".py",
   "mimetype": "text/x-python",
   "name": "python",
   "nbconvert_exporter": "python",
   "pygments_lexer": "ipython3",
   "version": "3.10.11"
  }
 },
 "nbformat": 4,
 "nbformat_minor": 5
}
