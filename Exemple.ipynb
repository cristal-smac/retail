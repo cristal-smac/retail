{
 "cells": [
  {
   "cell_type": "code",
   "execution_count": null,
   "id": "favorite-toddler",
   "metadata": {},
   "outputs": [],
   "source": [
    "import numpy as np\n",
    "import matplotlib.pyplot as plt\n",
    "import seaborn as sns\n",
    "import math\n",
    "import pandas as pd\n",
    "import copy\n",
    "import time\n",
    "sns.set_theme()\n",
    "from IPython.display import set_matplotlib_formats"
   ]
  },
  {
   "cell_type": "code",
   "execution_count": null,
   "id": "worth-hartford",
   "metadata": {},
   "outputs": [],
   "source": [
    "from src.model import *"
   ]
  },
  {
   "cell_type": "markdown",
   "id": "ongoing-graphics",
   "metadata": {},
   "source": [
    "# Simulation des promotions d'un supermarché \n",
    "\n",
    "Création le 05/12/2022"
   ]
  },
  {
   "cell_type": "markdown",
   "id": "herbal-iraqi",
   "metadata": {},
   "source": [
    "## Introduction\n",
    "\n",
    "Cette feuille Jupyter a pour objectif de montrer un exemple d'utilisation du modèle proposé dans l'article \"Comprendre l'impact des stratégies de prix sur le comportement des consommateurs\". \n",
    "Ce modèle permet notamment de construire un outil de simulation reproduisant des faits marketings connus.\n",
    "Ce notebook détaille ce modèle et en présente les résultats principaux.\n",
    "\n",
    "Dans ce modèle on représente un supermarché dans lequel on vend des biens de consommation courante. Les agents sont des entités (une personne, une famille etc.) représentant les clients, ayant chacun des paramètres internes uniques. \n",
    "\n",
    "Ce modèle ne prend pas en compte la géographie du magasin ni l'emplacement des produits. \n",
    "\n"
   ]
  },
  {
   "cell_type": "markdown",
   "id": "optional-empire",
   "metadata": {},
   "source": [
    "### Les produits\n",
    "Les produits sont des biens de consommation simple, disposant de 4 caractéristiques : un prix, une qualité, une quantité, et un booléen de promotion. On leur ajoute un nom afin de pouvoir les appeler plus simplement. la notion de produit est à comprendre au sens large : un singleton ou éventuellement un lot.\n",
    "\n",
    "Ils sont instanciés via la classe `Product(Nom,Prix,Qualité,Quantité)`. Le prix est un prix unitaire, la qualité un réel entre 0 et 1 et la quantité le nombre d'unités présentes dans le paquet. La quantité de produit fait référence au nombre de produits unitaires dans un pack. Pour des raisons de simplicité, nous ne modélisons pas le volume d'un produit (en gramme, en ml, etc.). Ce modèle se focalise sur les promotions et donc s'interesse principalement à la notion de lots.\n"
   ]
  },
  {
   "cell_type": "code",
   "execution_count": null,
   "id": "union-submission",
   "metadata": {},
   "outputs": [],
   "source": [
    "p0 = Product(\"Pâtes de marque X\",2.3,0.5,2)"
   ]
  },
  {
   "cell_type": "markdown",
   "id": "fifth-victory",
   "metadata": {},
   "source": [
    "Le produit `p0` ici créé possède un prix unitaire de `2.3`, mais aussi un prix global pour l'ensemble."
   ]
  },
  {
   "cell_type": "code",
   "execution_count": null,
   "id": "dominant-clause",
   "metadata": {},
   "outputs": [],
   "source": [
    "p0.get_price_unit(),p0.get_price_total()"
   ]
  },
  {
   "cell_type": "markdown",
   "id": "fancy-bicycle",
   "metadata": {},
   "source": [
    "Pour plus de réalisme les produits sont répartis en différentes catégories. Une catégorie représente un groupe de produits comparables entre eux. Dans ce modèle un client ne choisira qu'un seul article dans une catégorie donnée.\n",
    "\n",
    "Une catégorie de produit est instancié avec `ProductsCategorie(nom,liste des produits)`. La création d'une catégorie nécéssite une liste de produits. La liste de produits peut être initialement vide, on ajoutera alors les produits après au fur et à mesure grace à la méthode `add_product(produit)`. "
   ]
  },
  {
   "cell_type": "code",
   "execution_count": null,
   "id": "satellite-berkeley",
   "metadata": {},
   "outputs": [],
   "source": [
    "cat = ProductsCategorie(\"test\",[p0])\n",
    "cat.show_products()\n",
    "c"
   ]
  },
  {
   "cell_type": "code",
   "execution_count": null,
   "id": "behind-activity",
   "metadata": {},
   "outputs": [],
   "source": [
    "P1 = Product(\"Pâtes de marque Y\",1.6,0.4,4)\n",
    "cat.add_product(P1)\n",
    "cat.show_products()\n",
    "P1."
   ]
  },
  {
   "cell_type": "markdown",
   "id": "2d7fa7b7",
   "metadata": {},
   "source": [
    "- Un produit est donc caratérisé par 4 attributs et donne accès à plusierus méthodes dont ``,``\n",
    "- Une catégorie est uniquement caractérisée par son nom et les produits qu'elle contient. Elle donne accès à plusierus méthodes dont ``,``"
   ]
  },
  {
   "cell_type": "markdown",
   "id": "aquatic-arrangement",
   "metadata": {},
   "source": [
    "### L'environnement\n",
    "\n",
    "L'environnement correspond au supermarché. On ne s'interesse pas dans ce modèle au placement des produits, il est donc constitué uniquement de la liste de sproduits qu'il contient. Afin de l'instancier on lui fournit une liste de catégories qui elles-mêmes contiennent les produits. \n",
    "Un magasin plus complet devrait contenir plusieurs catégories contenant plusieurs produits. Dans cet exemple une seul catégorie nous suffit pour illustrer les résulats. \n",
    "Le environnement est instancié avec Environment(Une liste de catégories de produits [cat1,cat2,...], le nombre d'agents, le nombre de pas de temps de simulation).\n",
    "\n",
    "Dans ce modèle, nous partons du principe que les produits sont disponibles en quantité infinie. Il n'y a donc pas de quantité en stock ni de rupture de stock. \n",
    "\n",
    "Le paramètre \"nombre d'agents\" génère `n` agents dont les caractéristiques sont aléatoires (besoins, sensibilités etc ...).\n",
    "\n",
    "On crée tout d'abord un environnement sans agent. "
   ]
  },
  {
   "cell_type": "code",
   "execution_count": null,
   "id": "secret-rabbit",
   "metadata": {},
   "outputs": [],
   "source": [
    "mon_environnement = Environment([cat],0,10)"
   ]
  },
  {
   "cell_type": "markdown",
   "id": "freelance-expense",
   "metadata": {},
   "source": [
    "L'environnement dispose de quelque paramètre à initialiser, nous reviendrons sur l'impact de certains d'entre eux après pour le moment nous les initialisons à une valeur prédéfinie lors de l'initialisation."
   ]
  },
  {
   "cell_type": "code",
   "execution_count": null,
   "id": "injured-fifty",
   "metadata": {},
   "outputs": [],
   "source": [
    "mon_environnement.initialise()"
   ]
  },
  {
   "cell_type": "markdown",
   "id": "failing-aquatic",
   "metadata": {},
   "source": [
    "Pour l'instant il n'y a pas d'agent. Si on lance une simulation maintenant, rien ne se passe.\n",
    "L'attribut `revenus` permet d'obtenir le chiffre d'affaire obtenu à chaque pas de temps de simulation.\n",
    "Nous avons indiqué précédemment notre souhait d'avoir 10 tours de parole, si on execute le SMA, on obtient alors une 10 valeurs, pour l'instant toutes à zero puisqu'il n'y a personne."
   ]
  },
  {
   "cell_type": "code",
   "execution_count": null,
   "id": "stylish-substitute",
   "metadata": {},
   "outputs": [],
   "source": [
    "mon_environnement.run()\n",
    "mon_environnement.revenues"
   ]
  },
  {
   "cell_type": "markdown",
   "id": "likely-tackle",
   "metadata": {},
   "source": [
    "### Les agents\n",
    "\n",
    "Les agents représentent les clients. Un client est défini comme une entité qui représente généralement une famille (un panier de courses) capable de faire des choix sur les produits dont il a besoin pour pour son processus d'achat. \n",
    "Un agent est instancié avec la méthode `Agent(l'environnement, éventuellement un historique, éventuellement un profil)`"
   ]
  },
  {
   "cell_type": "code",
   "execution_count": null,
   "id": "aquatic-banking",
   "metadata": {},
   "outputs": [],
   "source": [
    "mon_premier_agent = Agent(\"Mon 1er agent\",mon_environnement)"
   ]
  },
  {
   "cell_type": "markdown",
   "id": "formed-render",
   "metadata": {},
   "source": [
    "Cet agent dispose d'un historique d'achats et d'un profil tirés aléatoirement. \n",
    "#### Les profils / sensibilités\n",
    "Les profils pouvant être tirés sont les suivants : \"Prix, Qualité, Promophile, Intertiel, Equilibré\". Un profil de type \"Prix\" accorde beaucoup d'importance aux prix des produits, c'est l'équivalent d'un agent a petit budget. A l'invere un agent de type \"Qualité\" est un agent qui accorde beaucoup d'importance à la qualité, c'est l'équivalent d'un agent qui dispose d'un gros budget et est prêt à essayer des nouveaux produits si ceux-ci sont de bonne qualité. Ces profils suivent la même idée pour le profil \"Promohpile\", et \"Inertiel\" le profile equilibré accorde une importance a peu près similaire a tous ces attributs. Les profiles déterminent les sensibilités les \"Beta_p,Beta_q,Beta_i,Beta_d\" qui sont les paramètres qui modulent comment les agents évalue les produits et par conséquence ce que les agents choisissent comme produits."
   ]
  },
  {
   "cell_type": "code",
   "execution_count": null,
   "id": "moved-arrangement",
   "metadata": {},
   "outputs": [],
   "source": [
    "mon_premier_agent.get_sensibility()"
   ]
  },
  {
   "cell_type": "markdown",
   "id": "brazilian-trance",
   "metadata": {},
   "source": [
    "On remarque que cet agent est un agent type \"Prix\" car sa sansibilité au prix est plus élevée que les autres.\n",
    "\n",
    "Pour créer un profile personalisé il faut utiliser : Profile(liste des sensibilités) \n",
    "##### la liste des sensibilités est dans cet ordre: \"Prix, Qualité, Inertie, Promopilie\"\n",
    "Au plus la valeur est élevée par rapport aux autre valeurs au plus l'agent accorde d'importance à ce paramètre. (Les valeurs passés sont normalisés de façon à ce que la somme fasse 1.)"
   ]
  },
  {
   "cell_type": "code",
   "execution_count": null,
   "id": "velvet-bronze",
   "metadata": {},
   "outputs": [],
   "source": [
    "mon_profil = Profile([100,10,6,100])\n",
    "mon_profil.get_profile()"
   ]
  },
  {
   "cell_type": "markdown",
   "id": "regulated-georgia",
   "metadata": {},
   "source": [
    "Il suffit maintenant de passer ce profile à la création d'un nouvel agent. "
   ]
  },
  {
   "cell_type": "code",
   "execution_count": null,
   "id": "silent-display",
   "metadata": {},
   "outputs": [],
   "source": [
    "mon_agent_personalisé = Agent(\"Agent 2\",mon_environnement,profile=mon_profil.get_profile())"
   ]
  },
  {
   "cell_type": "markdown",
   "id": "banner-copyright",
   "metadata": {},
   "source": [
    "### L'historique\n",
    "\n",
    "L'historique représente les derniers achats d'un agent par catégorie. Cet historique est un dictionnaire dont la clé est le nom de la catégorie et les valeurs la liste des produits achetés par cet agent. de produit de l'environnement en type (quel produit) et en quantité (le nombre du produit acheté).\n",
    "Voici un aperçu de l'historique généré aléatoirement des agents que nous avons crées. Les clés sont les différentes catégories."
   ]
  },
  {
   "cell_type": "code",
   "execution_count": null,
   "id": "cooperative-stamp",
   "metadata": {},
   "outputs": [],
   "source": [
    "mon_premier_agent.get_history()"
   ]
  },
  {
   "cell_type": "markdown",
   "id": "helpful-boating",
   "metadata": {},
   "source": [
    "Pour réaliser un historique il y a 2 méthodes, History_gen(Catégories de produits, liste des Lambdas) et History (dict{catégorie1:achats,...},dict{catégorie1:quantité,....}). La première méthode génère un historique a partir de la liste des lambda de chaque catégorie. La seconde nécéssite un historique complet. "
   ]
  },
  {
   "cell_type": "code",
   "execution_count": null,
   "id": "offensive-garbage",
   "metadata": {},
   "outputs": [],
   "source": [
    "H = History_gen([cat],10)"
   ]
  },
  {
   "cell_type": "code",
   "execution_count": null,
   "id": "diagnostic-temperature",
   "metadata": {},
   "outputs": [],
   "source": [
    "mon_second_agent_personalisé = Agent(\"Agent 3\",mon_environnement,profile=mon_profil.get_profile(),history = H)"
   ]
  },
  {
   "cell_type": "markdown",
   "id": "deluxe-documentation",
   "metadata": {},
   "source": [
    "Ajoutons ces 3 agents à notre environnement. Attention a bien passer une liste en paramètre."
   ]
  },
  {
   "cell_type": "code",
   "execution_count": null,
   "id": "eleven-sympathy",
   "metadata": {},
   "outputs": [],
   "source": [
    "mon_environnement.add_agent([mon_premier_agent,mon_agent_personalisé,mon_second_agent_personalisé])"
   ]
  },
  {
   "cell_type": "markdown",
   "id": "allied-kenya",
   "metadata": {},
   "source": [
    "## La simulation\n",
    "\n",
    "Maintenant nous disposons de tout ce dont nous avons besoin pour réaliser une simulation. La simulation peut être lancée plusieurs fois, un résultat différent devrait apparaître. Cela est du a l'aléatoire du modèle notamment dans le choix des agents, l'agent choisi un produit d'une catégorie selon une loi de probabilité propotionnel au score du produit. "
   ]
  },
  {
   "cell_type": "code",
   "execution_count": null,
   "id": "recognized-shell",
   "metadata": {},
   "outputs": [],
   "source": [
    "mon_environnement.initialise()\n",
    "mon_environnement.run()\n",
    "mon_environnement.revenues"
   ]
  },
  {
   "cell_type": "markdown",
   "id": "altered-termination",
   "metadata": {},
   "source": [
    "Voici les revenues/chiffre d'affaires qui correspond à : pour tous les agents (produits achetés * quantité acheté * prix) \n",
    "Pour mieux comprendre les mécanismes du modèle je vous propose d'afficher une trace de ce que nos agents ont pu acheter"
   ]
  },
  {
   "cell_type": "code",
   "execution_count": null,
   "id": "constitutional-miami",
   "metadata": {},
   "outputs": [],
   "source": [
    "mon_environnement.initialise()\n",
    "mon_environnement.run(trace=True)\n",
    "mon_environnement.revenues"
   ]
  },
  {
   "cell_type": "markdown",
   "id": "thousand-saying",
   "metadata": {},
   "source": [
    "Voici pour la création d'un environnement basique. Maintenant nous allons générer un environnement plus dense (avec plus d'agents et de produits). Nous resterons sur des simulations avec une seul catégorie de produit car les catégories de produits ne s'influencent pas entre-elles. Cette influence est un développement futur auquel nous avons pensé. On pourrait imaginer par exemple qu'un achat de pâtes impact l'achat de riz, ou d'un autre type de pâtes. \n",
    "\n",
    "Créons d'abord une catégorie de produit contenant 9 produits. Nous avons choisi de faire 9 produits assez similaire notamment sur le ratio qualité/prix. C'est pour éviter l'apparition d'un \"super produit\", de meilleur qualité et moins cher que les autres, que tous les agents achèterais. Il est tout à fait possible de créer cette catégorie à la main ou de tout autre manière"
   ]
  },
  {
   "cell_type": "code",
   "execution_count": null,
   "id": "brilliant-courtesy",
   "metadata": {},
   "outputs": [],
   "source": [
    "base_price = np.random.randint(10, 100)\n",
    "products = []\n",
    "for j in range(3):\n",
    "    price = base_price + np.random.normal(0,(base_price/4))   # On tire un prix de base aléatoire\n",
    "    quality = np.random.normal((price/100),0.1)               # On tire une qualité proportionelle au prix\n",
    "    for i in range(3):                                        # Création de 3 produits qu'on considerera d'une même marque (même qualité)\n",
    "        products.append(Product((\"Produit \" + str(i+(j*3))), price, np.absolute(quality), 2 * (i+1)))\n",
    "        price = price * 0.9                                   # On estime que le prix à l'unité est plus bas sur les produits vendu en grand quantité\n",
    "Ma_categorie = ProductsCategorie(\"Ma_categorie\", products)"
   ]
  },
  {
   "cell_type": "markdown",
   "id": "short-banking",
   "metadata": {},
   "source": [
    "Créons l'environnement"
   ]
  },
  {
   "cell_type": "code",
   "execution_count": null,
   "id": "nervous-egypt",
   "metadata": {},
   "outputs": [],
   "source": [
    "environnement_test = Environment([Ma_categorie],300,100)"
   ]
  },
  {
   "cell_type": "code",
   "execution_count": null,
   "id": "rapid-oakland",
   "metadata": {},
   "outputs": [],
   "source": [
    "environnement_test.initialise()"
   ]
  },
  {
   "cell_type": "code",
   "execution_count": null,
   "id": "dirty-reaction",
   "metadata": {},
   "outputs": [],
   "source": [
    "environnement_test.run()\n",
    "plt.plot(environnement_test.revenues)"
   ]
  },
  {
   "cell_type": "code",
   "execution_count": null,
   "id": "stylish-bandwidth",
   "metadata": {},
   "outputs": [],
   "source": [
    "environnement_test.show_sales()"
   ]
  },
  {
   "cell_type": "code",
   "execution_count": null,
   "id": "direct-giving",
   "metadata": {},
   "outputs": [],
   "source": [
    "environnement_test.show_sales_separated()"
   ]
  },
  {
   "cell_type": "code",
   "execution_count": null,
   "id": "widespread-earthquake",
   "metadata": {},
   "outputs": [],
   "source": [
    "environnement_test.show_sales_separated()"
   ]
  },
  {
   "cell_type": "markdown",
   "id": "broadband-klein",
   "metadata": {},
   "source": [
    "## La promotion\n",
    "Maintenant que nous avons pu voir toutes les étapes de la création de l'environnement et qu'il dispose de toutes les informations nécéssaires  nous allons pouvoir appliquer différentes promotions à notre modèle via la méthode de l'environnement make_promo(type de promotion, le pourentage de la promotion (si c'est une promotion en %), pas de temps du début de la prodmotion, pas de temps d'arrivée, le produit sur lequel faire la promotion). ce qui nous donne par exemple (0,40,(30,34),0,0)\n",
    ": 0 pour une promotion en %, 40 pour 40% (30 pas de temps de départ, 34, pas de temps d'arrêt) et 0,0 pour la catégorie 0 produit 0"
   ]
  },
  {
   "cell_type": "code",
   "execution_count": null,
   "id": "recognized-drawing",
   "metadata": {},
   "outputs": [],
   "source": [
    "environnement_test.initialise()\n",
    "environnement_test.make_promo((0,40,(30,34),0,0))\n",
    "environnement_test.run()"
   ]
  },
  {
   "cell_type": "code",
   "execution_count": null,
   "id": "naked-trust",
   "metadata": {},
   "outputs": [],
   "source": [
    "plt.plot(environnement_test.revenues)"
   ]
  },
  {
   "cell_type": "code",
   "execution_count": null,
   "id": "collected-appliance",
   "metadata": {},
   "outputs": [],
   "source": [
    "environnement_test.show_sales()"
   ]
  },
  {
   "cell_type": "code",
   "execution_count": null,
   "id": "future-consumer",
   "metadata": {},
   "outputs": [],
   "source": [
    "environnement_test.show_sales_separated()"
   ]
  },
  {
   "cell_type": "markdown",
   "id": "incomplete-sharp",
   "metadata": {},
   "source": [
    "On peut voir sur cette simulation que le produit 0 qui est le produit en promotion vois une forte augmentation de ses ventes durant la promotion. \n",
    "Afin de pouvoir observer l'impact des promotions plus préciséments nous allons comparer une même simulation avec et sans promotion. \n",
    "\n",
    "Afin d'avoir les mêmes agents dans chaque simulation pour la comparaison nous proposons de fixer la graine aléatoire. "
   ]
  },
  {
   "cell_type": "code",
   "execution_count": null,
   "id": "bearing-edwards",
   "metadata": {},
   "outputs": [],
   "source": [
    "np.random.seed(3)\n",
    "base_price = np.random.randint(10, 100)\n",
    "products = []\n",
    "for j in range(3):\n",
    "    price = base_price + np.random.normal(0,(base_price/4))   # On tire un prix de base aléatoire\n",
    "    quality = np.random.normal((price/100),0.1)               # On tire une qualité proportionelle au prix\n",
    "    for i in range(3):                                        # Création de 3 produits qu'on considerera d'une même marque (même qualité)\n",
    "        products.append(Product((\"Produit \" + str(i+(j*3))), price, np.absolute(quality), 2 * (i+1)))\n",
    "        price = price * 0.9                                   # On estime que le prix à l'unité est plus bas sur les produits vendu en grand quantité\n",
    "Ma_categorie = ProductsCategorie(\"Ma_categorie\", products)"
   ]
  },
  {
   "cell_type": "code",
   "execution_count": null,
   "id": "still-condition",
   "metadata": {},
   "outputs": [],
   "source": [
    "np.random.seed(3)\n",
    "environnement_promo = Environment([Ma_categorie],300,100)\n",
    "np.random.seed(3)\n",
    "environnement_sans_promo = Environment([Ma_categorie],300,100)"
   ]
  },
  {
   "cell_type": "code",
   "execution_count": null,
   "id": "cutting-pavilion",
   "metadata": {},
   "outputs": [],
   "source": [
    "environnement_promo.initialise()\n",
    "environnement_promo.make_promo((0,40,(30,34),0,0))\n",
    "environnement_sans_promo.initialise()"
   ]
  },
  {
   "cell_type": "code",
   "execution_count": null,
   "id": "bright-antique",
   "metadata": {},
   "outputs": [],
   "source": [
    "environnement_promo.run()\n",
    "environnement_sans_promo.run()"
   ]
  },
  {
   "cell_type": "markdown",
   "id": "outside-lafayette",
   "metadata": {},
   "source": [
    "Si on veut, il est possible d'afficher les résultats sur une même figure de cette manière :"
   ]
  },
  {
   "cell_type": "code",
   "execution_count": null,
   "id": "twenty-yorkshire",
   "metadata": {},
   "outputs": [],
   "source": [
    "fig,axs = plt.subplots(1,2,figsize=(12,4))\n",
    "axs[0].plot(environnement_sans_promo.get_sales())\n",
    "axs[1].plot(environnement_promo.get_sales())"
   ]
  },
  {
   "cell_type": "markdown",
   "id": "confidential-decline",
   "metadata": {},
   "source": [
    "On peut observer le pic des ventes du produit 0 (en bleu) au moment de la promotion ainsi qu'une certaine fidélisation. De plus nous il ne faut pas oublier que maintenant nous avons fixé une graine aléatoire, les résutats si le code est le même, seront inchangé malgrés l'aléatoire du modèle. "
   ]
  },
  {
   "cell_type": "markdown",
   "id": "infinite-conversation",
   "metadata": {},
   "source": [
    "## Un test plus simple pour la guerre des prix\n",
    "\n",
    "On génère 2 produits assez similaires, un porté sur la qualité, l'autre sur le prix. On peut aussi imaginer deux produits très différents en terme de prix/qualité ou encore 2 produits encore plus similaires. Ces caratéristiques auront un impact sur les courbes que nous allons observer. Le but ici est de présenter une guerre des prix, avec des baisses successives du prix des produits. \n",
    "\n",
    "Dans un premier temps la méthode Environment.get_favorites() permet de récupérer pour chaque produit le nombre d'agent ayant pour favorit le produit. Un agent a pour produit favori celui qu'il le plus acheté dans l'historique de l'agent. Voici comment utiliser get_favorites():"
   ]
  },
  {
   "cell_type": "code",
   "execution_count": null,
   "id": "higher-heaven",
   "metadata": {},
   "outputs": [],
   "source": [
    "#On fait la simulation\n",
    "cat_0 = ProductsCategorie(\"catégorie 0\",[Product(\"Produit_A\", 10, 0.5, 1), Product(\"Produit_B\", 12, 0.7, 1)])\n",
    "envrionnement_price_war = Environment([cat_0],300,10)\n",
    "envrionnement_price_war.initialise()\n",
    "envrionnement_price_war.run()\n",
    "#On récupère les informations\n",
    "results = envrionnement_price_war.get_favorites()\n",
    "results"
   ]
  },
  {
   "cell_type": "markdown",
   "id": "previous-patient",
   "metadata": {},
   "source": [
    "Il ne reste plus qu'à afficher les résultats."
   ]
  },
  {
   "cell_type": "code",
   "execution_count": null,
   "id": "optical-hawaii",
   "metadata": {},
   "outputs": [],
   "source": [
    "plt.plot(results['Produit_A'],label='Produit_A')\n",
    "plt.plot(results['Produit_B'],label='Produit_B')\n",
    "plt.legend()"
   ]
  },
  {
   "cell_type": "markdown",
   "id": "continued-playing",
   "metadata": {},
   "source": [
    "Une autre manière d'afficher si il y a plus de produits par exemple"
   ]
  },
  {
   "cell_type": "code",
   "execution_count": null,
   "id": "right-sodium",
   "metadata": {},
   "outputs": [],
   "source": [
    "for k in results.keys():\n",
    "    plt.plot(results[k],label=k)\n",
    "plt.legend()"
   ]
  },
  {
   "cell_type": "markdown",
   "id": "vocational-rescue",
   "metadata": {},
   "source": [
    "On relance une simulation avec des produits différents pour illustrer le fait qu'avec seulement 2 produits en concurence direct leurs paramètres ont une grand importance. \n",
    "\n",
    "De plus il ne faut pas oublier la prise en compte des paramètres globaux dont on parlera dans la prochaine section pouvant faire varier l'importance du prix ou de la qualité. "
   ]
  },
  {
   "cell_type": "code",
   "execution_count": null,
   "id": "suited-croatia",
   "metadata": {},
   "outputs": [],
   "source": [
    "cat_0 = ProductsCategorie(\"catégorie 0\",[Product(\"Produit_A\", 6, 0.6, 1), Product(\"Produit_B\", 24, 0.7, 1)])\n",
    "envrionnement_price_war = Environment([cat_0],300,10)\n",
    "envrionnement_price_war.initialise()\n",
    "envrionnement_price_war.run()\n",
    "#On récupère les informations\n",
    "results = envrionnement_price_war.get_favorites()\n",
    "results\n",
    "for k in results.keys():\n",
    "    plt.plot(results[k],label=k)\n",
    "plt.legend()"
   ]
  },
  {
   "cell_type": "markdown",
   "id": "surprised-tonight",
   "metadata": {},
   "source": [
    "Nous allons réaliser des simulations de 100 pas de temps à graine aléatoire fixé (pour la comparaison)\n",
    "\n",
    "Maintenant nous allons réaliser une simulation un peu plus longue sans changement de prix."
   ]
  },
  {
   "cell_type": "code",
   "execution_count": null,
   "id": "referenced-public",
   "metadata": {},
   "outputs": [],
   "source": [
    "np.random.seed(42)\n",
    "#On fait la simulation\n",
    "cat_0 = ProductsCategorie(\"catégorie 0\",[Product(\"Produit_A\", 100, 0.5, 1), Product(\"Produit_B\", 120, 0.6, 1)])\n",
    "envrionnement_price_war = Environment([cat_0],300,100)\n",
    "envrionnement_price_war.initialise()\n",
    "envrionnement_price_war.run()\n",
    "#On récupère les informations\n",
    "chiffreAffaires = envrionnement_price_war.revenues\n",
    "favoris = envrionnement_price_war.get_favorites()"
   ]
  },
  {
   "cell_type": "code",
   "execution_count": null,
   "id": "dangerous-border",
   "metadata": {},
   "outputs": [],
   "source": [
    "fig,axs = plt.subplots(1,2,figsize=(12,4))\n",
    "axs[0].plot(chiffreAffaires)\n",
    "for k in favoris.keys():\n",
    "    axs[1].plot(favoris[k],label=k)\n",
    "axs[1].legend()"
   ]
  },
  {
   "cell_type": "markdown",
   "id": "loving-plant",
   "metadata": {},
   "source": [
    "Nouvelle simulation avec une baisse du prix uniquement du produit A\n",
    "\n",
    "Un changement de prix s'effectue avec la méthode reduce_price(pourcentage, tick d'effet, le produit) ou raise_price(pourcentage, tick d'effet, le produit). ce qui donne par exemple reduce_price(20, 30, 0, 0)"
   ]
  },
  {
   "cell_type": "code",
   "execution_count": null,
   "id": "viral-modem",
   "metadata": {},
   "outputs": [],
   "source": [
    "np.random.seed(42)\n",
    "#On fait la simulation\n",
    "cat_0 = ProductsCategorie(\"catégorie 0\",[Product(\"Produit_A\", 100, 0.5, 1), Product(\"Produit_B\", 120, 0.6, 1)])\n",
    "envrionnement_price_war = Environment([cat_0],300,100)\n",
    "envrionnement_price_war.initialise()\n",
    "#On indique à quel moment à lieu la baisse de prix ()\n",
    "envrionnement_price_war.reduce_price(40, 30, 0, 0)\n",
    "envrionnement_price_war.run()\n",
    "#On récupère les informations\n",
    "chiffreAffaires = envrionnement_price_war.revenues\n",
    "favoris = envrionnement_price_war.get_favorites()"
   ]
  },
  {
   "cell_type": "code",
   "execution_count": null,
   "id": "crucial-burns",
   "metadata": {},
   "outputs": [],
   "source": [
    "fig,axs = plt.subplots(1,2,figsize=(12,4))\n",
    "axs[0].plot(chiffreAffaires)\n",
    "for k in favoris.keys():\n",
    "    axs[1].plot(favoris[k],label=k)\n",
    "axs[1].legend()"
   ]
  },
  {
   "cell_type": "markdown",
   "id": "derived-german",
   "metadata": {},
   "source": [
    "Finalement on réalise une simulation avec ce qu'on entend par guerre des prix, c'est à dire, le prix du produit B baisse ce qui entraine une baisse du prix du produit A ce qui entraine une baisse du produit B etc. "
   ]
  },
  {
   "cell_type": "code",
   "execution_count": null,
   "id": "statewide-vertical",
   "metadata": {},
   "outputs": [],
   "source": [
    "np.random.seed(42)\n",
    "#On fait la simulation\n",
    "cat_0 = ProductsCategorie(\"catégorie 0\",[Product(\"Produit_A\", 100, 0.5, 1), Product(\"Produit_B\", 120, 0.6, 1)])\n",
    "envrionnement_price_war = Environment([cat_0],300,100)\n",
    "envrionnement_price_war.initialise()\n",
    "#On indique à quel moment à lieu la baisse de prix ()\n",
    "envrionnement_price_war.reduce_price(20, 10, 0, 0)\n",
    "envrionnement_price_war.reduce_price(20, 20, 0, 1)\n",
    "envrionnement_price_war.reduce_price(20, 30, 0, 0)\n",
    "envrionnement_price_war.reduce_price(20, 40, 0, 1)\n",
    "# envrionnement_price_war.reduce_price(20, 50, 0, 1)\n",
    "# envrionnement_price_war.reduce_price(20, 60, 0, 1)\n",
    "envrionnement_price_war.run()\n",
    "#On récupère les informations\n",
    "chiffreAffaires = envrionnement_price_war.revenues\n",
    "favoris = envrionnement_price_war.get_favorites()"
   ]
  },
  {
   "cell_type": "code",
   "execution_count": null,
   "id": "imposed-proportion",
   "metadata": {},
   "outputs": [],
   "source": [
    "fig,axs = plt.subplots(1,2,figsize=(12,4))\n",
    "axs[0].plot(chiffreAffaires)\n",
    "for k in favoris.keys():\n",
    "    axs[1].plot(favoris[k],label=k)\n",
    "axs[1].legend()"
   ]
  },
  {
   "cell_type": "markdown",
   "id": "played-physiology",
   "metadata": {},
   "source": [
    "## Les paramètres du modèle\n",
    "Le modèle dispose de 7 paramètres : prix, qualité, promophile, sat_alpha, phi, c, inertie. \n",
    "Prix qualité promophile et inertie sont des paramètres que gèrent l'importance global pour les agents du prix de la qualité de la promotion et de l'inertie.\n",
    "\n",
    "Un prix à 1 avec les autres valeurs à 0 signifierais que les agents prennent tous uniquement en compte le prix des produits pour déterminer leurs achats.\n",
    "\n",
    "sat_alpha correspond au paramètre de régulation de la pente de la fonction de saturation (utilisé dans le calcul de la quantité). Plus il est élevé plus la pente est douce et inverssement. C est la borne supérieur de cette fonction de saturation.\n",
    "\n",
    "Finalement Phi correspond a l'intensité de l'aversion à a perte. Phi = 0.5 équivaut à ce que perdre 1€ impact négativement un agent 1.5 fois plus que de gagner 1€ l'impact positivement. Phi = 2 correspondrait a ce même ratio égal à 3.\n",
    "\n",
    "Jusqu'a maintenant les paramètres étaient initialisé a ces valeurs : price=0.5, quality=100, promophile=5, sat_alpha=100, phi=0.3, c = 2, inertia = 2 choisies arbitrairement. \n",
    "\n",
    "Les 4 paramètres globaux prix qualité promotion et inertie sont multipliés par les valeurs des produits lors des évaluations. Ainsi ces paramètres globaux régulent l'importance de chaque effet.\n",
    "\n",
    "Par exemple le prix étant dans nos exemples ci-dessus était environ égal à 100, la qualité comprise en entre 0 et 1 la promotion égal soit à 0 soit 1 et l'inertie ayant une valeur compris entre -4 et 20. \n",
    "\n",
    "Ces valeurs multipliées par nos paramètres globaux on obtiens (50, [0,100], (0 ou 5), [-8,40]). Ce sont des valeurs plus proches les unes des autres, nos paramètres globaux viennent donc bien équilibrer l'impact du prix de la qualité de la promotion et de l'inertie. Il permettent aussi de jouer sur le comportement de tous les agents afin d'exacerber certains comportements."
   ]
  },
  {
   "cell_type": "markdown",
   "id": "after-hartford",
   "metadata": {},
   "source": [
    "#### C et alpha_sat\n",
    "Pour mieux comprendre les valeurs alpha_sat et c je vous propose d'afficher la fonction de saturation selon ces valeurs."
   ]
  },
  {
   "cell_type": "code",
   "execution_count": null,
   "id": "tired-citizen",
   "metadata": {},
   "outputs": [],
   "source": [
    "def sat(U,alpha,c):\n",
    "        x = (U)\n",
    "        y = math.log(c-1)\n",
    "        return c / (1 + math.exp(-x/alpha+y))"
   ]
  },
  {
   "cell_type": "code",
   "execution_count": null,
   "id": "proprietary-investigator",
   "metadata": {},
   "outputs": [],
   "source": [
    "fig,axs = plt.subplots(1,2,figsize=(12,4))\n",
    "for alpha in [1,2,5,10,20,50,100]:\n",
    "    c=2\n",
    "    res = np.array(np.zeros(len(np.arange(-100,100,0.01))))\n",
    "    cpt = 0\n",
    "    for i in np.arange(-100,100,0.01):\n",
    "        res[cpt] = sat(i,alpha,c)\n",
    "        cpt+=1\n",
    "    axs[0].plot(np.arange(-100,100,0.01),res)\n",
    "axs[0].legend((\"xalpha=1\",\"alpha=2\",\"alpha=5\",\"alpha=10\",\"alpha=20\",\"alpha=50\",\"alpha=100\") )\n",
    "axs[0].set_xlabel(\"Valeur de U(p_i)\")\n",
    "axs[0].set_ylabel(\"Multiplicateur de quantité\")\n",
    "for c in [2,3,4,8,10]:\n",
    "    alpha = 5\n",
    "    res = np.array(np.zeros(len(np.arange(-100,100,0.01))))\n",
    "    cpt = 0\n",
    "    for i in np.arange(-100,100,0.01):\n",
    "        res[cpt] = sat(i,alpha,c)\n",
    "        cpt+=1\n",
    "    axs[1].plot(np.arange(-100,100,0.01),res)\n",
    "axs[1].legend((\"xalpha=1\",\"alpha=2\",\"alpha=5\",\"alpha=10\",\"alpha=20\",\"alpha=50\",\"alpha=100\") )\n",
    "axs[1].set_xlabel(\"Valeur de U(p_i)\")\n",
    "axs[1].set_ylabel(\"Multiplicateur de quantité\")"
   ]
  },
  {
   "cell_type": "markdown",
   "id": "detected-frontier",
   "metadata": {},
   "source": [
    "#### Simulations pour différents paramètres\n",
    "\n",
    "Voici quelque exemples de changements de paramètres. On reprend la catégorie de produit à 8 produits utilisée précedemment. "
   ]
  },
  {
   "cell_type": "code",
   "execution_count": null,
   "id": "integral-meditation",
   "metadata": {},
   "outputs": [],
   "source": [
    "environnement_test = Environment([Ma_categorie],300,100)"
   ]
  },
  {
   "cell_type": "markdown",
   "id": "recreational-mortality",
   "metadata": {},
   "source": [
    "Les paramètres de l'evironnement sont passés via la méthode initialise() \n",
    "Les paramètres sont price, quality, promophile, sat_alpha, phi, c, inertia"
   ]
  },
  {
   "cell_type": "code",
   "execution_count": null,
   "id": "shared-western",
   "metadata": {},
   "outputs": [],
   "source": [
    "environnement_test.initialise(inertia = 10)\n",
    "environnement_test.make_promo((0,40,(30,34),0,0))\n",
    "environnement_test.run()\n",
    "environnement_test.show_sales()"
   ]
  },
  {
   "cell_type": "code",
   "execution_count": null,
   "id": "phantom-august",
   "metadata": {},
   "outputs": [],
   "source": [
    "environnement_test.initialise(inertia = 0)\n",
    "environnement_test.make_promo((0,40,(30,34),0,0))\n",
    "environnement_test.run()\n",
    "environnement_test.show_sales()"
   ]
  },
  {
   "cell_type": "code",
   "execution_count": null,
   "id": "standard-joseph",
   "metadata": {},
   "outputs": [],
   "source": [
    "environnement_test.show_sales_separated()"
   ]
  },
  {
   "cell_type": "markdown",
   "id": "appointed-printer",
   "metadata": {},
   "source": [
    "On vois qu'il n'y a plus de fidélisation"
   ]
  },
  {
   "cell_type": "code",
   "execution_count": null,
   "id": "regulated-crown",
   "metadata": {},
   "outputs": [],
   "source": [
    "environnement_test.initialise(price=0.5, quality=100, promophile=5, sat_alpha=1, phi=0.3, c = 2, inertia = 2)\n",
    "environnement_test.make_promo((0,40,(30,34),0,0))\n",
    "environnement_test.run()\n",
    "environnement_test.show_sales()"
   ]
  },
  {
   "cell_type": "code",
   "execution_count": null,
   "id": "municipal-picnic",
   "metadata": {},
   "outputs": [],
   "source": [
    "environnement_test.initialise(price=2, quality=0, promophile=5, sat_alpha=100, phi=0.3, c = 2, inertia = 0)\n",
    "environnement_test.make_promo((0,40,(30,34),0,0))\n",
    "environnement_test.run()\n",
    "environnement_test.show_sales()"
   ]
  },
  {
   "cell_type": "code",
   "execution_count": null,
   "id": "light-timer",
   "metadata": {},
   "outputs": [],
   "source": [
    "environnement_test.show_sales_separated()"
   ]
  },
  {
   "cell_type": "markdown",
   "id": "moral-crash",
   "metadata": {},
   "source": [
    "La qualité n'ayant plus d'impact on observe que certains produits (les plus cher) ne sont plus du tout achetés "
   ]
  },
  {
   "cell_type": "code",
   "execution_count": null,
   "id": "chubby-wallet",
   "metadata": {},
   "outputs": [],
   "source": []
  }
 ],
 "metadata": {
  "kernelspec": {
   "display_name": "Python 3 (ipykernel)",
   "language": "python",
   "name": "python3"
  },
  "language_info": {
   "codemirror_mode": {
    "name": "ipython",
    "version": 3
   },
   "file_extension": ".py",
   "mimetype": "text/x-python",
   "name": "python",
   "nbconvert_exporter": "python",
   "pygments_lexer": "ipython3",
   "version": "3.9.15"
  }
 },
 "nbformat": 4,
 "nbformat_minor": 5
}
