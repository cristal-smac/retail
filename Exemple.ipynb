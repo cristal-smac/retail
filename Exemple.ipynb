{
 "cells": [
  {
   "cell_type": "markdown",
   "id": "pressed-emphasis",
   "metadata": {},
   "source": [
    "# L'influence des promotions sur les ventes d'un supermarché \n",
    "\n",
    "Auteurs : Jarod Vanderlynden , Philippe Mathieu, [CRISTAL Lab](http://www.cristal.univ-lille.fr), [SMAC team](https://www.cristal.univ-lille.fr/?rubrique27&eid=17), [Lille University](http://www.univ-lille.fr), Romain Warlop, [fifty-five](https://www.fifty-five.com/fr/)\n",
    "\n",
    "email : jarod.vanderlynden.etu@univ-lille.fr\n",
    "\n",
    "Création : 5/12/2022\n"
   ]
  },
  {
   "cell_type": "markdown",
   "id": "tender-aaron",
   "metadata": {},
   "source": [
    "## Introduction\n",
    "\n",
    "Cette feuille Jupyter décrit un exemple d'utilisation du modèle proposé dans l'article \"_Comprendre l'impact des stratégies de prix sur le comportement des consommateurs_\". \n",
    "Ce modèle permet notamment de construire un outil de simulation reproduisant des faits marketings connus et capable d'en mesurer les performances.\n",
    "Ce notebook détaille ce modèle et en présente les résultats principaux.\n",
    "\n",
    "Ce modèle représente un supermarché dans lequel on vend des biens de consommation courante. Les agents sont des abstractions des clients (une personne, une famille etc.) ayant chacun leurs propres paramètres internes (sensibilités). Les agents sont omniscients et connaissent tous les produits. Le modèle ne prend pas en compte la géographie du magasin ni l'emplacement des produits. \n"
   ]
  },
  {
   "cell_type": "code",
   "execution_count": 1,
   "id": "military-chest",
   "metadata": {},
   "outputs": [],
   "source": [
    "from src.model import *"
   ]
  },
  {
   "cell_type": "code",
   "execution_count": 2,
   "id": "promising-equality",
   "metadata": {},
   "outputs": [],
   "source": [
    "import numpy as np\n",
    "import matplotlib.pyplot as plt\n",
    "import seaborn as sns\n",
    "sns.set_theme()"
   ]
  },
  {
   "cell_type": "markdown",
   "id": "fallen-stations",
   "metadata": {},
   "source": [
    "### Les packs\n",
    "\n",
    "Les promotions étudiées ici s'appuient sur la notion de pack ou de lots d'une même entité. Afin couvrir toutes les situations, l'ensemble de ce qui est vendu dans le supermarché est décrit par la notion de pack. La notion de pack est à comprendre au sens large : un pack peut être constitué d'un unique produit ou d'un produit répété plusieurs fois. Par contre on ne traite pas de packs de produits différents.\n",
    "\n",
    "Les packs sont des ensembles de biens de consommation simples, disposant de 5 caractéristiques : un prix, une qualité, une quantité, et un booléen de promotion. Ils sont identifiés par leur nom.\n",
    "\n",
    "Ils sont instanciés via la classe `Pack(Nom,Prix,Qualité,Quantité)`. Le prix est un prix unitaire, la qualité un réel entre 0 et 1 , 0 représentant une qualité médiocre et 1 représentant la meilleure qualité possible, la quantité le nombre d'unités présentes dans le pack. La quantité de produit fait référence au nombre de produits unitaires dans le pack. Pour des raisons de simplicité, nous ne modélisons pas le volume d'un produit (en gramme, en ml, etc.). Quand un pack est initialement créé, la promotion est mise à False, c'est pourquoi elle n'est pas dans le constructeur. Le produit n'est pas modélisé en tant que tel, mais à travers un pack.\n"
   ]
  },
  {
   "cell_type": "code",
   "execution_count": 4,
   "id": "dressed-september",
   "metadata": {},
   "outputs": [],
   "source": [
    "# un pack de 2 paquets de pâtes\n",
    "p0 = Pack(\"Pâtes de marque X\", 2.3, 0.5, 2)\n",
    "\n",
    "# une seule bouteille de shampoing de qualité\n",
    "p1 = Pack(\"Un shampoing de marque X\", 8.0, 1.0, 1)\n",
    "\n",
    "# un lot 4 shampoings de moyenne gamme\n",
    "p2 = Pack(\"Lot shampoing de marque Y\", 5.0, 0.5, 4)\n"
   ]
  },
  {
   "cell_type": "markdown",
   "id": "running-patrol",
   "metadata": {},
   "source": [
    "Le pack `p0` est un pack de 2 produits, au prix unitaire de `2.3`, ce qui donne un prix global pour le pack de 4.6."
   ]
  },
  {
   "cell_type": "code",
   "execution_count": 5,
   "id": "dated-woman",
   "metadata": {},
   "outputs": [
    {
     "data": {
      "text/plain": [
       "(2.3, 4.6)"
      ]
     },
     "execution_count": 5,
     "metadata": {},
     "output_type": "execute_result"
    }
   ],
   "source": [
    "p0.get_price_unit(),p0.get_price_total()"
   ]
  },
  {
   "cell_type": "markdown",
   "id": "solar-evans",
   "metadata": {},
   "source": [
    "Pour plus de réalisme les packs sont répartis en différentes catégories. Une catégorie représente des produits comparables entre eux (\"eaux\" par ex). Dans ce modèle un client ne choisira qu'un seul pack de plusieurs produits dans une catégorie donnée (un pack d'eau de 6 bouteilles, dans la catégorie \"eaux\" par ex).\n",
    "\n",
    "Une catégorie est instanciée avec `Category(nom,liste de packs)`. La création d'une catégorie nécessite une liste de packs. Cette liste de packs peut être initialement vide, on ajoutera alors les packs au fur et à mesure à l'aide de la méthode `add_pack(pack)`. "
   ]
  },
  {
   "cell_type": "code",
   "execution_count": 6,
   "id": "unknown-northern",
   "metadata": {},
   "outputs": [
    {
     "name": "stdout",
     "output_type": "stream",
     "text": [
      "Nom :  Pâtes de marque X , Prix total :  4.6\n"
     ]
    },
    {
     "data": {
      "text/plain": [
       "0"
      ]
     },
     "execution_count": 6,
     "metadata": {},
     "output_type": "execute_result"
    }
   ],
   "source": [
    "# les pates\n",
    "cat1 = Category(\"pates\",[p0])\n",
    "cat1.show_packs()"
   ]
  },
  {
   "cell_type": "code",
   "execution_count": 7,
   "id": "satellite-philosophy",
   "metadata": {},
   "outputs": [
    {
     "name": "stdout",
     "output_type": "stream",
     "text": [
      "Nom :  Lot shampoing de marque Y , Prix total :  20.0\n",
      "Nom :  Un shampoing de marque X , Prix total :  8.0\n"
     ]
    },
    {
     "data": {
      "text/plain": [
       "0"
      ]
     },
     "execution_count": 7,
     "metadata": {},
     "output_type": "execute_result"
    }
   ],
   "source": [
    "# les shampoings\n",
    "cat2 = Category(\"shampoing\",[])\n",
    "cat2.add_pack(p1)\n",
    "cat2.add_pack(p2)\n",
    "cat2.show_packs()"
   ]
  },
  {
   "cell_type": "markdown",
   "id": "opening-newark",
   "metadata": {},
   "source": [
    "- Un pack donne accès à plusieurs méthodes dont ``get_name(),get_price_total(),simple_promotion(percent)``, percent étant le pourcentage de réduction à appliquer au produit lors d'une promotion.\n",
    "- Une catégorie donne accès à plusieurs méthodes dont ``add_pack(pack), get_packs(), show_packs()``"
   ]
  },
  {
   "cell_type": "markdown",
   "id": "crazy-permit",
   "metadata": {},
   "source": [
    "### Le SMA\n",
    "\n",
    "L'environnement correspond au supermarché. On ne s'interesse pas dans ce modèle au placement géographique des packs, et les agents sont omniscients. Il n'est donc pas necessaire de représenter explicitement l'environnement.\n",
    "Le SMA est donc constitué uniquement des agents et de la liste des packs étudiés. Afin de l'instancier on lui fournit une liste de catégories qui elles-mêmes contiennent les packs. \n",
    "Un magasin plus complet devrait idéalement contenir plusieurs catégories contenant plusieurs packs. Dans cet exemple nous restons à une seul catégorie pour illustrer les résultats, mais le modèle est capable de traiter plusieurs catégories.\n",
    "Le SMA est instancié avec `SMA(list_cat[cat1,cat2,...],nb_agent,nb_ticks)`, `list_cat` étant une liste de catégorie, `nb_agent` le nombre d'agents, et `nb_ticks` le nombre de pas de temps de simulation que nous souhaitons réaliser.\n",
    "\n",
    "Dans ce modèle simplifié, nous partons du principe que les packs sont disponibles en quantité infinie. Il n'y a donc pas de quantité en stock ni de rupture de stock. \n",
    "\n",
    "Le paramètre `nb_agents` génère `n` agents dont les caractéristiques sont aléatoires (besoins, sensibilités etc ...).\n"
   ]
  },
  {
   "cell_type": "code",
   "execution_count": 8,
   "id": "union-retail",
   "metadata": {},
   "outputs": [],
   "source": [
    "# Création du SMA sans aucun agent\n",
    "mon_sma = SMA([cat1,cat2],0,10)"
   ]
  },
  {
   "cell_type": "code",
   "execution_count": 9,
   "id": "comfortable-union",
   "metadata": {},
   "outputs": [
    {
     "data": {
      "text/plain": [
       "0"
      ]
     },
     "execution_count": 9,
     "metadata": {},
     "output_type": "execute_result"
    }
   ],
   "source": [
    "mon_sma.initialise()"
   ]
  },
  {
   "cell_type": "markdown",
   "id": "supreme-japan",
   "metadata": {},
   "source": [
    "Il n'y a pour l'instant encore aucun agent. Si la simulation est lancée maintenant, bien évidemment rien ne se passe.\n",
    "L'attribut `revenus` permet d'obtenir le chiffre d'affaire obtenu à chaque pas de temps de simulation.\n",
    "Nous avons indiqué précédemment notre souhait d'avoir 10 tours de parole, si on execute le SMA, on obtient alors 10 valeurs, pour l'instant toutes à zero puisqu'il n'y a personne."
   ]
  },
  {
   "cell_type": "code",
   "execution_count": 10,
   "id": "champion-sequence",
   "metadata": {},
   "outputs": [
    {
     "data": {
      "text/plain": [
       "array([0., 0., 0., 0., 0., 0., 0., 0., 0., 0.])"
      ]
     },
     "execution_count": 10,
     "metadata": {},
     "output_type": "execute_result"
    }
   ],
   "source": [
    "mon_sma.run()\n",
    "mon_sma.get_turnover()"
   ]
  },
  {
   "cell_type": "markdown",
   "id": "noticed-classic",
   "metadata": {},
   "source": [
    "### Les agents\n",
    "\n",
    "Les agents représentent les clients. Un client possède ses propres caractéristiques (sensibilités) et réalise des choix en conséquence durant son processus d'achat. \n",
    "Il est instancié via la classe `Agent(nom, SMA, Historique, Profil)`. SMA référence le système dans lequel l'agent évolue. Historique et profil sont des paramètres optionnels (aléatoires si non précisés)."
   ]
  },
  {
   "cell_type": "code",
   "execution_count": 11,
   "id": "demographic-hazard",
   "metadata": {},
   "outputs": [],
   "source": [
    "# Cet agent dispose d'un historique d'achats et d'un profil tirés aléatoirement. \n",
    "a1 = Agent(\"Mon 1er agent\",mon_sma)"
   ]
  },
  {
   "cell_type": "markdown",
   "id": "female-satisfaction",
   "metadata": {},
   "source": [
    "#### Les profils / sensibilités\n",
    "Dans ce modèle, le profil d'un agent caractérise les sensibilités de celui ci: Il est constitué d'une map de 4 clés `Prix`, `Qualité`, `Inertiel` `Promophile`, associé a des valeurs de type pourcentage totalisant 100%. Certains agents accordent plus d'importance au prix, et correspondent aux clients à petit budget. A l'inverse certains agents accordent beaucoup d'importance à la qualité, et correspondent au client qui dispose d'un gros budget, achetant les produits de bonne qualité. Les promophiles sont sensibles aux promotions, les inertiels fidèles à une marque. Quand toutes ces variables sont à peu près équivalentes on parlera de profil équilibré. Dans ce cas les clients accordent une importance à peu près similaire à toutes les caractéristiques des produits. "
   ]
  },
  {
   "cell_type": "code",
   "execution_count": 12,
   "id": "indirect-mobile",
   "metadata": {},
   "outputs": [
    {
     "data": {
      "text/plain": [
       "{'inertie': 0.03, 'price': 0.46, 'quality': 0.05, 'promophile': 0.46}"
      ]
     },
     "execution_count": 12,
     "metadata": {},
     "output_type": "execute_result"
    }
   ],
   "source": [
    "# Création d'un profil sensible aux promotions et aux prix \n",
    "profil1 = Profil({'inertia': 0.03,'price': 0.46,'quality': 0.05,'promophile': 0.46})\n",
    "profil1.get_profil()"
   ]
  },
  {
   "cell_type": "code",
   "execution_count": 13,
   "id": "another-comparison",
   "metadata": {},
   "outputs": [
    {
     "data": {
      "text/plain": [
       "{'inertie': 0.47619047619047616,\n",
       " 'price': 0.023809523809523808,\n",
       " 'quality': 0.47619047619047616,\n",
       " 'promophile': 0.023809523809523808}"
      ]
     },
     "execution_count": 13,
     "metadata": {},
     "output_type": "execute_result"
    }
   ],
   "source": [
    "# Création d'un profil sensible a la qualité et loyal\n",
    "profil2 = Profil({'price': 1,'quality': 20,'inertia': 20,'promophile': 1})\n",
    "profil2.get_profil()"
   ]
  },
  {
   "cell_type": "markdown",
   "id": "tough-tobago",
   "metadata": {},
   "source": [
    "Le profil peut être affecté à un agent à sa création "
   ]
  },
  {
   "cell_type": "code",
   "execution_count": 14,
   "id": "imposed-swimming",
   "metadata": {},
   "outputs": [
    {
     "data": {
      "text/plain": [
       "{'inertie': 0.03, 'price': 0.46, 'quality': 0.05, 'promophile': 0.46}"
      ]
     },
     "execution_count": 14,
     "metadata": {},
     "output_type": "execute_result"
    }
   ],
   "source": [
    "a2 = Agent(\"Agent 2\", mon_sma, profil=profil1)\n",
    "a2.get_profil()"
   ]
  },
  {
   "cell_type": "code",
   "execution_count": 15,
   "id": "framed-cycling",
   "metadata": {},
   "outputs": [
    {
     "data": {
      "text/plain": [
       "{'inertie': 0.47619047619047616,\n",
       " 'price': 0.023809523809523808,\n",
       " 'quality': 0.47619047619047616,\n",
       " 'promophile': 0.023809523809523808}"
      ]
     },
     "execution_count": 15,
     "metadata": {},
     "output_type": "execute_result"
    }
   ],
   "source": [
    "a3 = Agent(\"Agent 3\", mon_sma, profil=profil2)\n",
    "a3.get_profil()"
   ]
  },
  {
   "cell_type": "markdown",
   "id": "western-evidence",
   "metadata": {},
   "source": [
    "Il est aussi possible de créer directeur un agent avec un profil aléatoire. Dans ce cas, le tirage n'est pas uniforme mais met toujours en évidence l'une des 4 caratéristiques, sauf pour le profil équilibré."
   ]
  },
  {
   "cell_type": "code",
   "execution_count": 21,
   "id": "automotive-substitute",
   "metadata": {},
   "outputs": [
    {
     "data": {
      "text/plain": [
       "{'inertie': array([0.05832153]),\n",
       " 'price': array([0.06583881]),\n",
       " 'quality': array([0.784454]),\n",
       " 'promophile': array([0.09138567])}"
      ]
     },
     "execution_count": 21,
     "metadata": {},
     "output_type": "execute_result"
    }
   ],
   "source": [
    "# initialisation d'un profil aléatoire\n",
    "a4 = Agent(\"Agent 4\",mon_sma)\n",
    "a4.get_profil()"
   ]
  },
  {
   "cell_type": "markdown",
   "id": "respective-brick",
   "metadata": {},
   "source": [
    "### L'historique\n",
    "\n",
    "L'historique représente les derniers achats d'un agent par catégorie. Cet historique est une map avec pour clés les différentes catégories possibles et en valeurs la liste des packs de cette catégorie achetés par cet agent dans le passé et en quelle quantité. Par défaut, l'historique est une fenêtre glissante de taille 50 par catégorie.\n",
    "\n",
    "Pour réaliser une expérience, l'agent doit impérativement avoir un historique d'achats. Soit on laisse le SMA l'initialiser aléatoirement à la création de l'agent, soit affecte à l'agent un historique spécifique avec la méthode `History (dict{catégorie1:achats,...},dict{catégorie1:quantité,....})`. "
   ]
  },
  {
   "cell_type": "code",
   "execution_count": null,
   "id": "strong-locking",
   "metadata": {},
   "outputs": [
    {
     "data": {
      "text/plain": [
       "{'pates': [(Pâtes de marque X, 5),\n",
       "  (Pâtes de marque X, 11),\n",
       "  (Pâtes de marque X, 8),\n",
       "  (Pâtes de marque X, 10),\n",
       "  (Pâtes de marque X, 4),\n",
       "  (Pâtes de marque X, 10),\n",
       "  (Pâtes de marque X, 10),\n",
       "  (Pâtes de marque X, 9),\n",
       "  (Pâtes de marque X, 12),\n",
       "  (Pâtes de marque X, 0),\n",
       "  (Pâtes de marque X, 9),\n",
       "  (Pâtes de marque X, 9),\n",
       "  (Pâtes de marque X, 5),\n",
       "  (Pâtes de marque X, 1),\n",
       "  (Pâtes de marque X, 1),\n",
       "  (Pâtes de marque X, 1),\n",
       "  (Pâtes de marque X, 0),\n",
       "  (Pâtes de marque X, 6),\n",
       "  (Pâtes de marque X, 0),\n",
       "  (Pâtes de marque X, 6),\n",
       "  (Pâtes de marque X, 7),\n",
       "  (Pâtes de marque X, 12),\n",
       "  (Pâtes de marque X, 6),\n",
       "  (Pâtes de marque X, 5),\n",
       "  (Pâtes de marque X, 6),\n",
       "  (Pâtes de marque X, 1),\n",
       "  (Pâtes de marque X, 0),\n",
       "  (Pâtes de marque X, 9),\n",
       "  (Pâtes de marque X, 8),\n",
       "  (Pâtes de marque X, 1),\n",
       "  (Pâtes de marque X, 11),\n",
       "  (Pâtes de marque X, 6),\n",
       "  (Pâtes de marque X, 10),\n",
       "  (Pâtes de marque X, 5),\n",
       "  (Pâtes de marque X, 7),\n",
       "  (Pâtes de marque X, 12),\n",
       "  (Pâtes de marque X, 0),\n",
       "  (Pâtes de marque X, 1),\n",
       "  (Pâtes de marque X, 5),\n",
       "  (Pâtes de marque X, 5),\n",
       "  (Pâtes de marque X, 6),\n",
       "  (Pâtes de marque X, 1),\n",
       "  (Pâtes de marque X, 10),\n",
       "  (Pâtes de marque X, 3),\n",
       "  (Pâtes de marque X, 4),\n",
       "  (Pâtes de marque X, 9),\n",
       "  (Pâtes de marque X, 0),\n",
       "  (Pâtes de marque X, 5),\n",
       "  (Pâtes de marque X, 8),\n",
       "  (Pâtes de marque X, 7)],\n",
       " 'shampoing': [(Un shampoing de marque X, 5),\n",
       "  (Un shampoing de marque X, 4),\n",
       "  (Un shampoing de marque X, 5),\n",
       "  (Lot shampoing de marque Y, 3),\n",
       "  (Un shampoing de marque X, 7),\n",
       "  (Un shampoing de marque X, 8),\n",
       "  (Un shampoing de marque X, 3),\n",
       "  (Lot shampoing de marque Y, 3),\n",
       "  (Un shampoing de marque X, 3),\n",
       "  (Un shampoing de marque X, 8),\n",
       "  (Un shampoing de marque X, 8),\n",
       "  (Lot shampoing de marque Y, 6),\n",
       "  (Lot shampoing de marque Y, 6),\n",
       "  (Lot shampoing de marque Y, 5),\n",
       "  (Lot shampoing de marque Y, 5),\n",
       "  (Un shampoing de marque X, 4),\n",
       "  (Un shampoing de marque X, 3),\n",
       "  (Un shampoing de marque X, 6),\n",
       "  (Un shampoing de marque X, 8),\n",
       "  (Lot shampoing de marque Y, 6),\n",
       "  (Lot shampoing de marque Y, 4),\n",
       "  (Un shampoing de marque X, 5),\n",
       "  (Un shampoing de marque X, 5),\n",
       "  (Lot shampoing de marque Y, 5),\n",
       "  (Lot shampoing de marque Y, 5),\n",
       "  (Lot shampoing de marque Y, 7),\n",
       "  (Lot shampoing de marque Y, 6),\n",
       "  (Un shampoing de marque X, 8),\n",
       "  (Lot shampoing de marque Y, 5),\n",
       "  (Un shampoing de marque X, 8),\n",
       "  (Un shampoing de marque X, 6),\n",
       "  (Un shampoing de marque X, 8),\n",
       "  (Lot shampoing de marque Y, 8),\n",
       "  (Lot shampoing de marque Y, 5),\n",
       "  (Lot shampoing de marque Y, 4),\n",
       "  (Un shampoing de marque X, 3),\n",
       "  (Lot shampoing de marque Y, 4),\n",
       "  (Lot shampoing de marque Y, 3),\n",
       "  (Un shampoing de marque X, 3),\n",
       "  (Un shampoing de marque X, 6),\n",
       "  (Un shampoing de marque X, 5),\n",
       "  (Lot shampoing de marque Y, 7),\n",
       "  (Lot shampoing de marque Y, 8),\n",
       "  (Un shampoing de marque X, 3),\n",
       "  (Lot shampoing de marque Y, 8),\n",
       "  (Un shampoing de marque X, 8),\n",
       "  (Lot shampoing de marque Y, 8),\n",
       "  (Lot shampoing de marque Y, 7),\n",
       "  (Un shampoing de marque X, 6),\n",
       "  (Un shampoing de marque X, 8)]}"
      ]
     },
     "metadata": {},
     "output_type": "display_data"
    }
   ],
   "source": [
    "# L'historique généré aléatoirement de l'agent précédent. \n",
    "a1.get_history()"
   ]
  },
  {
   "cell_type": "code",
   "execution_count": 18,
   "id": "considerable-earthquake",
   "metadata": {},
   "outputs": [],
   "source": [
    "a5 = Agent(\"Agent 5\",mon_sma,history = H)"
   ]
  },
  {
   "cell_type": "markdown",
   "id": "lyric-event",
   "metadata": {},
   "source": [
    "Ajoutons ces 3 agents à notre environnement. Attention a bien passer une liste en paramètre."
   ]
  },
  {
   "cell_type": "code",
   "execution_count": 19,
   "id": "talented-browse",
   "metadata": {},
   "outputs": [],
   "source": [
    "mon_sma.add_agent([a2,a3,a4,a5])"
   ]
  },
  {
   "cell_type": "markdown",
   "id": "unavailable-saver",
   "metadata": {},
   "source": [
    "## La simulation\n",
    "\n",
    "La simulation peut être lancée plusieurs fois, un résultat différent devrait apparaître. Cela est dû à l'aspect aléatoire du modèle notamment dans le processus d'achats des agents, l'agent choisi un produit d'une catégorie selon une loi de probabilité proportionnelle au score du produit. "
   ]
  },
  {
   "cell_type": "code",
   "execution_count": 20,
   "id": "flexible-workshop",
   "metadata": {},
   "outputs": [
    {
     "data": {
      "text/plain": [
       "array([ 41.4,  59.8,  46. ,  69. ,  73.6,   0. , 119.6,  27.6,  46. ,\n",
       "        92. ])"
      ]
     },
     "execution_count": 20,
     "metadata": {},
     "output_type": "execute_result"
    }
   ],
   "source": [
    "mon_sma.initialise()\n",
    "mon_sma.run()\n",
    "mon_sma.get_turnover()"
   ]
  },
  {
   "cell_type": "markdown",
   "id": "complex-november",
   "metadata": {},
   "source": [
    "On peut alors afficher l'évolution du chiffre d'affaires à chaque pas de temps. Celui ci correspond à :\n",
    "\n",
    "$\\forall a:Agents \\Sigma(packs achetés * quantités achetées * prix)$\n",
    "\n",
    "Il est aussi possible d'afficher à chaque pas de temps ce que les agents ont acheté."
   ]
  },
  {
   "cell_type": "code",
   "execution_count": 21,
   "id": "intimate-adoption",
   "metadata": {},
   "outputs": [
    {
     "name": "stdout",
     "output_type": "stream",
     "text": [
      "Pas de temps num :  0  Agent :  Agent 2  Besoin 7.85  Achat : Rien Quantité : 0\n",
      "Pas de temps num :  0  Agent :  Agent 3  Besoin 5.85  Achat : Rien Quantité : 0\n",
      "Pas de temps num :  0  Agent :  Agent 4  Besoin 2.15  Achat :  Pâtes de marque X Quantité :  1\n",
      "Pas de temps num :  0  Agent :  Agent 5  Besoin 8.2  Achat : Rien Quantité : 0\n",
      "Pas de temps num :  1  Agent :  Agent 2  Besoin 7.75  Achat : Rien Quantité : 0\n",
      "Pas de temps num :  1  Agent :  Agent 3  Besoin 6.95  Achat :  Pâtes de marque X Quantité :  15\n",
      "Pas de temps num :  1  Agent :  Agent 4  Besoin 2.0  Achat : Rien Quantité : 0\n",
      "Pas de temps num :  1  Agent :  Agent 5  Besoin 8.9  Achat :  Pâtes de marque X Quantité :  12\n",
      "Pas de temps num :  2  Agent :  Agent 2  Besoin 7.55  Achat :  Pâtes de marque X Quantité :  2\n",
      "Pas de temps num :  2  Agent :  Agent 3  Besoin 6.7  Achat : Rien Quantité : 0\n",
      "Pas de temps num :  2  Agent :  Agent 4  Besoin 1.85  Achat : Rien Quantité : 0\n",
      "Pas de temps num :  2  Agent :  Agent 5  Besoin 8.5  Achat : Rien Quantité : 0\n",
      "Pas de temps num :  3  Agent :  Agent 2  Besoin 7.85  Achat :  Pâtes de marque X Quantité :  7\n",
      "Pas de temps num :  3  Agent :  Agent 3  Besoin 6.25  Achat : Rien Quantité : 0\n",
      "Pas de temps num :  3  Agent :  Agent 4  Besoin 1.65  Achat : Rien Quantité : 0\n",
      "Pas de temps num :  3  Agent :  Agent 5  Besoin 9.05  Achat :  Pâtes de marque X Quantité :  9\n",
      "Pas de temps num :  4  Agent :  Agent 2  Besoin 9.1  Achat :  Pâtes de marque X Quantité :  14\n",
      "Pas de temps num :  4  Agent :  Agent 3  Besoin 6.05  Achat :  Pâtes de marque X Quantité :  1\n",
      "Pas de temps num :  4  Agent :  Agent 4  Besoin 2.05  Achat :  Pâtes de marque X Quantité :  4\n",
      "Pas de temps num :  4  Agent :  Agent 5  Besoin 8.75  Achat :  Pâtes de marque X Quantité :  2\n",
      "Pas de temps num :  5  Agent :  Agent 2  Besoin 8.5  Achat : Rien Quantité : 0\n",
      "Pas de temps num :  5  Agent :  Agent 3  Besoin 5.75  Achat : Rien Quantité : 0\n",
      "Pas de temps num :  5  Agent :  Agent 4  Besoin 2.1  Achat :  Pâtes de marque X Quantité :  1\n",
      "Pas de temps num :  5  Agent :  Agent 5  Besoin 8.25  Achat : Rien Quantité : 0\n",
      "Pas de temps num :  6  Agent :  Agent 2  Besoin 8.35  Achat : Rien Quantité : 0\n",
      "Pas de temps num :  6  Agent :  Agent 3  Besoin 7.1  Achat :  Pâtes de marque X Quantité :  17\n",
      "Pas de temps num :  6  Agent :  Agent 4  Besoin 2.05  Achat : Rien Quantité : 0\n",
      "Pas de temps num :  6  Agent :  Agent 5  Besoin 8.8  Achat :  Pâtes de marque X Quantité :  9\n",
      "Pas de temps num :  7  Agent :  Agent 2  Besoin 7.8  Achat : Rien Quantité : 0\n",
      "Pas de temps num :  7  Agent :  Agent 3  Besoin 6.95  Achat : Rien Quantité : 0\n",
      "Pas de temps num :  7  Agent :  Agent 4  Besoin 1.85  Achat : Rien Quantité : 0\n",
      "Pas de temps num :  7  Agent :  Agent 5  Besoin 8.6  Achat :  Pâtes de marque X Quantité :  3\n",
      "Pas de temps num :  8  Agent :  Agent 2  Besoin 7.65  Achat :  Pâtes de marque X Quantité :  5\n",
      "Pas de temps num :  8  Agent :  Agent 3  Besoin 6.7  Achat : Rien Quantité : 0\n",
      "Pas de temps num :  8  Agent :  Agent 4  Besoin 1.75  Achat : Rien Quantité : 0\n",
      "Pas de temps num :  8  Agent :  Agent 5  Besoin 9.15  Achat :  Pâtes de marque X Quantité :  9\n",
      "Pas de temps num :  9  Agent :  Agent 2  Besoin 8.1  Achat :  Pâtes de marque X Quantité :  11\n",
      "Pas de temps num :  9  Agent :  Agent 3  Besoin 6.4  Achat : Rien Quantité : 0\n",
      "Pas de temps num :  9  Agent :  Agent 4  Besoin 2.0  Achat :  Pâtes de marque X Quantité :  5\n",
      "Pas de temps num :  9  Agent :  Agent 5  Besoin 8.9  Achat :  Pâtes de marque X Quantité :  2\n"
     ]
    },
    {
     "data": {
      "text/plain": [
       "array([  4.6, 124.2,   9.2,  73.6,  96.6,   4.6, 119.6,  13.8,  64.4,\n",
       "        82.8])"
      ]
     },
     "execution_count": 21,
     "metadata": {},
     "output_type": "execute_result"
    }
   ],
   "source": [
    "mon_sma.initialise()\n",
    "mon_sma.run(trace=True)\n",
    "mon_sma.get_turnover()"
   ]
  },
  {
   "cell_type": "markdown",
   "id": "scheduled-sword",
   "metadata": {},
   "source": [
    "## Une experience volumineuse\n",
    "\n",
    "Nous allons générer un environnement plus dense (avec plus d'agents et de produits). Nous resterons sur des simulations avec une seule catégorie de produit car les catégories de produits ne s'influencent pas entre-elles.\n",
    "\n",
    "Créons d'abord une catégorie de produit contenant 9 produits. Nous avons choisi de faire 9 produits assez similaire notamment sur le ratio qualité/prix pour éviter l'apparition d'un \"super produit\", de meilleur qualité et moins cher que les autres, que tous les agents achèteraient. Il est tout à fait possible de créer cette catégorie à la main ou de tout autre manière."
   ]
  },
  {
   "cell_type": "code",
   "execution_count": 22,
   "id": "copyrighted-heather",
   "metadata": {},
   "outputs": [],
   "source": [
    "base_price = np.random.randint(10, 100)\n",
    "packs = []\n",
    "for j in range(3):\n",
    "    price = base_price + np.random.normal(0,(base_price/4))   # On tire un prix de base aléatoire\n",
    "    quality = np.random.normal((price/100),0.1)               # On tire une qualité proportionnelle au prix\n",
    "    for i in range(3):                                        # Création de 3 produits qu'on considérera d'une même marque (même qualité)\n",
    "        packs.append(Pack((\"Produit \" + str(i+(j*3))), price, np.absolute(quality), 2 * (i+1)))\n",
    "        price = price * 0.9                                   # On estime que le prix à l'unité est plus bas sur les produits vendu en grand quantité\n",
    "Ma_categorie = Category(\"Ma_categorie\", packs)"
   ]
  },
  {
   "cell_type": "markdown",
   "id": "seven-eugene",
   "metadata": {},
   "source": [
    "Création de l'environnement"
   ]
  },
  {
   "cell_type": "code",
   "execution_count": 23,
   "id": "appreciated-ambassador",
   "metadata": {},
   "outputs": [],
   "source": [
    "sma_de_test = SMA([Ma_categorie],300,100)"
   ]
  },
  {
   "cell_type": "code",
   "execution_count": 24,
   "id": "acknowledged-supervision",
   "metadata": {},
   "outputs": [
    {
     "data": {
      "text/plain": [
       "0"
      ]
     },
     "execution_count": 24,
     "metadata": {},
     "output_type": "execute_result"
    }
   ],
   "source": [
    "sma_de_test.initialise()"
   ]
  },
  {
   "cell_type": "code",
   "execution_count": 25,
   "id": "breeding-yacht",
   "metadata": {},
   "outputs": [
    {
     "data": {
      "text/plain": [
       "[<matplotlib.lines.Line2D at 0x1a6124fd0>]"
      ]
     },
     "execution_count": 25,
     "metadata": {},
     "output_type": "execute_result"
    },
    {
     "data": {
      "image/png": "[encoded data removed]",
      "text/plain": [
       "<Figure size 640x480 with 1 Axes>"
      ]
     },
     "metadata": {},
     "output_type": "display_data"
    }
   ],
   "source": [
    "sma_de_test.run()\n",
    "plt.plot(sma_de_test.get_turnover())"
   ]
  },
  {
   "cell_type": "code",
   "execution_count": 26,
   "id": "equal-queen",
   "metadata": {},
   "outputs": [
    {
     "data": {
      "image/png": "[encoded data removed]",
      "text/plain": [
       "<Figure size 640x480 with 1 Axes>"
      ]
     },
     "metadata": {},
     "output_type": "display_data"
    },
    {
     "data": {
      "text/plain": [
       "0"
      ]
     },
     "execution_count": 26,
     "metadata": {},
     "output_type": "execute_result"
    }
   ],
   "source": [
    "sma_de_test.show_sales()"
   ]
  },
  {
   "cell_type": "code",
   "execution_count": null,
   "id": "defensive-machinery",
   "metadata": {},
   "outputs": [],
   "source": [
    "sma_de_test.show_sales_separated()"
   ]
  },
  {
   "cell_type": "code",
   "execution_count": null,
   "id": "stable-standard",
   "metadata": {},
   "outputs": [],
   "source": [
    "sma_de_test.show_sales_separated()"
   ]
  },
  {
   "cell_type": "markdown",
   "id": "instrumental-account",
   "metadata": {},
   "source": [
    "## La promotion\n",
    "L'environnement dispose de toutes les informations nécéssaires, nous allons pouvoir appliquer différentes promotions à notre modèle via la méthode `make_promo(type,quantity,ticks,category,pack)`.\n",
    "\n",
    "`type` est le type de promotion. (0 de type pourcentage de réduction, 1 de type x acheté y offert)\n",
    "\n",
    "`quantity` le pourentage de la promotion (si c'est une promotion en %) ou un tuple (x,y) si c'est une promotion x acheté y offert.\n",
    "\n",
    "`ticks` un tuple contenant le pas de temps du début de la prodmotion et le pas de temps de fin de promotion. \n",
    "\n",
    "`category` l'indice de a categorie sur laquel faire la promotion.\n",
    "\n",
    "`pack` l'indice du produit sur lequel faire la promotion. \n",
    "\n",
    "Par exemple `make_promo(0,40,(30,34),0,0)` : 0 pour une promotion en pourcentage, 40 pour 40% (30 pas de temps de départ, 34, pas de temps d'arrêt) et 0,0 pour la catégorie d'indice 0 et le produit d'indice 0"
   ]
  },
  {
   "cell_type": "code",
   "execution_count": null,
   "id": "czech-nursery",
   "metadata": {},
   "outputs": [],
   "source": [
    "sma_de_test.initialise()\n",
    "sma_de_test.make_promo((0,40,(30,34),0,0))\n",
    "sma_de_test.run()"
   ]
  },
  {
   "cell_type": "code",
   "execution_count": null,
   "id": "alien-hartford",
   "metadata": {},
   "outputs": [],
   "source": [
    "plt.plot(sma_de_test.revenues)"
   ]
  },
  {
   "cell_type": "code",
   "execution_count": null,
   "id": "published-domain",
   "metadata": {},
   "outputs": [],
   "source": [
    "sma_de_test.show_sales()"
   ]
  },
  {
   "cell_type": "code",
   "execution_count": null,
   "id": "severe-dinner",
   "metadata": {},
   "outputs": [],
   "source": [
    "sma_de_test.show_sales_separated()"
   ]
  },
  {
   "cell_type": "markdown",
   "id": "introductory-butterfly",
   "metadata": {},
   "source": [
    "On observe sur cette simulation que le produit 0, qui est le produit en promotion, voit une forte augmentation de ses ventes durant la promotion. \n",
    "Afin de pouvoir observer l'impact des promotions plus préciséments nous allons comparer une même simulation avec et sans promotion. \n",
    "\n",
    "Afin d'avoir les mêmes agents dans chaque simulation pour la comparaison nous proposons de fixer la graine aléatoire. "
   ]
  },
  {
   "cell_type": "code",
   "execution_count": null,
   "id": "floral-classroom",
   "metadata": {},
   "outputs": [],
   "source": [
    "np.random.seed(3)\n",
    "base_price = np.random.randint(10, 100)\n",
    "packs = []\n",
    "#Création des produits selon la même méthode que précédemment.\n",
    "for j in range(3):\n",
    "    price = base_price + np.random.normal(0,(base_price/4))   \n",
    "    quality = np.random.normal((price/100),0.1)               \n",
    "    for i in range(3):                                      \n",
    "        packs.append(Pack((\"Produit \" + str(i+(j*3))), price, np.absolute(quality), 2 * (i+1)))\n",
    "        price = price * 0.9  \n",
    "Ma_categorie = Category(\"Ma_categorie\", packs)"
   ]
  },
  {
   "cell_type": "code",
   "execution_count": null,
   "id": "acting-struggle",
   "metadata": {},
   "outputs": [],
   "source": [
    "np.random.seed(3)\n",
    "sma_avec_promo = SMA([Ma_categorie],300,100)\n",
    "np.random.seed(3)\n",
    "sma_sans_promo = SMA([Ma_categorie],300,100)"
   ]
  },
  {
   "cell_type": "code",
   "execution_count": null,
   "id": "brazilian-bangkok",
   "metadata": {},
   "outputs": [],
   "source": [
    "sma_avec_promo.initialise()\n",
    "sma_avec_promo.make_promo((0,40,(30,34),0,0))\n",
    "sma_sans_promo.initialise()"
   ]
  },
  {
   "cell_type": "code",
   "execution_count": null,
   "id": "neither-johnson",
   "metadata": {},
   "outputs": [],
   "source": [
    "sma_avec_promo.run()\n",
    "sma_sans_promo.run()"
   ]
  },
  {
   "cell_type": "markdown",
   "id": "decreased-sodium",
   "metadata": {},
   "source": [
    "Si on veut, il est possible d'afficher les résultats sur une même figure de cette manière :"
   ]
  },
  {
   "cell_type": "code",
   "execution_count": null,
   "id": "guilty-fossil",
   "metadata": {},
   "outputs": [],
   "source": [
    "fig,axs = plt.subplots(1,2,figsize=(12,4))\n",
    "axs[0].plot(sma_sans_promo.get_sales())\n",
    "axs[1].plot(sma_avec_promo.get_sales())"
   ]
  },
  {
   "cell_type": "markdown",
   "id": "educated-visibility",
   "metadata": {},
   "source": [
    "On peut observer le pic des ventes du produit 0 (en bleu) au moment de la promotion ainsi qu'une certaine fidélisation. "
   ]
  },
  {
   "cell_type": "markdown",
   "id": "norman-scanner",
   "metadata": {},
   "source": [
    "## Un test plus simple pour la guerre des prix\n",
    "\n",
    "On génère 2 produits assez similaires, un porté sur la qualité, l'autre sur le prix. On peut aussi imaginer deux produits très différents en terme de prix/qualité ou encore 2 produits encore plus similaires. Ces caratéristiques auront un impact sur les courbes que nous allons observer. Le but ici est de présenter une guerre des prix, avec des baisses successives du prix des produits. \n",
    "\n",
    "Dans un premier temps la méthode SMA.get_favorites() permet de récupérer pour chaque produit le nombre d'agent ayant pour favorit le produit. Un agent a pour produit favori celui qu'il le plus acheté dans l'historique de l'agent. Voici comment utiliser get_favorites():"
   ]
  },
  {
   "cell_type": "code",
   "execution_count": null,
   "id": "superior-gossip",
   "metadata": {},
   "outputs": [],
   "source": [
    "#On fait la simulation\n",
    "cat_0 = Category(\"catégorie 0\",[Pack(\"Produit_A\", 10, 0.5, 1), Pack(\"Produit_B\", 12, 0.7, 1)])\n",
    "sma_avec_guerre_des_prix = SMA([cat_0],300,10)\n",
    "sma_avec_guerre_des_prix.initialise()\n",
    "sma_avec_guerre_des_prix.run()\n",
    "#On récupère les informations\n",
    "results = sma_avec_guerre_des_prix.get_favorites()\n",
    "results"
   ]
  },
  {
   "cell_type": "code",
   "execution_count": null,
   "id": "abandoned-reynolds",
   "metadata": {},
   "outputs": [],
   "source": [
    "plt.plot(results['Produit_A'],label='Produit_A')\n",
    "plt.plot(results['Produit_B'],label='Produit_B')\n",
    "plt.legend()"
   ]
  },
  {
   "cell_type": "markdown",
   "id": "thousand-mainstream",
   "metadata": {},
   "source": [
    "On observe que le produit B est légèrement meilleur que le produit A sur notre population d'agents. "
   ]
  },
  {
   "cell_type": "markdown",
   "id": "national-columbia",
   "metadata": {},
   "source": [
    "On relance une simulation avec des produits différents pour illustrer le fait qu'avec seulement 2 produits en concurence direct leurs paramètres ont une grand importance. \n",
    "\n",
    "De plus la prise en compte des paramètres globaux peuvent faire varier l'importance du prix ou de la qualité. "
   ]
  },
  {
   "cell_type": "code",
   "execution_count": null,
   "id": "german-giving",
   "metadata": {},
   "outputs": [],
   "source": [
    "cat_0 = Category(\"catégorie 0\",[Pack(\"Produit_A\", 6, 0.6, 1), Pack(\"Produit_B\", 24, 0.7, 1)])\n",
    "sma_avec_guerre_des_prix = SMA([cat_0],300,10)\n",
    "sma_avec_guerre_des_prix.initialise()\n",
    "sma_avec_guerre_des_prix.run()\n",
    "#On récupère les informations\n",
    "results = sma_avec_guerre_des_prix.get_favorites()\n",
    "results\n",
    "for k in results.keys():\n",
    "    plt.plot(results[k],label=k)\n",
    "plt.legend()"
   ]
  },
  {
   "cell_type": "markdown",
   "id": "social-console",
   "metadata": {},
   "source": [
    "Nous allons réaliser des simulations de 100 pas de temps à graine aléatoire fixé (pour la comparaison)\n",
    "\n",
    "Maintenant nous allons réaliser une simulation un peu plus longue sans changement de prix."
   ]
  },
  {
   "cell_type": "code",
   "execution_count": null,
   "id": "unnecessary-swiss",
   "metadata": {},
   "outputs": [],
   "source": [
    "np.random.seed(42)\n",
    "#On fait la simulation\n",
    "cat_0 = Category(\"catégorie 0\",[Pack(\"Produit_A\", 100, 0.5, 1), Pack(\"Produit_B\", 120, 0.6, 1)])\n",
    "sma_avec_guerre_des_prix = SMA([cat_0],300,100)\n",
    "sma_avec_guerre_des_prix.initialise()\n",
    "sma_avec_guerre_des_prix.run()\n",
    "#On récupère les informations\n",
    "chiffreAffaires = sma_avec_guerre_des_prix.revenues\n",
    "favoris = sma_avec_guerre_des_prix.get_favorites()"
   ]
  },
  {
   "cell_type": "code",
   "execution_count": null,
   "id": "intermediate-cooper",
   "metadata": {},
   "outputs": [],
   "source": [
    "fig,axs = plt.subplots(1,2,figsize=(12,4))\n",
    "axs[0].plot(chiffreAffaires)\n",
    "for k in favoris.keys():\n",
    "    axs[1].plot(favoris[k],label=k)\n",
    "axs[1].legend()"
   ]
  },
  {
   "cell_type": "markdown",
   "id": "careful-composition",
   "metadata": {},
   "source": [
    "Nouvelle simulation avec une baisse du prix uniquement du produit A\n",
    "\n",
    "Un changement de prix définitif, qui n'est pas une promotion, s'effectue avec la méthode `reduce_price(pourcentage, tick d'effet, produit)` ou `raise_price(pourcentage, tick d'effet, produit)`. ce qui donne par exemple `reduce_price(20, 30, 0, 0)`."
   ]
  },
  {
   "cell_type": "code",
   "execution_count": null,
   "id": "adolescent-carbon",
   "metadata": {},
   "outputs": [],
   "source": [
    "np.random.seed(42)\n",
    "#On fait la simulation\n",
    "cat_0 = Category(\"catégorie 0\",[Pack(\"Produit_A\", 100, 0.5, 1), Pack(\"Produit_B\", 120, 0.6, 1)])\n",
    "sma_avec_guerre_des_prix = SMA([cat_0],300,100)\n",
    "sma_avec_guerre_des_prix.initialise()\n",
    "#On indique à quel moment à lieu la baisse de prix ()\n",
    "sma_avec_guerre_des_prix.reduce_price(40, 30, 0, 0)\n",
    "sma_avec_guerre_des_prix.run()\n",
    "#On récupère les informations\n",
    "chiffreAffaires = sma_avec_guerre_des_prix.revenues\n",
    "favoris = sma_avec_guerre_des_prix.get_favorites()"
   ]
  },
  {
   "cell_type": "code",
   "execution_count": null,
   "id": "virgin-christian",
   "metadata": {},
   "outputs": [],
   "source": [
    "fig,axs = plt.subplots(1,2,figsize=(12,4))\n",
    "axs[0].plot(chiffreAffaires)\n",
    "for k in favoris.keys():\n",
    "    axs[1].plot(favoris[k],label=k)\n",
    "axs[1].legend()"
   ]
  },
  {
   "cell_type": "markdown",
   "id": "formed-major",
   "metadata": {},
   "source": [
    "Finalement on réalise une simulation avec ce qu'on entend par guerre des prix, c'est à dire, le prix du produit B baisse ce qui entraine une baisse du prix du produit A ce qui entraine une baisse du produit B etc. "
   ]
  },
  {
   "cell_type": "code",
   "execution_count": null,
   "id": "cloudy-identifier",
   "metadata": {},
   "outputs": [],
   "source": [
    "np.random.seed(42)\n",
    "#On fait la simulation\n",
    "cat_0 = Category(\"catégorie 0\",[Pack(\"Produit_A\", 100, 0.5, 1), Pack(\"Produit_B\", 120, 0.6, 1)])\n",
    "sma_avec_guerre_des_prix = SMA([cat_0],300,100)\n",
    "sma_avec_guerre_des_prix.initialise()\n",
    "#On indique à quel moment à lieu la baisse de prix ()\n",
    "sma_avec_guerre_des_prix.reduce_price(20, 10, 0, 0)\n",
    "sma_avec_guerre_des_prix.reduce_price(20, 20, 0, 1)\n",
    "sma_avec_guerre_des_prix.reduce_price(20, 30, 0, 0)\n",
    "sma_avec_guerre_des_prix.reduce_price(20, 40, 0, 1)\n",
    "# envrionnement_price_war.reduce_price(20, 50, 0, 1)\n",
    "# envrionnement_price_war.reduce_price(20, 60, 0, 1)\n",
    "sma_avec_guerre_des_prix.run()\n",
    "#On récupère les informations\n",
    "chiffreAffaires = sma_avec_guerre_des_prix.revenues\n",
    "favoris = sma_avec_guerre_des_prix.get_favorites()"
   ]
  },
  {
   "cell_type": "code",
   "execution_count": null,
   "id": "indie-tuesday",
   "metadata": {},
   "outputs": [],
   "source": [
    "fig,axs = plt.subplots(1,2,figsize=(12,4))\n",
    "axs[0].plot(chiffreAffaires)\n",
    "for k in favoris.keys():\n",
    "    axs[1].plot(favoris[k],label=k)\n",
    "axs[1].legend()"
   ]
  },
  {
   "cell_type": "markdown",
   "id": "quantitative-retirement",
   "metadata": {},
   "source": [
    "## Les paramètres du modèle\n",
    "Le modèle dispose de 7 paramètres : prix, qualité, promophile, sat_alpha, phi, c, inertie. \n",
    "Prix qualité promophile et inertie sont des paramètres que gèrent l'importance global pour les agents du prix de la qualité de la promotion et de l'inertie.\n",
    "\n",
    "Un prix à 1 avec les autres valeurs à 0 signifierais que les agents prennent tous uniquement en compte le prix des produits pour déterminer leurs achats.\n",
    "\n",
    "sat_alpha correspond au paramètre de régulation de la pente de la fonction de saturation (utilisé dans le calcul de la quantité). Plus il est élevé plus la pente est douce et inverssement. C est la borne supérieur de cette fonction de saturation.\n",
    "\n",
    "Finalement Phi correspond a l'intensité de l'aversion à a perte. Phi = 0.5 équivaut à ce que perdre 1€ impact négativement un agent 1.5 fois plus que de gagner 1€ l'impact positivement. Phi = 2 correspondrait a ce même ratio égal à 3.\n",
    "\n",
    "Jusqu'a maintenant les paramètres étaient initialisé a ces valeurs : price=0.5, quality=100, promophile=5, sat_alpha=100, phi=0.3, c = 2, inertia = 2 choisies arbitrairement. \n",
    "\n",
    "Les 4 paramètres globaux prix qualité promotion et inertie sont multipliés par les valeurs des produits lors des évaluations. Ainsi ces paramètres globaux régulent l'importance de chaque effet.\n",
    "\n",
    "Par exemple le prix étant dans nos exemples ci-dessus était environ égal à 100, la qualité comprise en entre 0 et 1 la promotion égal soit à 0 soit 1 et l'inertie ayant une valeur compris entre -4 et 20. \n",
    "\n",
    "Ces valeurs multipliées par nos paramètres globaux on obtiens (50, [0,100], (0 ou 5), [-8,40]). Ce sont des valeurs plus proches les unes des autres, nos paramètres globaux viennent donc bien équilibrer l'impact du prix de la qualité de la promotion et de l'inertie. Il permettent aussi de jouer sur le comportement de tous les agents afin d'exacerber certains comportements."
   ]
  },
  {
   "cell_type": "markdown",
   "id": "upper-progress",
   "metadata": {},
   "source": [
    "#### C et alpha_sat\n",
    "Pour mieux comprendre les valeurs alpha_sat et c on affiche la fonction de saturation en faisant varier ces valeurs."
   ]
  },
  {
   "cell_type": "code",
   "execution_count": null,
   "id": "regular-output",
   "metadata": {},
   "outputs": [],
   "source": [
    "def sat(U,alpha,c):\n",
    "        x = (U)\n",
    "        y = math.log(c-1)\n",
    "        return c / (1 + math.exp(-x/alpha+y))"
   ]
  },
  {
   "cell_type": "code",
   "execution_count": null,
   "id": "local-arizona",
   "metadata": {},
   "outputs": [],
   "source": [
    "fig,axs = plt.subplots(1,2,figsize=(12,4))\n",
    "for alpha in [1,2,5,10,20,50,100]:\n",
    "    c=2\n",
    "    res = np.array(np.zeros(len(np.arange(-100,100,0.01))))\n",
    "    cpt = 0\n",
    "    for i in np.arange(-100,100,0.01):\n",
    "        res[cpt] = sat(i,alpha,c)\n",
    "        cpt+=1\n",
    "    axs[0].plot(np.arange(-100,100,0.01),res)\n",
    "axs[0].legend((\"xalpha=1\",\"alpha=2\",\"alpha=5\",\"alpha=10\",\"alpha=20\",\"alpha=50\",\"alpha=100\") )\n",
    "axs[0].set_xlabel(\"Valeur de U(p_i)\")\n",
    "axs[0].set_ylabel(\"Multiplicateur de quantité\")\n",
    "for c in [2,3,4,8,10]:\n",
    "    alpha = 5\n",
    "    res = np.array(np.zeros(len(np.arange(-100,100,0.01))))\n",
    "    cpt = 0\n",
    "    for i in np.arange(-100,100,0.01):\n",
    "        res[cpt] = sat(i,alpha,c)\n",
    "        cpt+=1\n",
    "    axs[1].plot(np.arange(-100,100,0.01),res)\n",
    "axs[1].legend((\"xalpha=1\",\"alpha=2\",\"alpha=5\",\"alpha=10\",\"alpha=20\",\"alpha=50\",\"alpha=100\") )\n",
    "axs[1].set_xlabel(\"Valeur de U(p_i)\")\n",
    "axs[1].set_ylabel(\"Multiplicateur de quantité\")"
   ]
  },
  {
   "cell_type": "markdown",
   "id": "valued-green",
   "metadata": {},
   "source": [
    "#### Simulations pour différents paramètres\n",
    "\n",
    "Voici quelque exemples de changements de paramètres. On reprend la catégorie de produit à 8 produits utilisée précedemment. "
   ]
  },
  {
   "cell_type": "code",
   "execution_count": null,
   "id": "excited-fields",
   "metadata": {},
   "outputs": [],
   "source": [
    "environnement_test = SMA([Ma_categorie],300,100)"
   ]
  },
  {
   "cell_type": "markdown",
   "id": "fresh-portuguese",
   "metadata": {},
   "source": [
    "Les paramètres de l'evironnement sont passés via la méthode initialise() \n",
    "Les paramètres sont price, quality, promophile, sat_alpha, phi, c, inertia"
   ]
  },
  {
   "cell_type": "code",
   "execution_count": null,
   "id": "obvious-category",
   "metadata": {},
   "outputs": [],
   "source": [
    "sma_de_test.initialise(inertia = 10)\n",
    "sma_de_test.make_promo((0,40,(30,34),0,0))\n",
    "sma_de_test.run()\n",
    "sma_de_test.show_sales()"
   ]
  },
  {
   "cell_type": "code",
   "execution_count": null,
   "id": "designed-screening",
   "metadata": {},
   "outputs": [],
   "source": [
    "sma_de_test.initialise(inertia = 0)\n",
    "sma_de_test.make_promo((0,40,(30,34),0,0))\n",
    "sma_de_test.run()\n",
    "sma_de_test.show_sales()"
   ]
  },
  {
   "cell_type": "code",
   "execution_count": null,
   "id": "fallen-tribune",
   "metadata": {},
   "outputs": [],
   "source": [
    "sma_de_test.show_sales_separated()"
   ]
  },
  {
   "cell_type": "markdown",
   "id": "transparent-tunisia",
   "metadata": {},
   "source": [
    "On vois qu'il n'y a plus de fidélisation"
   ]
  },
  {
   "cell_type": "code",
   "execution_count": null,
   "id": "alike-deposit",
   "metadata": {},
   "outputs": [],
   "source": [
    "sma_de_test.initialise(price=0.5, quality=100, promophile=5, sat_alpha=1, phi=0.3, c = 2, inertia = 2)\n",
    "sma_de_test.make_promo((0,40,(30,34),0,0))\n",
    "sma_de_test.run()\n",
    "sma_de_test.show_sales()"
   ]
  },
  {
   "cell_type": "code",
   "execution_count": null,
   "id": "third-village",
   "metadata": {},
   "outputs": [],
   "source": [
    "sma_de_test.initialise(price=2, quality=0, promophile=5, sat_alpha=100, phi=0.3, c = 2, inertia = 0)\n",
    "sma_de_test.make_promo((0,40,(30,34),0,0))\n",
    "sma_de_test.run()\n",
    "sma_de_test.show_sales()"
   ]
  },
  {
   "cell_type": "code",
   "execution_count": null,
   "id": "transparent-shooting",
   "metadata": {},
   "outputs": [],
   "source": [
    "sma_de_test.show_sales_separated()"
   ]
  },
  {
   "cell_type": "markdown",
   "id": "average-pearl",
   "metadata": {},
   "source": [
    "La qualité n'ayant plus d'impact on observe que certains produits (les plus cher) ne sont plus du tout achetés "
   ]
  },
  {
   "cell_type": "code",
   "execution_count": null,
   "id": "vanilla-browser",
   "metadata": {},
   "outputs": [],
   "source": []
  }
 ],
 "metadata": {
  "kernelspec": {
   "display_name": "Python 3",
   "language": "python",
   "name": "python3"
  },
  "language_info": {
   "codemirror_mode": {
    "name": "ipython",
    "version": 3
   },
   "file_extension": ".py",
   "mimetype": "text/x-python",
   "name": "python",
   "nbconvert_exporter": "python",
   "pygments_lexer": "ipython3",
   "version": "3.9.15"
  },
  "vscode": {
   "interpreter": {
    "hash": "40d3a090f54c6569ab1632332b64b2c03c39dcf918b08424e98f38b5ae0af88f"
   }
  }
 },
 "nbformat": 4,
 "nbformat_minor": 5
}
