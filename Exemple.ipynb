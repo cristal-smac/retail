{
 "cells": [
  {
   "cell_type": "markdown",
   "id": "future-spell",
   "metadata": {},
   "source": [
    "# L'influence des promotions sur les ventes d'un supermarché \n",
    "\n",
    "Auteurs : Jarod Vanderlynden , Philippe Mathieu, [CRISTAL Lab](http://www.cristal.univ-lille.fr), [SMAC team](https://www.cristal.univ-lille.fr/?rubrique27&eid=17), [Lille University](http://www.univ-lille.fr), Romain Warlop, [fifty-five](https://www.fifty-five.com/fr/)\n",
    "\n",
    "email : jarod.vanderlynden.etu@univ-lille.fr\n",
    "\n",
    "Création : 5/12/2022\n"
   ]
  },
  {
   "cell_type": "markdown",
   "id": "incorrect-train",
   "metadata": {},
   "source": [
    "## Introduction\n",
    "\n",
    "Cette feuille Jupyter décrit un exemple d'utilisation du modèle proposé dans l'article \"_Comprendre l'impact des stratégies de prix sur le comportement des consommateurs_\". \n",
    "Ce modèle permet notamment de construire un outil de simulation qui reproduit les faits marketings connus tout en en mesurant les impacts.\n",
    "Ce notebook détaille ce modèle et en présente les résultats principaux.\n",
    "\n",
    "Ce modèle représente un supermarché dans lequel on vend des biens de consommation courante. Les agents sont des abstractions des clients (une personne, une famille etc.) ayant chacun leurs propres paramètres internes (sensibilités). Les agents sont omniscients et connaissent tous les produits. Le modèle ne prend pas en compte la géographie du magasin ni l'emplacement des produits. \n"
   ]
  },
  {
   "cell_type": "code",
   "execution_count": 1,
   "id": "equal-halifax",
   "metadata": {},
   "outputs": [],
   "source": [
    "from src.model import *"
   ]
  },
  {
   "cell_type": "code",
   "execution_count": 2,
   "id": "nasty-thunder",
   "metadata": {},
   "outputs": [],
   "source": [
    "import numpy as np\n",
    "import matplotlib.pyplot as plt\n",
    "import seaborn as sns\n",
    "sns.set_theme()"
   ]
  },
  {
   "cell_type": "markdown",
   "id": "fewer-meeting",
   "metadata": {},
   "source": [
    "### Les packs\n",
    "\n",
    "Les promotions étudiées ici s'appuient sur la notion de pack ou de lots d'une même entité. Afin couvrir toutes les situations, l'ensemble de ce qui est vendu dans le supermarché est décrit par la notion de pack. La notion de pack est à comprendre au sens large : un pack peut être constitué d'un unique produit ou d'un produit répété plusieurs fois. On ne traite pas dans ce modèle de packs de produits différents.\n",
    "\n",
    "Les packs sont des ensembles de biens de consommation simples, disposant de 5 caractéristiques : un prix, une qualité, une quantité, et un booléen de promotion. Ils sont identifiés par leur nom.\n",
    "\n",
    "Ils sont instanciés via la classe `Pack(Nom,Prix,Qualité,Quantité)`. Le prix est un prix unitaire, la qualité un réel entre 0 et 1 , 0 représentant une qualité médiocre et 1 représentant la meilleure qualité possible, la quantité le nombre d'unités présentes dans le pack. La quantité de produit fait référence au nombre de produits unitaires dans le pack. Pour des raisons de simplicité, nous ne modélisons pas le volume d'un produit (en gramme, en ml, etc.). Quand un pack est initialement créé, la promotion est mise à `False`, c'est pourquoi elle n'est pas dans le constructeur. Le produit n'est pas modélisé en tant que tel.\n"
   ]
  },
  {
   "cell_type": "code",
   "execution_count": 3,
   "id": "dangerous-saver",
   "metadata": {},
   "outputs": [],
   "source": [
    "# un pack de 2 paquets de pâtes\n",
    "p0 = Pack(\"Pâtes de marque X\", 2.3, 0.5, 2)\n",
    "\n",
    "# une seule bouteille de shampoing de qualité\n",
    "p1 = Pack(\"Un shampoing de marque X\", 18.0, 1.0, 1)\n",
    "\n",
    "# un lot 4 shampoings de moyenne gamme\n",
    "p2 = Pack(\"Lot shampoing de marque Y\", 5.0, 0.5, 4)\n"
   ]
  },
  {
   "cell_type": "markdown",
   "id": "damaged-logistics",
   "metadata": {},
   "source": [
    "Le pack `p0` est un pack de 2 produits, au prix unitaire de `2.3`, ce qui donne un prix global pour le pack de 4.6."
   ]
  },
  {
   "cell_type": "code",
   "execution_count": 4,
   "id": "moral-millennium",
   "metadata": {},
   "outputs": [
    {
     "data": {
      "text/plain": [
       "(2.3, 4.6)"
      ]
     },
     "execution_count": 4,
     "metadata": {},
     "output_type": "execute_result"
    }
   ],
   "source": [
    "p0.getPriceUnit(),p0.getTotalPrice()"
   ]
  },
  {
   "cell_type": "markdown",
   "id": "durable-wesley",
   "metadata": {},
   "source": [
    "Pour plus de réalisme les packs sont répartis en différentes catégories. Une catégorie représente des produits comparables entre eux. Dans ce modèle un client ne choisira qu'un seul pack dans une catégorie donnée (un pack d'eau de 6 bouteilles, dans la catégorie \"eaux\" par ex).\n",
    "\n",
    "Une catégorie est instanciée avec `Category(nom,liste de packs)`. La création d'une catégorie nécessite une liste de packs. Cette liste de packs peut être initialement vide, on ajoutera alors les packs au fur et à mesure à l'aide de la méthode `add_pack(pack)`. "
   ]
  },
  {
   "cell_type": "code",
   "execution_count": 5,
   "id": "blocked-rough",
   "metadata": {},
   "outputs": [
    {
     "name": "stdout",
     "output_type": "stream",
     "text": [
      "Nom :  Pâtes de marque X , Prix total :  4.6\n"
     ]
    },
    {
     "data": {
      "text/plain": [
       "0"
      ]
     },
     "execution_count": 5,
     "metadata": {},
     "output_type": "execute_result"
    }
   ],
   "source": [
    "# les pates\n",
    "cat1 = Category(\"pates\",[p0])\n",
    "cat1.showPacks()"
   ]
  },
  {
   "cell_type": "code",
   "execution_count": 36,
   "id": "sustainable-davis",
   "metadata": {},
   "outputs": [
    {
     "name": "stdout",
     "output_type": "stream",
     "text": [
      "Nom :  Lot shampoing de marque Y , Prix total :  20.0\n",
      "Nom :  Un shampoing de marque X , Prix total :  18.0\n"
     ]
    },
    {
     "data": {
      "text/plain": [
       "0"
      ]
     },
     "execution_count": 36,
     "metadata": {},
     "output_type": "execute_result"
    }
   ],
   "source": [
    "# les shampoings\n",
    "cat2 = Category(\"shampoing\",[])\n",
    "cat2.addPack(p1)\n",
    "cat2.addPack(p2)\n",
    "cat2.showPacks()"
   ]
  },
  {
   "cell_type": "markdown",
   "id": "departmental-polish",
   "metadata": {},
   "source": [
    "- Un pack donne accès à plusieurs méthodes dont ``getName(),getTotalPrice(),simplePromotion(percent)``, percent étant le pourcentage de réduction à appliquer au produit lors d'une promotion.\n",
    "- Une catégorie donne accès à plusieurs méthodes dont ``addPack(pack), getPacks(), showPacks()``"
   ]
  },
  {
   "cell_type": "markdown",
   "id": "otherwise-twins",
   "metadata": {},
   "source": [
    "### Le SMA\n",
    "\n",
    "L'environnement correspond au supermarché. On ne s'interesse pas dans ce modèle au placement géographique des packs, et les agents sont omniscients. Il n'est donc pas necessaire de représenter explicitement l'environnement.\n",
    "Le SMA est donc constitué uniquement des agents et de la liste des packs étudiés. Afin de l'instancier on lui fournit une liste de catégories qui elles-mêmes contiennent les packs. \n",
    "Un magasin plus complet devrait idéalement contenir plusieurs catégories contenant plusieurs packs. Le modèle est capable de traiter plusieurs catégories simultanément, mais dans cet exemple nous restons à une seul catégorie pour illustrer nos résultats.\n",
    "Le SMA est instancié avec `SMA(list_cat[cat1,cat2,...],nb_agent,nb_ticks)`, `list_cat` étant une liste de catégorie, `nb_agent` le nombre d'agents, et `nb_ticks` le nombre de pas de temps de simulation que nous souhaitons réaliser. Un tick correspond au fait que tous les agents vont 1 fois au suermarché (on pourrait considérer que c'est 1 semaine).\n",
    "\n",
    "Dans ce modèle simplifié, nous partons du principe que les packs sont disponibles en quantité infinie. Il n'y a donc pas de quantité en stock ni de rupture de stock. \n",
    "\n",
    "Le paramètre `nb_agents` génère `n` agents dont les caractéristiques sont aléatoires (besoins, sensibilités etc ...).\n"
   ]
  },
  {
   "cell_type": "code",
   "execution_count": 37,
   "id": "dominant-reflection",
   "metadata": {},
   "outputs": [],
   "source": [
    "# Création du SMA sans aucun agent\n",
    "monSMA = SMA([cat1,cat2],0,10)"
   ]
  },
  {
   "cell_type": "code",
   "execution_count": 38,
   "id": "joint-ecuador",
   "metadata": {},
   "outputs": [
    {
     "data": {
      "text/plain": [
       "0"
      ]
     },
     "execution_count": 38,
     "metadata": {},
     "output_type": "execute_result"
    }
   ],
   "source": [
    "monSMA.initialise()"
   ]
  },
  {
   "cell_type": "markdown",
   "id": "taken-optimum",
   "metadata": {},
   "source": [
    "Il n'y a pour l'instant encore aucun agent. Si la simulation est lancée maintenant, bien évidemment rien ne se passe.\n",
    "L'attribut `revenus` permet d'obtenir le chiffre d'affaire du magasin à chaque pas de temps de simulation.\n",
    "Nous avons indiqué précédemment notre souhait d'avoir 10 tours de parole, si on execute le SMA, on obtient alors 10 valeurs, pour l'instant toutes à zero puisqu'il n'y a personne."
   ]
  },
  {
   "cell_type": "code",
   "execution_count": 39,
   "id": "parliamentary-investor",
   "metadata": {},
   "outputs": [
    {
     "data": {
      "text/plain": [
       "array([0., 0., 0., 0., 0., 0., 0., 0., 0., 0.])"
      ]
     },
     "execution_count": 39,
     "metadata": {},
     "output_type": "execute_result"
    }
   ],
   "source": [
    "monSMA.run()\n",
    "monSMA.getTurnover()"
   ]
  },
  {
   "cell_type": "markdown",
   "id": "protected-laser",
   "metadata": {},
   "source": [
    "### Les agents\n",
    "\n",
    "Les agents représentent les clients. Un client possède ses propres caractéristiques (sensibilités) et réalise des choix en conséquence durant son processus d'achat. \n",
    "Il est instancié via la classe `Agent(nom, SMA, hLength, Historique, Profil)`. SMA référence le système dans lequel l'agent évolue. Historique, l_historique et profil sont des paramètres optionnels (aléatoires si non précisés et hLength à 50). `hLength` représente la taille maximale de l'historique d'un agent en fenêtre glissante (les n derniers achats). "
   ]
  },
  {
   "cell_type": "code",
   "execution_count": 40,
   "id": "shared-series",
   "metadata": {},
   "outputs": [],
   "source": [
    "# Cet agent dispose d'un historique d'achats et d'un profil tirés aléatoirement. \n",
    "a1 = Agent(\"Mon 1er agent\",monSMA,hLength = 20)"
   ]
  },
  {
   "cell_type": "markdown",
   "id": "royal-company",
   "metadata": {},
   "source": [
    "#### Les profils / sensibilités\n",
    "Afin d'avoir une différentiation comportementale entre les agents, chacun est doté d'un profil spécifique. Dans ce modèle, le profil d'un agent caractérise les sensibilités de celui ci: Il est constitué d'une map de 4 clés `Prix`, `Qualité`, `Inertiel` `Promophile`, associées à des valeurs de type pourcentage totalisant 100%. Certains agents accordent plus d'importance au prix, ils correspondent aux clients à petit budget. A l'inverse certains agents accordent beaucoup d'importance à la qualité, ils correspondent aux clients qui disposent d'un gros budget, achetant les produits de bonne qualité. Les promophiles sont sensibles aux promotions, les inertiels fidèles à une marque. Quand toutes ces variables sont à peu près équivalentes on parlera de profil équilibré. Dans ce cas les clients accordent une importance à peu près similaire à toutes les caractéristiques des produits. "
   ]
  },
  {
   "cell_type": "code",
   "execution_count": 41,
   "id": "knowing-machinery",
   "metadata": {},
   "outputs": [
    {
     "data": {
      "text/plain": [
       "{'inertie': 0.03, 'price': 0.46, 'quality': 0.05, 'promophile': 0.46}"
      ]
     },
     "execution_count": 41,
     "metadata": {},
     "output_type": "execute_result"
    }
   ],
   "source": [
    "# Création d'un profil sensible aux promotions et aux prix \n",
    "profil1 = Profil({'inertia': 0.03,'price': 0.46,'quality': 0.05,'promophile': 0.46})\n",
    "profil1.getProfil()"
   ]
  },
  {
   "cell_type": "code",
   "execution_count": 42,
   "id": "relative-matthew",
   "metadata": {},
   "outputs": [
    {
     "data": {
      "text/plain": [
       "{'inertie': 0.47619047619047616,\n",
       " 'price': 0.023809523809523808,\n",
       " 'quality': 0.47619047619047616,\n",
       " 'promophile': 0.023809523809523808}"
      ]
     },
     "execution_count": 42,
     "metadata": {},
     "output_type": "execute_result"
    }
   ],
   "source": [
    "# Création d'un profil sensible a la qualité et loyal\n",
    "profil2 = Profil({'price': 1,'quality': 20,'inertia': 20,'promophile': 1})\n",
    "profil2.getProfil()"
   ]
  },
  {
   "cell_type": "markdown",
   "id": "hollow-deviation",
   "metadata": {},
   "source": [
    "Le profil peut être affecté à un agent à sa création "
   ]
  },
  {
   "cell_type": "code",
   "execution_count": 43,
   "id": "first-characteristic",
   "metadata": {},
   "outputs": [
    {
     "data": {
      "text/plain": [
       "{'inertie': 0.03, 'price': 0.46, 'quality': 0.05, 'promophile': 0.46}"
      ]
     },
     "execution_count": 43,
     "metadata": {},
     "output_type": "execute_result"
    }
   ],
   "source": [
    "a2 = Agent(\"Agent 2\", monSMA, profil=profil1)\n",
    "a2.getProfil()"
   ]
  },
  {
   "cell_type": "code",
   "execution_count": 44,
   "id": "acknowledged-delhi",
   "metadata": {},
   "outputs": [
    {
     "data": {
      "text/plain": [
       "{'inertie': 0.47619047619047616,\n",
       " 'price': 0.023809523809523808,\n",
       " 'quality': 0.47619047619047616,\n",
       " 'promophile': 0.023809523809523808}"
      ]
     },
     "execution_count": 44,
     "metadata": {},
     "output_type": "execute_result"
    }
   ],
   "source": [
    "a3 = Agent(\"Agent 3\", monSMA, profil=profil2)\n",
    "a3.getProfil()"
   ]
  },
  {
   "cell_type": "markdown",
   "id": "portuguese-delivery",
   "metadata": {},
   "source": [
    "Il est aussi possible de créer directeur un agent avec un profil aléatoire. Dans ce cas, le tirage n'est pas uniforme mais met toujours en évidence l'une des 4 caratéristiques, sauf pour le profil équilibré."
   ]
  },
  {
   "cell_type": "code",
   "execution_count": 45,
   "id": "divine-intention",
   "metadata": {},
   "outputs": [
    {
     "data": {
      "text/plain": [
       "{'inertie': array([0.07730267]),\n",
       " 'price': array([0.78775849]),\n",
       " 'quality': array([0.07082941]),\n",
       " 'promophile': array([0.06410943])}"
      ]
     },
     "execution_count": 45,
     "metadata": {},
     "output_type": "execute_result"
    }
   ],
   "source": [
    "# initialisation d'un profil aléatoire\n",
    "a4 = Agent(\"Agent 4\",monSMA)\n",
    "a4.getProfil()"
   ]
  },
  {
   "cell_type": "markdown",
   "id": "mechanical-scientist",
   "metadata": {},
   "source": [
    "### L'historique\n",
    "\n",
    "L'historique représente les derniers achats d'un agent par catégorie. Cet historique est une map avec comme clés les nom de catégories et comme valeurs la liste des packs achetés par cet agent (avec la quantité de packs achetée). \n",
    "\n"
   ]
  },
  {
   "cell_type": "code",
   "execution_count": 46,
   "id": "partial-powder",
   "metadata": {},
   "outputs": [
    {
     "data": {
      "text/plain": [
       "{'pates': [(Pâtes de marque X, 4),\n",
       "  (Pâtes de marque X, 5),\n",
       "  (Pâtes de marque X, 5),\n",
       "  (Pâtes de marque X, 10),\n",
       "  (Pâtes de marque X, 9),\n",
       "  (Pâtes de marque X, 9),\n",
       "  (Pâtes de marque X, 6),\n",
       "  (Pâtes de marque X, 6),\n",
       "  (Pâtes de marque X, 4),\n",
       "  (Pâtes de marque X, 5),\n",
       "  (Pâtes de marque X, 4),\n",
       "  (Pâtes de marque X, 6),\n",
       "  (Pâtes de marque X, 10),\n",
       "  (Pâtes de marque X, 8),\n",
       "  (Pâtes de marque X, 4),\n",
       "  (Pâtes de marque X, 4),\n",
       "  (Pâtes de marque X, 5),\n",
       "  (Pâtes de marque X, 7),\n",
       "  (Pâtes de marque X, 8),\n",
       "  (Pâtes de marque X, 7)],\n",
       " 'shampoing': [(Lot shampoing de marque Y, 5),\n",
       "  (Un shampoing de marque X, 7),\n",
       "  (Lot shampoing de marque Y, 4),\n",
       "  (Lot shampoing de marque Y, 4),\n",
       "  (Un shampoing de marque X, 3),\n",
       "  (Lot shampoing de marque Y, 6),\n",
       "  (Un shampoing de marque X, 7),\n",
       "  (Un shampoing de marque X, 3),\n",
       "  (Lot shampoing de marque Y, 5),\n",
       "  (Lot shampoing de marque Y, 7),\n",
       "  (Lot shampoing de marque Y, 5),\n",
       "  (Un shampoing de marque X, 5),\n",
       "  (Un shampoing de marque X, 5),\n",
       "  (Un shampoing de marque X, 4),\n",
       "  (Un shampoing de marque X, 3),\n",
       "  (Lot shampoing de marque Y, 7),\n",
       "  (Lot shampoing de marque Y, 3),\n",
       "  (Un shampoing de marque X, 6),\n",
       "  (Un shampoing de marque X, 3),\n",
       "  (Un shampoing de marque X, 5)]}"
      ]
     },
     "execution_count": 46,
     "metadata": {},
     "output_type": "execute_result"
    }
   ],
   "source": [
    "#L'historique généré aléatoirement des agents que nous avons crées. \n",
    "a1.getHistory()"
   ]
  },
  {
   "cell_type": "markdown",
   "id": "legitimate-recorder",
   "metadata": {},
   "source": [
    "Pour créer un historique il y a 2 manières de faire : soit passer par une méthode  `genHistory(cat_list, avg, length)` soit passer directement la liste à un agent `History (dict{catégorie1:achats,...},dict{catégorie1:quantité,....})`. La première méthode génère un historique à partir de la liste des catégories et de la moyenne associée. La seconde nécessite un historique complet. "
   ]
  },
  {
   "cell_type": "code",
   "execution_count": 47,
   "id": "assumed-passenger",
   "metadata": {},
   "outputs": [],
   "source": [
    "H = genHistory([cat1,cat2],[10,5],50)"
   ]
  },
  {
   "cell_type": "code",
   "execution_count": 48,
   "id": "broad-rocket",
   "metadata": {},
   "outputs": [
    {
     "data": {
      "text/plain": [
       "{'pates': [(Pâtes de marque X, 10),\n",
       "  (Pâtes de marque X, 7),\n",
       "  (Pâtes de marque X, 7),\n",
       "  (Pâtes de marque X, 11),\n",
       "  (Pâtes de marque X, 8),\n",
       "  (Pâtes de marque X, 12),\n",
       "  (Pâtes de marque X, 9),\n",
       "  (Pâtes de marque X, 8),\n",
       "  (Pâtes de marque X, 10),\n",
       "  (Pâtes de marque X, 10),\n",
       "  (Pâtes de marque X, 8),\n",
       "  (Pâtes de marque X, 11),\n",
       "  (Pâtes de marque X, 9),\n",
       "  (Pâtes de marque X, 9),\n",
       "  (Pâtes de marque X, 8),\n",
       "  (Pâtes de marque X, 9),\n",
       "  (Pâtes de marque X, 12),\n",
       "  (Pâtes de marque X, 9),\n",
       "  (Pâtes de marque X, 9),\n",
       "  (Pâtes de marque X, 7),\n",
       "  (Pâtes de marque X, 10),\n",
       "  (Pâtes de marque X, 12),\n",
       "  (Pâtes de marque X, 11),\n",
       "  (Pâtes de marque X, 7),\n",
       "  (Pâtes de marque X, 11),\n",
       "  (Pâtes de marque X, 8),\n",
       "  (Pâtes de marque X, 8),\n",
       "  (Pâtes de marque X, 10),\n",
       "  (Pâtes de marque X, 10),\n",
       "  (Pâtes de marque X, 12),\n",
       "  (Pâtes de marque X, 7),\n",
       "  (Pâtes de marque X, 9),\n",
       "  (Pâtes de marque X, 9),\n",
       "  (Pâtes de marque X, 7),\n",
       "  (Pâtes de marque X, 12),\n",
       "  (Pâtes de marque X, 11),\n",
       "  (Pâtes de marque X, 11),\n",
       "  (Pâtes de marque X, 10),\n",
       "  (Pâtes de marque X, 9),\n",
       "  (Pâtes de marque X, 10),\n",
       "  (Pâtes de marque X, 10),\n",
       "  (Pâtes de marque X, 10),\n",
       "  (Pâtes de marque X, 8),\n",
       "  (Pâtes de marque X, 12),\n",
       "  (Pâtes de marque X, 11),\n",
       "  (Pâtes de marque X, 7),\n",
       "  (Pâtes de marque X, 11),\n",
       "  (Pâtes de marque X, 8),\n",
       "  (Pâtes de marque X, 8),\n",
       "  (Pâtes de marque X, 12)],\n",
       " 'shampoing': [(Lot shampoing de marque Y, 4),\n",
       "  (Lot shampoing de marque Y, 2),\n",
       "  (Lot shampoing de marque Y, 2),\n",
       "  (Un shampoing de marque X, 2),\n",
       "  (Lot shampoing de marque Y, 5),\n",
       "  (Un shampoing de marque X, 7),\n",
       "  (Lot shampoing de marque Y, 4),\n",
       "  (Un shampoing de marque X, 3),\n",
       "  (Lot shampoing de marque Y, 2),\n",
       "  (Un shampoing de marque X, 4),\n",
       "  (Un shampoing de marque X, 5),\n",
       "  (Lot shampoing de marque Y, 3),\n",
       "  (Lot shampoing de marque Y, 3),\n",
       "  (Lot shampoing de marque Y, 6),\n",
       "  (Un shampoing de marque X, 7),\n",
       "  (Lot shampoing de marque Y, 7),\n",
       "  (Lot shampoing de marque Y, 5),\n",
       "  (Un shampoing de marque X, 6),\n",
       "  (Un shampoing de marque X, 5),\n",
       "  (Lot shampoing de marque Y, 7),\n",
       "  (Un shampoing de marque X, 3),\n",
       "  (Lot shampoing de marque Y, 5),\n",
       "  (Lot shampoing de marque Y, 3),\n",
       "  (Un shampoing de marque X, 5),\n",
       "  (Un shampoing de marque X, 5),\n",
       "  (Lot shampoing de marque Y, 3),\n",
       "  (Lot shampoing de marque Y, 5),\n",
       "  (Lot shampoing de marque Y, 3),\n",
       "  (Lot shampoing de marque Y, 2),\n",
       "  (Lot shampoing de marque Y, 4),\n",
       "  (Lot shampoing de marque Y, 4),\n",
       "  (Lot shampoing de marque Y, 2),\n",
       "  (Un shampoing de marque X, 5),\n",
       "  (Lot shampoing de marque Y, 4),\n",
       "  (Un shampoing de marque X, 2),\n",
       "  (Un shampoing de marque X, 6),\n",
       "  (Un shampoing de marque X, 2),\n",
       "  (Lot shampoing de marque Y, 5),\n",
       "  (Un shampoing de marque X, 4),\n",
       "  (Lot shampoing de marque Y, 3),\n",
       "  (Lot shampoing de marque Y, 5),\n",
       "  (Un shampoing de marque X, 7),\n",
       "  (Lot shampoing de marque Y, 4),\n",
       "  (Lot shampoing de marque Y, 6),\n",
       "  (Lot shampoing de marque Y, 5),\n",
       "  (Lot shampoing de marque Y, 6),\n",
       "  (Lot shampoing de marque Y, 5),\n",
       "  (Un shampoing de marque X, 5),\n",
       "  (Lot shampoing de marque Y, 5),\n",
       "  (Un shampoing de marque X, 5)]}"
      ]
     },
     "execution_count": 48,
     "metadata": {},
     "output_type": "execute_result"
    }
   ],
   "source": [
    "a5 = Agent(\"Agent 5\",monSMA,history = H)\n",
    "a5.getHistory()"
   ]
  },
  {
   "cell_type": "markdown",
   "id": "departmental-medicaid",
   "metadata": {},
   "source": [
    "Ajoutons ces 3 agents à notre environnement. Attention a bien passer une liste en paramètre."
   ]
  },
  {
   "cell_type": "code",
   "execution_count": 49,
   "id": "severe-dealer",
   "metadata": {},
   "outputs": [],
   "source": [
    "monSMA.addAgent([a1,a2,a3,a4,a5])"
   ]
  },
  {
   "cell_type": "markdown",
   "id": "previous-norman",
   "metadata": {},
   "source": [
    "## La simulation\n",
    "\n",
    "Maintenant nous disposons de tout ce dont nous avons besoin pour réaliser une simulation. La simulation peut être lancée plusieurs fois, un résultat différent apparaîtra à cause de l'aspect stochastique du modèle notamment dans le choix des agents ('agent choisi un produit d'une catégorie selon une loi de probabilité propotionnelle au score du produit). "
   ]
  },
  {
   "cell_type": "code",
   "execution_count": 50,
   "id": "human-satin",
   "metadata": {},
   "outputs": [
    {
     "data": {
      "text/plain": [
       "array([259.8, 372.6, 388.4, 381.8, 474.4, 158.4, 371.2, 458.2, 196. ,\n",
       "       625.6])"
      ]
     },
     "execution_count": 50,
     "metadata": {},
     "output_type": "execute_result"
    }
   ],
   "source": [
    "monSMA.initialise()\n",
    "monSMA.run()\n",
    "monSMA.getTurnover()"
   ]
  },
  {
   "cell_type": "markdown",
   "id": "attached-sharp",
   "metadata": {},
   "source": [
    "La liste afichée présente l'évolution du chiffre d'affaires à chaque pas de temps pour l'ensemble les agents Sum(produits achetés * quantité acheté * prix).\n",
    "Pour mieux comprendre les mécanismes du modèle il est possible d'afficher une trace de ce que les agents ont acheté.\n",
    "\n",
    "Ici nous avons enregistré 5 agents qui achètent dans 2 catégories (donc 2 packs)."
   ]
  },
  {
   "cell_type": "code",
   "execution_count": 51,
   "id": "exotic-halifax",
   "metadata": {},
   "outputs": [
    {
     "name": "stdout",
     "output_type": "stream",
     "text": [
      "Pas de temps num :  0  Agent :  Mon 1er agent  Besoin 6.25  Achat :  Pâtes de marque X Quantité :  7\n",
      "Pas de temps num :  0  Agent :  Mon 1er agent  Besoin 4.65  Achat :  Un shampoing de marque X Quantité :  1\n",
      "Pas de temps num :  0  Agent :  Agent 2  Besoin 5.14  Achat : Rien Quantité : 0\n",
      "Pas de temps num :  0  Agent :  Agent 2  Besoin 7.24  Achat :  Un shampoing de marque X Quantité :  4\n",
      "Pas de temps num :  0  Agent :  Agent 3  Besoin 5.38  Achat : Rien Quantité : 0\n",
      "Pas de temps num :  0  Agent :  Agent 3  Besoin 2.94  Achat :  Un shampoing de marque X Quantité :  3\n",
      "Pas de temps num :  0  Agent :  Agent 4  Besoin 5.28  Achat :  Pâtes de marque X Quantité :  8\n",
      "Pas de temps num :  0  Agent :  Agent 4  Besoin 8.7  Achat :  Un shampoing de marque X Quantité :  8\n",
      "Pas de temps num :  0  Agent :  Agent 5  Besoin 9.52  Achat : Rien Quantité : 0\n",
      "Pas de temps num :  0  Agent :  Agent 5  Besoin 4.5  Achat : Rien Quantité : 0\n",
      "Pas de temps num :  1  Agent :  Mon 1er agent  Besoin 5.95  Achat : Rien Quantité : 0\n",
      "Pas de temps num :  1  Agent :  Mon 1er agent  Besoin 4.75  Achat :  Un shampoing de marque X Quantité :  7\n",
      "Pas de temps num :  1  Agent :  Agent 2  Besoin 5.28  Achat :  Pâtes de marque X Quantité :  6\n",
      "Pas de temps num :  1  Agent :  Agent 2  Besoin 7.14  Achat : Rien Quantité : 0\n",
      "Pas de temps num :  1  Agent :  Agent 3  Besoin 5.86  Achat :  Pâtes de marque X Quantité :  14\n",
      "Pas de temps num :  1  Agent :  Agent 3  Besoin 2.88  Achat : Rien Quantité : 0\n",
      "Pas de temps num :  1  Agent :  Agent 4  Besoin 5.26  Achat : Rien Quantité : 0\n",
      "Pas de temps num :  1  Agent :  Agent 4  Besoin 8.5  Achat : Rien Quantité : 0\n",
      "Pas de temps num :  1  Agent :  Agent 5  Besoin 9.62  Achat :  Pâtes de marque X Quantité :  8\n",
      "Pas de temps num :  1  Agent :  Agent 5  Besoin 4.44  Achat : Rien Quantité : 0\n",
      "Pas de temps num :  2  Agent :  Mon 1er agent  Besoin 6.05  Achat :  Pâtes de marque X Quantité :  6\n",
      "Pas de temps num :  2  Agent :  Mon 1er agent  Besoin 5.15  Achat :  Un shampoing de marque X Quantité :  13\n",
      "Pas de temps num :  2  Agent :  Agent 2  Besoin 5.14  Achat : Rien Quantité : 0\n",
      "Pas de temps num :  2  Agent :  Agent 2  Besoin 7.24  Achat :  Lot shampoing de marque Y Quantité :  3\n",
      "Pas de temps num :  2  Agent :  Agent 3  Besoin 5.72  Achat : Rien Quantité : 0\n",
      "Pas de temps num :  2  Agent :  Agent 3  Besoin 2.9  Achat :  Un shampoing de marque X Quantité :  4\n",
      "Pas de temps num :  2  Agent :  Agent 4  Besoin 5.1  Achat : Rien Quantité : 0\n",
      "Pas de temps num :  2  Agent :  Agent 4  Besoin 8.66  Achat :  Lot shampoing de marque Y Quantité :  3\n",
      "Pas de temps num :  2  Agent :  Agent 5  Besoin 9.44  Achat : Rien Quantité : 0\n",
      "Pas de temps num :  2  Agent :  Agent 5  Besoin 4.54  Achat :  Un shampoing de marque X Quantité :  8\n",
      "Pas de temps num :  3  Agent :  Mon 1er agent  Besoin 5.65  Achat : Rien Quantité : 0\n",
      "Pas de temps num :  3  Agent :  Mon 1er agent  Besoin 4.95  Achat : Rien Quantité : 0\n",
      "Pas de temps num :  3  Agent :  Agent 2  Besoin 4.96  Achat : Rien Quantité : 0\n",
      "Pas de temps num :  3  Agent :  Agent 2  Besoin 7.34  Achat :  Lot shampoing de marque Y Quantité :  3\n",
      "Pas de temps num :  3  Agent :  Agent 3  Besoin 5.56  Achat : Rien Quantité : 0\n",
      "Pas de temps num :  3  Agent :  Agent 3  Besoin 2.82  Achat : Rien Quantité : 0\n",
      "Pas de temps num :  3  Agent :  Agent 4  Besoin 5.2  Achat :  Pâtes de marque X Quantité :  5\n",
      "Pas de temps num :  3  Agent :  Agent 4  Besoin 8.42  Achat : Rien Quantité : 0\n",
      "Pas de temps num :  3  Agent :  Agent 5  Besoin 9.46  Achat :  Pâtes de marque X Quantité :  5\n",
      "Pas de temps num :  3  Agent :  Agent 5  Besoin 4.56  Achat :  Un shampoing de marque X Quantité :  7\n",
      "Pas de temps num :  4  Agent :  Mon 1er agent  Besoin 5.55  Achat :  Pâtes de marque X Quantité :  1\n",
      "Pas de temps num :  4  Agent :  Mon 1er agent  Besoin 5.0  Achat :  Un shampoing de marque X Quantité :  4\n",
      "Pas de temps num :  4  Agent :  Agent 2  Besoin 5.1  Achat :  Pâtes de marque X Quantité :  7\n",
      "Pas de temps num :  4  Agent :  Agent 2  Besoin 7.36  Achat :  Lot shampoing de marque Y Quantité :  3\n",
      "Pas de temps num :  4  Agent :  Agent 3  Besoin 5.5  Achat : Rien Quantité : 0\n",
      "Pas de temps num :  4  Agent :  Agent 3  Besoin 2.9  Achat :  Un shampoing de marque X Quantité :  6\n",
      "Pas de temps num :  4  Agent :  Agent 4  Besoin 5.18  Achat : Rien Quantité : 0\n",
      "Pas de temps num :  4  Agent :  Agent 4  Besoin 8.8  Achat :  Lot shampoing de marque Y Quantité :  6\n",
      "Pas de temps num :  4  Agent :  Agent 5  Besoin 9.3  Achat : Rien Quantité : 0\n",
      "Pas de temps num :  4  Agent :  Agent 5  Besoin 4.42  Achat : Rien Quantité : 0\n",
      "Pas de temps num :  5  Agent :  Mon 1er agent  Besoin 6.05  Achat :  Pâtes de marque X Quantité :  7\n",
      "Pas de temps num :  5  Agent :  Mon 1er agent  Besoin 4.65  Achat : Rien Quantité : 0\n",
      "Pas de temps num :  5  Agent :  Agent 2  Besoin 4.94  Achat : Rien Quantité : 0\n",
      "Pas de temps num :  5  Agent :  Agent 2  Besoin 7.24  Achat : Rien Quantité : 0\n",
      "Pas de temps num :  5  Agent :  Agent 3  Besoin 5.42  Achat : Rien Quantité : 0\n",
      "Pas de temps num :  5  Agent :  Agent 3  Besoin 2.86  Achat :  Un shampoing de marque X Quantité :  3\n",
      "Pas de temps num :  5  Agent :  Agent 4  Besoin 5.44  Achat :  Pâtes de marque X Quantité :  7\n",
      "Pas de temps num :  5  Agent :  Agent 4  Besoin 8.74  Achat :  Lot shampoing de marque Y Quantité :  2\n",
      "Pas de temps num :  5  Agent :  Agent 5  Besoin 9.52  Achat :  Pâtes de marque X Quantité :  10\n",
      "Pas de temps num :  5  Agent :  Agent 5  Besoin 4.44  Achat :  Un shampoing de marque X Quantité :  8\n",
      "Pas de temps num :  6  Agent :  Mon 1er agent  Besoin 6.0  Achat :  Pâtes de marque X Quantité :  2\n",
      "Pas de temps num :  6  Agent :  Mon 1er agent  Besoin 4.8  Achat :  Un shampoing de marque X Quantité :  6\n",
      "Pas de temps num :  6  Agent :  Agent 2  Besoin 5.06  Achat :  Pâtes de marque X Quantité :  5\n",
      "Pas de temps num :  6  Agent :  Agent 2  Besoin 7.02  Achat : Rien Quantité : 0\n",
      "Pas de temps num :  6  Agent :  Agent 3  Besoin 5.94  Achat :  Pâtes de marque X Quantité :  15\n",
      "Pas de temps num :  6  Agent :  Agent 3  Besoin 2.82  Achat :  Un shampoing de marque X Quantité :  1\n",
      "Pas de temps num :  6  Agent :  Agent 4  Besoin 5.46  Achat :  Pâtes de marque X Quantité :  1\n",
      "Pas de temps num :  6  Agent :  Agent 4  Besoin 8.52  Achat : Rien Quantité : 0\n",
      "Pas de temps num :  6  Agent :  Agent 5  Besoin 9.76  Achat :  Pâtes de marque X Quantité :  12\n",
      "Pas de temps num :  6  Agent :  Agent 5  Besoin 4.34  Achat : Rien Quantité : 0\n",
      "Pas de temps num :  7  Agent :  Mon 1er agent  Besoin 5.75  Achat :  Pâtes de marque X Quantité :  1\n",
      "Pas de temps num :  7  Agent :  Mon 1er agent  Besoin 4.5  Achat : Rien Quantité : 0\n",
      "Pas de temps num :  7  Agent :  Agent 2  Besoin 4.96  Achat : Rien Quantité : 0\n",
      "Pas de temps num :  7  Agent :  Agent 2  Besoin 7.04  Achat :  Lot shampoing de marque Y Quantité :  2\n",
      "Pas de temps num :  7  Agent :  Agent 3  Besoin 5.88  Achat : Rien Quantité : 0\n",
      "Pas de temps num :  7  Agent :  Agent 3  Besoin 2.88  Achat :  Un shampoing de marque X Quantité :  5\n",
      "Pas de temps num :  7  Agent :  Agent 4  Besoin 5.42  Achat : Rien Quantité : 0\n",
      "Pas de temps num :  7  Agent :  Agent 4  Besoin 8.66  Achat :  Lot shampoing de marque Y Quantité :  4\n",
      "Pas de temps num :  7  Agent :  Agent 5  Besoin 9.58  Achat : Rien Quantité : 0\n",
      "Pas de temps num :  7  Agent :  Agent 5  Besoin 4.36  Achat :  Un shampoing de marque X Quantité :  7\n",
      "Pas de temps num :  8  Agent :  Mon 1er agent  Besoin 5.75  Achat :  Pâtes de marque X Quantité :  4\n",
      "Pas de temps num :  8  Agent :  Mon 1er agent  Besoin 4.9  Achat :  Un shampoing de marque X Quantité :  11\n",
      "Pas de temps num :  8  Agent :  Agent 2  Besoin 4.94  Achat : Rien Quantité : 0\n",
      "Pas de temps num :  8  Agent :  Agent 2  Besoin 7.22  Achat :  Lot shampoing de marque Y Quantité :  4\n",
      "Pas de temps num :  8  Agent :  Agent 3  Besoin 5.74  Achat : Rien Quantité : 0\n",
      "Pas de temps num :  8  Agent :  Agent 3  Besoin 2.84  Achat : Rien Quantité : 0\n",
      "Pas de temps num :  8  Agent :  Agent 4  Besoin 5.64  Achat :  Pâtes de marque X Quantité :  6\n",
      "Pas de temps num :  8  Agent :  Agent 4  Besoin 8.44  Achat : Rien Quantité : 0\n",
      "Pas de temps num :  8  Agent :  Agent 5  Besoin 9.44  Achat :  Pâtes de marque X Quantité :  1\n",
      "Pas de temps num :  8  Agent :  Agent 5  Besoin 4.26  Achat : Rien Quantité : 0\n",
      "Pas de temps num :  9  Agent :  Mon 1er agent  Besoin 5.4  Achat : Rien Quantité : 0\n",
      "Pas de temps num :  9  Agent :  Mon 1er agent  Besoin 4.95  Achat :  Un shampoing de marque X Quantité :  6\n",
      "Pas de temps num :  9  Agent :  Agent 2  Besoin 5.2  Achat :  Pâtes de marque X Quantité :  11\n",
      "Pas de temps num :  9  Agent :  Agent 2  Besoin 7.22  Achat :  Lot shampoing de marque Y Quantité :  2\n",
      "Pas de temps num :  9  Agent :  Agent 3  Besoin 5.6  Achat : Rien Quantité : 0\n",
      "Pas de temps num :  9  Agent :  Agent 3  Besoin 2.9  Achat :  Un shampoing de marque X Quantité :  6\n",
      "Pas de temps num :  9  Agent :  Agent 4  Besoin 5.6  Achat : Rien Quantité : 0\n",
      "Pas de temps num :  9  Agent :  Agent 4  Besoin 8.6  Achat :  Lot shampoing de marque Y Quantité :  5\n",
      "Pas de temps num :  9  Agent :  Agent 5  Besoin 9.3  Achat : Rien Quantité : 0\n",
      "Pas de temps num :  9  Agent :  Agent 5  Besoin 4.24  Achat :  Un shampoing de marque X Quantité :  6\n"
     ]
    },
    {
     "data": {
      "text/plain": [
       "array([357. , 254.8, 597.6, 232. , 396.8, 348.4, 287. , 340.6, 328.6,\n",
       "       514.6])"
      ]
     },
     "execution_count": 51,
     "metadata": {},
     "output_type": "execute_result"
    }
   ],
   "source": [
    "monSMA.initialise()\n",
    "monSMA.run(trace=True)\n",
    "monSMA.getTurnover()"
   ]
  },
  {
   "cell_type": "code",
   "execution_count": 52,
   "id": "hungry-floor",
   "metadata": {},
   "outputs": [
    {
     "data": {
      "image/png": "[encoded data removed]",
      "text/plain": [
       "<Figure size 432x288 with 1 Axes>"
      ]
     },
     "metadata": {
      "needs_background": "light"
     },
     "output_type": "display_data"
    },
    {
     "data": {
      "image/png": "[encoded data removed]",
      "text/plain": [
       "<Figure size 432x288 with 1 Axes>"
      ]
     },
     "metadata": {
      "needs_background": "light"
     },
     "output_type": "display_data"
    },
    {
     "data": {
      "text/plain": [
       "0"
      ]
     },
     "execution_count": 52,
     "metadata": {},
     "output_type": "execute_result"
    }
   ],
   "source": [
    "# Pour afficher les ventes de chaque packs\n",
    "# Il trace automatiquement autant de graphiques qu'il y a de catégories\n",
    "monSMA.showPacksSales()"
   ]
  },
  {
   "cell_type": "markdown",
   "id": "undefined-month",
   "metadata": {},
   "source": [
    "La méthode `initialise` permet de relancer une simulation. Une réinitialisation du SMA ne change pas les historiques des agents. Cela ne réinitialise que les paramètres du SMA (ce qui a déjà été acheté).\n",
    "\n",
    "Les agents disposent donc des profils et historiques d'achats que ceux qu'ils avaient à la fin de la dernière simulation."
   ]
  },
  {
   "cell_type": "markdown",
   "id": "vulnerable-idaho",
   "metadata": {},
   "source": [
    "## La promotion\n",
    "Maintenant que nous avons nos agents différentiés, chacun avec son propre profil (dont des promophiles) Il est possible d'étudier l'influence de différentes promotions. L'application d'une promotion se fait par la méthode `make_promo(type,quantity,ticks,category,pack)`.\n",
    "\n",
    "`type` est le type de promotion. (0 de type pourcentage de réduction, 1 de type x acheté y offert)\n",
    "\n",
    "`quantity` le pourcentage de la promotion (si c'est une promotion en %) ou un doublet (x,y) si c'est une promotion x acheté y offert.\n",
    "\n",
    "`ticks` un doublet contenant 2 entiers, le pas de temps du début de la promotion et le pas de temps de fin de promotion. \n",
    "\n",
    "`category` Le nom de la catégorie sur laquelle on souhaite faire une promotion\n",
    "\n",
    "`pack` Le nom du pack sur lequel on souhaite faire une promotion\n"
   ]
  },
  {
   "cell_type": "code",
   "execution_count": 5,
   "id": "animated-funds",
   "metadata": {},
   "outputs": [],
   "source": [
    "# Reprenons un modèle complet\n",
    "\n",
    "# Les produits\n",
    "\n",
    "# les catégories\n",
    "\n",
    "# les agents\n",
    "\n",
    "# le SMA\n",
    "\n",
    "\n",
    "# Un pack de 2 paquets de pâtes\n",
    "p0 = Pack(\"Pâtes de marque X\", 2.3, 0.5, 2)\n",
    "\n",
    "# Une seule bouteille de shampoing de qualité\n",
    "p1 = Pack(\"Un shampoing de marque X\", 18.0, 1.0, 1)\n",
    "\n",
    "# Un lot 4 shampoings de moyenne gamme\n",
    "p2 = Pack(\"Lot shampoing de marque Y\", 5.0, 0.5, 4)\n",
    "\n",
    "# les pates\n",
    "cat1 = Category(\"pates\",[p0])\n",
    "\n",
    "# les shampoings\n",
    "cat2 = Category(\"shampoing\",[])\n",
    "cat2.addPack(p1)\n",
    "cat2.addPack(p2)\n",
    "\n",
    "# Création d'un SMA contenant les catégories cat1 et cat2, sans agents, avec une durée de simulation de 10 pas de temps. \n",
    "monSMA = SMA([cat1,cat2],0,10)\n",
    "monSMA.initialise()\n",
    "\n",
    "# Création des agents\n",
    "a1 = Agent(\"agent1\",monSMA,hLength = 20)\n",
    "a2 = Agent(\"agent2\",monSMA,hLength = 20)\n",
    "a3 = Agent(\"agent3\",monSMA,hLength = 20)\n",
    "monSMA.addAgent([a1,a2,a3])"
   ]
  },
  {
   "cell_type": "code",
   "execution_count": 6,
   "id": "technological-visit",
   "metadata": {},
   "outputs": [],
   "source": [
    "# On lance ici le SMA sur 10 étapes, avec une promotion entre les ticks 3 et 6\n",
    "monSMA.make_promo(0,40,(3,6),\"shampoing\",\"Lot shampoing de marque Y\")\n",
    "monSMA.run()"
   ]
  },
  {
   "cell_type": "code",
   "execution_count": 7,
   "id": "religious-captain",
   "metadata": {},
   "outputs": [
    {
     "data": {
      "image/png": "[encoded data removed]",
      "text/plain": [
       "<Figure size 640x480 with 1 Axes>"
      ]
     },
     "metadata": {},
     "output_type": "display_data"
    },
    {
     "data": {
      "image/png": "[encoded data removed]",
      "text/plain": [
       "<Figure size 640x480 with 1 Axes>"
      ]
     },
     "metadata": {},
     "output_type": "display_data"
    },
    {
     "data": {
      "text/plain": [
       "0"
      ]
     },
     "execution_count": 7,
     "metadata": {},
     "output_type": "execute_result"
    }
   ],
   "source": [
    "monSMA.showPacksSales()"
   ]
  },
  {
   "cell_type": "markdown",
   "id": "worthy-restriction",
   "metadata": {},
   "source": [
    "On remarque généralement une légère augmentation des ventes des _Lot de shampoings de marque Y_ par rapport à la simulation précédente, cette augmentation des ventes est due à la promotion de ce pack. "
   ]
  },
  {
   "cell_type": "markdown",
   "id": "informative-consultancy",
   "metadata": {},
   "source": [
    "## Les paramètres du modèle\n",
    "Le modèle dispose de 7 paramètres : prix, qualité, promophile, sat_alpha, phi, c et inertie. \n",
    "Ces paramètres sont tous des paramètres optionels qui peuvent être modifiés via la méthode `initialise()`. Par défaut leur valeur est fixe. \n",
    "\n",
    "`Prix, qualité, promophile, inertie` sont les paramètres que gèrent l'importance global pour tous les agents du prix de la qualité de la promotion et de l'inertie. Ces paramètres varient selon le type de magasin par exemple, est-ce un magasin discount ou les prix sont plutôt bas (le paramètre prix sera élevé) ou un magasin de luxe ou le prix importe peu (le paramètre prix sera faible). \n",
    "\n",
    "Par exemple un prix à 1 avec les autres valeurs à 0 signifierais que les agents prennent tous uniquement en compte le prix des produits pour déterminer leurs achats. Le prix à 1 et l'inertie à 10 signifierais que tous les agents sont très inertiels et accord un peu d'importance au prix. "
   ]
  },
  {
   "cell_type": "markdown",
   "id": "persistent-healthcare",
   "metadata": {},
   "source": [
    "`sat_alpha` correspond au paramètre de régulation de la pente de la fonction de saturation (utilisé dans le calcul de la quantité). Plus il est élevé plus la pente est douce et inversement. \n",
    "\n",
    "C est la borne supérieur de cette fonction de saturation.\n",
    "\n",
    "La fonction de saturation est utilisée dans le calcul du nombre de packs que l'agent achète. Les agents attribuent des scores selon une fonction d'utilité. Ces scores permettent aux agents de choisir le produit qu'ils vont acheter. Enfin le produit qui a été choisi est comparé a un produit de référence (mental ou réel), unique pour chaque agent. La différence est reportée dans la fonction de saturation qui viens moduler la quantité de packs acheté. Cette fonction traduit, que plus le pack est intéressant (selon les caractéristiques de l'agent) par rapport a ce qu'il a l'habitude d'acheter plus l'agent achète un grand nombre de ce pack. A l'inverse plus le produit est peu intéressant moins l'agent achète de packs."
   ]
  },
  {
   "cell_type": "code",
   "execution_count": 59,
   "id": "sixth-sunrise",
   "metadata": {},
   "outputs": [
    {
     "data": {
      "text/plain": [
       "Text(0, 0.5, 'Multiplicateur de quantité')"
      ]
     },
     "execution_count": 59,
     "metadata": {},
     "output_type": "execute_result"
    },
    {
     "data": {
      "image/png": "[encoded data removed]",
      "text/plain": [
       "<Figure size 864x288 with 2 Axes>"
      ]
     },
     "metadata": {
      "needs_background": "light"
     },
     "output_type": "display_data"
    }
   ],
   "source": [
    "#Exemple de différents paramètres C et sat_alpha\n",
    "# Définition de la fonction de saturation\n",
    "def sat(U,alpha,c):\n",
    "        x = (U)\n",
    "        y = math.log(c-1)\n",
    "        return c / (1 + math.exp(-x/alpha+y))\n",
    "\n",
    "# Affichage de la fonction de saturation selon sat_alpha\n",
    "fig,axs = plt.subplots(1,2,figsize=(12,4))\n",
    "for alpha in [1,2,5,10,20,50,100]:\n",
    "    c=2\n",
    "    res = np.array(np.zeros(len(np.arange(-100,100,0.01))))\n",
    "    cpt = 0\n",
    "    for i in np.arange(-100,100,0.01):\n",
    "        res[cpt] = sat(i,alpha,c)\n",
    "        cpt+=1\n",
    "    axs[0].plot(np.arange(-100,100,0.01),res)\n",
    "axs[0].legend((\"xalpha=1\",\"alpha=2\",\"alpha=5\",\"alpha=10\",\"alpha=20\",\"alpha=50\",\"alpha=100\") )\n",
    "axs[0].set_xlabel(\"Valeur de U(p_i)\")\n",
    "axs[0].set_ylabel(\"Multiplicateur de quantité\")\n",
    "\n",
    "# Affichage de la fonction de saturation selon C\n",
    "for c in [2,3,4,8,10]:\n",
    "    alpha = 5\n",
    "    res = np.array(np.zeros(len(np.arange(-100,100,0.01))))\n",
    "    cpt = 0\n",
    "    for i in np.arange(-100,100,0.01):\n",
    "        res[cpt] = sat(i,alpha,c)\n",
    "        cpt+=1\n",
    "    axs[1].plot(np.arange(-100,100,0.01),res)\n",
    "axs[1].legend((\"xalpha=1\",\"alpha=2\",\"alpha=5\",\"alpha=10\",\"alpha=20\",\"alpha=50\",\"alpha=100\") )\n",
    "axs[1].set_xlabel(\"Valeur de U(p_i)\")\n",
    "axs[1].set_ylabel(\"Multiplicateur de quantité\")"
   ]
  },
  {
   "cell_type": "markdown",
   "id": "velvet-pavilion",
   "metadata": {},
   "source": [
    "Finalement Phi correspond a l'intensité de l'aversion à a perte. Phi = 0.5 équivaut à : l'impat négatif de perdre 1€ est 1.5 fois plus fort que l'impact positif de gagner 1€. Phi = 2 correspondrait a ce même ratio égal à 3 etc.."
   ]
  },
  {
   "cell_type": "markdown",
   "id": "alpine-cyprus",
   "metadata": {},
   "source": [
    "## Une experience volumineuse\n",
    "\n",
    "Nous allons générer un environnement plus dense (avec plus d'agents et de produits). Nous resterons sur des simulations avec une seule catégorie de produit car les catégories de produits ne s'influencent pas entre-elles. \n",
    "\n",
    "Créons d'abord une catégorie contenant 9 packs. Nous avons choisi de faire 9 packs assez similaire notamment sur le ratio qualité/prix pour éviter l'apparition d'un \"super produit\", de meilleur qualité et moins cher que les autres, que tous les agents achèteraient. Il est tout à fait possible de créer cette catégorie à la main ou de tout autre manière."
   ]
  },
  {
   "cell_type": "code",
   "execution_count": 60,
   "id": "reliable-clause",
   "metadata": {},
   "outputs": [],
   "source": [
    "base_price = np.random.randint(10, 100)\n",
    "packs = []\n",
    "for j in range(3):\n",
    "    price = base_price + np.random.normal(0,(base_price/4))   # On tire un prix de base aléatoire\n",
    "    quality = np.random.normal((price/100),0.1)               # On tire une qualité proportionelle au prix\n",
    "    for i in range(3):                                        # Création de 3 produits qu'on considerera d'une même marque (même qualité)\n",
    "        packs.append(Pack((\"Produit\" + str(i+(j*3))), price, np.absolute(quality), 2 * (i+1)))\n",
    "        price = price * 0.9                                   # On estime que le prix à l'unité est plus bas sur les produits vendu en grand quantité\n",
    "Ma_categorie = Category(\"Ma_categorie\", packs)"
   ]
  },
  {
   "cell_type": "markdown",
   "id": "british-devices",
   "metadata": {},
   "source": [
    "Création de l'environnement"
   ]
  },
  {
   "cell_type": "code",
   "execution_count": 61,
   "id": "complimentary-smoke",
   "metadata": {},
   "outputs": [],
   "source": [
    "# On fait 300 pas de temps de simulation et on indique au sma de crée lui même aléatoirement 100 agents.\n",
    "sma_de_test = SMA([Ma_categorie],300,100) "
   ]
  },
  {
   "cell_type": "code",
   "execution_count": 62,
   "id": "least-local",
   "metadata": {},
   "outputs": [
    {
     "data": {
      "text/plain": [
       "0"
      ]
     },
     "execution_count": 62,
     "metadata": {},
     "output_type": "execute_result"
    }
   ],
   "source": [
    "sma_de_test.initialise()"
   ]
  },
  {
   "cell_type": "code",
   "execution_count": 63,
   "id": "recovered-robert",
   "metadata": {},
   "outputs": [
    {
     "ename": "AttributeError",
     "evalue": "'SMA' object has no attribute 'get_turnover'",
     "output_type": "error",
     "traceback": [
      "\u001b[0;31m---------------------------------------------------------------------------\u001b[0m",
      "\u001b[0;31mAttributeError\u001b[0m                            Traceback (most recent call last)",
      "\u001b[0;32m<ipython-input-63-842bf5a73ee7>\u001b[0m in \u001b[0;36m<module>\u001b[0;34m\u001b[0m\n\u001b[1;32m      1\u001b[0m \u001b[0msma_de_test\u001b[0m\u001b[0;34m.\u001b[0m\u001b[0mrun\u001b[0m\u001b[0;34m(\u001b[0m\u001b[0;34m)\u001b[0m\u001b[0;34m\u001b[0m\u001b[0;34m\u001b[0m\u001b[0m\n\u001b[0;32m----> 2\u001b[0;31m \u001b[0mplt\u001b[0m\u001b[0;34m.\u001b[0m\u001b[0mplot\u001b[0m\u001b[0;34m(\u001b[0m\u001b[0msma_de_test\u001b[0m\u001b[0;34m.\u001b[0m\u001b[0mget_turnover\u001b[0m\u001b[0;34m(\u001b[0m\u001b[0;34m)\u001b[0m\u001b[0;34m)\u001b[0m\u001b[0;34m\u001b[0m\u001b[0;34m\u001b[0m\u001b[0m\n\u001b[0m",
      "\u001b[0;31mAttributeError\u001b[0m: 'SMA' object has no attribute 'get_turnover'"
     ]
    }
   ],
   "source": [
    "sma_de_test.run()\n",
    "plt.plot(sma_de_test.get_turnover())"
   ]
  },
  {
   "cell_type": "code",
   "execution_count": null,
   "id": "professional-petroleum",
   "metadata": {},
   "outputs": [],
   "source": [
    "sma_de_test.show_sales_packs()"
   ]
  },
  {
   "cell_type": "code",
   "execution_count": null,
   "id": "acceptable-pavilion",
   "metadata": {},
   "outputs": [],
   "source": [
    "sma_de_test.show_sales_separated()"
   ]
  },
  {
   "cell_type": "markdown",
   "id": "numerical-wells",
   "metadata": {},
   "source": [
    "Cette simulation est un premier exemple. On remarque que certains packs sont plus populaires que d'autre notamment les packs de petite quantité. En effet même si ils sont plus chers ils correspondent au besoins d'un plus grand nombre d'agents. "
   ]
  },
  {
   "cell_type": "code",
   "execution_count": null,
   "id": "hispanic-sampling",
   "metadata": {},
   "outputs": [],
   "source": [
    "sma_de_test.initialise()\n",
    "sma_de_test.make_promo(0,40,(30,34),\"Ma_categorie\",\"Produit0\")\n",
    "sma_de_test.run()"
   ]
  },
  {
   "cell_type": "code",
   "execution_count": null,
   "id": "hispanic-preview",
   "metadata": {},
   "outputs": [],
   "source": [
    "plt.plot(sma_de_test.revenues)"
   ]
  },
  {
   "cell_type": "code",
   "execution_count": null,
   "id": "average-temple",
   "metadata": {},
   "outputs": [],
   "source": [
    "sma_de_test.show_sales_packs()"
   ]
  },
  {
   "cell_type": "markdown",
   "id": "limited-admission",
   "metadata": {},
   "source": [
    "On observe sur cette simulation que le produit 0, qui est le produit en promotion, voit une forte augmentation de ses ventes durant la promotion. \n",
    "Afin de pouvoir observer l'impact des promotions plus préciséments nous allons comparer une même simulation avec et sans promotion. \n",
    "\n",
    "Afin d'avoir les mêmes agents dans chaque simulation pour la comparaison nous proposons de fixer la graine aléatoire. "
   ]
  },
  {
   "cell_type": "code",
   "execution_count": null,
   "id": "instrumental-tattoo",
   "metadata": {},
   "outputs": [],
   "source": [
    "np.random.seed(3)\n",
    "base_price = np.random.randint(10, 100)\n",
    "packs = []\n",
    "#Création des produits selon la même méthode que précédemment.\n",
    "for j in range(3):\n",
    "    price = base_price + np.random.normal(0,(base_price/4))   \n",
    "    quality = np.random.normal((price/100),0.1)               \n",
    "    for i in range(3):                                      \n",
    "        packs.append(Pack((\"Produit\" + str(i+(j*3))), price, np.absolute(quality), 2 * (i+1)))\n",
    "        price = price * 0.9  \n",
    "Ma_categorie = Category(\"Ma_categorie\", packs)"
   ]
  },
  {
   "cell_type": "code",
   "execution_count": null,
   "id": "persistent-latest",
   "metadata": {},
   "outputs": [],
   "source": [
    "np.random.seed(3)\n",
    "sma_avec_promo = SMA([Ma_categorie],300,100)\n",
    "np.random.seed(3)\n",
    "sma_sans_promo = SMA([Ma_categorie],300,100)"
   ]
  },
  {
   "cell_type": "code",
   "execution_count": null,
   "id": "mounted-poetry",
   "metadata": {},
   "outputs": [],
   "source": [
    "sma_avec_promo.initialise()\n",
    "sma_avec_promo.make_promo(0,40,(30,34),\"Ma_categorie\",\"Produit0\")\n",
    "sma_sans_promo.initialise()"
   ]
  },
  {
   "cell_type": "code",
   "execution_count": null,
   "id": "raising-isaac",
   "metadata": {},
   "outputs": [],
   "source": [
    "sma_avec_promo.run()\n",
    "sma_sans_promo.run()"
   ]
  },
  {
   "cell_type": "markdown",
   "id": "minus-venezuela",
   "metadata": {},
   "source": [
    "Il est possible d'afficher les résultats sur une même figure de cette manière :"
   ]
  },
  {
   "cell_type": "code",
   "execution_count": null,
   "id": "increasing-small",
   "metadata": {},
   "outputs": [],
   "source": [
    "fig,axs = plt.subplots(1,2,figsize=(12,4))\n",
    "axs[0].plot(sma_sans_promo.get_sales())\n",
    "axs[1].plot(sma_avec_promo.get_sales())"
   ]
  },
  {
   "cell_type": "markdown",
   "id": "intelligent-round",
   "metadata": {},
   "source": [
    "On peut observer le pic des ventes du produit 0 (en bleu) au moment de la promotion ainsi qu'une certaine fidélisation. "
   ]
  },
  {
   "cell_type": "markdown",
   "id": "blocked-leadership",
   "metadata": {},
   "source": [
    "## Expérimentations\n",
    "\n",
    "Dans cette partie nous reproduirons la plupart des résultats des expérimentations de l'article _\"Comprendre l'impact des stratégies de prix sur le comportement des consommateurs\"_\n",
    "\n",
    "### L’augmentation du volume des ventes"
   ]
  },
  {
   "cell_type": "markdown",
   "id": "appointed-melissa",
   "metadata": {},
   "source": [
    "C’est le phénomène le plus classique, lors d’une promotion il y a une augmentation du volume des ventes du produit en promotion."
   ]
  },
  {
   "cell_type": "code",
   "execution_count": null,
   "id": "french-rough",
   "metadata": {},
   "outputs": [],
   "source": [
    "#Figure\n",
    "drevenues = {}\n",
    "dproducts = {}\n",
    "for i in range(20):\n",
    "    print(i,end=\" \")\n",
    "    np.random.seed(0)\n",
    "    test = generate_pack_categorie(\"bananes\") # Création de la catégorie de packs\n",
    "    sma = SMA([test],300,100)\n",
    "    sma.initialise()\n",
    "    np.random.seed(int(10000 * time.time()) % 2**32)\n",
    "    sma.run()\n",
    "    drevenues[i] = sma.revenues\n",
    "    j=0\n",
    "    for pack in sma.packs_categories[0].pack_list:  #Cette ligne ne fonctionne qu'avec une seule catégorie. \n",
    "        if not j in dproducts.keys():\n",
    "            dproducts[j] = {}\n",
    "        dproducts[j][i] = sma.cumulative_nb_bought_per_pack[pack.name]\n",
    "        j+=1"
   ]
  },
  {
   "cell_type": "code",
   "execution_count": null,
   "id": "boolean-positive",
   "metadata": {},
   "outputs": [],
   "source": [
    "#Figure2\n",
    "drevenues2 = {}\n",
    "dproducts2 = {}\n",
    "for i in range(20):\n",
    "    print(i,end=\" \")\n",
    "    np.random.seed(0)\n",
    "    test = generate_pack_categorie(\"bananes\") # Création de la catégorie de packs\n",
    "    sma2 = SMA([test],300,100)\n",
    "    sma2.initialise()\n",
    "    sma2.make_promo(0,40,(30,34),\"bananes\",\"bananes0\")\n",
    "    np.random.seed(int(10000 * time.time()) % 2**32)\n",
    "    sma2.run()\n",
    "    drevenues2[i] = sma.revenues\n",
    "    j=0\n",
    "    for pack in sma2.packs_categories[0].pack_list:  #Cette ligne ne fonctionne qu'avec une seule catégorie. \n",
    "        if not j in dproducts2.keys():\n",
    "            dproducts2[j] = {}\n",
    "        dproducts2[j][i] = sma2.cumulative_nb_bought_per_pack[pack.name]\n",
    "        j+=1"
   ]
  },
  {
   "cell_type": "code",
   "execution_count": null,
   "id": "appreciated-observation",
   "metadata": {},
   "outputs": [],
   "source": [
    "# fig, axs = plt.subplots(1,2, figsize=(15, 4))\n",
    "for key in dproducts.keys():\n",
    "    df = pd.DataFrame(data = dproducts[key])\n",
    "    df['moy']= df.mean(axis=1)\n",
    "    df['ecart']= df.std(axis=1)\n",
    "    new_color =  plt.plot(df.index , df.moy, linewidth=2, linestyle='-',\n",
    "    label='exp')[0].get_color()\n",
    "    plt.fill_between(df.index,df.moy-(df.ecart), df.moy+(df.ecart),\n",
    "    color=new_color, alpha=0.2)\n",
    "plt.ylabel(\"Quantité vendu\")\n",
    "plt.xlabel(\"Ticks\")\n",
    "plt.savefig(\"NbAcheteurs0.svg\",bbox_inches='tight')\n",
    "plt.show()\n",
    "\n",
    "\n",
    "for key in dproducts2.keys():\n",
    "    df = pd.DataFrame(data = dproducts2[key])\n",
    "    df['moy']= df.mean(axis=1)\n",
    "    df['ecart']= df.std(axis=1)\n",
    "    new_color = plt.plot(df.index , df.moy, linewidth=2, linestyle='-',\n",
    "    label='exp')[0].get_color()\n",
    "    plt.fill_between(df.index,df.moy-(df.ecart), df.moy+(df.ecart),\n",
    "    color=new_color, alpha=0.2)\n",
    "plt.ylabel(\"Quantité vendu\")\n",
    "plt.xlabel(\"Ticks\")\n",
    "plt.axvspan(31, 35, alpha=0.2, color='red')\n",
    "# plt.savefig(\"NbAcheteurs1.svg\",bbox_inches='tight')\n",
    "# plt.savefig(\"VolumeDesVentes.svg\")"
   ]
  },
  {
   "cell_type": "markdown",
   "id": "essential-tribe",
   "metadata": {},
   "source": [
    "Sur cette figure pour une réduction de 40% du prix, nous observons en moyenne une augmentation de 50% du volume des ventes sur le produit en promotion."
   ]
  },
  {
   "cell_type": "markdown",
   "id": "extreme-chassis",
   "metadata": {},
   "source": [
    "### Impact des promotions répétées\n",
    "\n",
    "Nous proposons de réaliser 3 simulations.\n",
    "\n",
    "-Sans promotions\n",
    "\n",
    "-Avec 5 promotions successives à 20%\n",
    "\n",
    "-Avec 5 promotions successives à 50%"
   ]
  },
  {
   "cell_type": "code",
   "execution_count": null,
   "id": "available-valley",
   "metadata": {},
   "outputs": [],
   "source": [
    "def my_plot(df):\n",
    "    df['moy']= df.mean(axis=1)\n",
    "    df['ecart']= df.std(axis=1)\n",
    "    plt.plot(df.index ,df.moy)\n",
    "    plt.fill_between(df.index ,df.moy-(df.ecart), df.moy+(df.ecart),alpha=0.2)\n",
    "    return 0"
   ]
  },
  {
   "cell_type": "code",
   "execution_count": null,
   "id": "joint-salmon",
   "metadata": {},
   "outputs": [],
   "source": [
    "dfmeanPrice1 = pd.DataFrame()\n",
    "dfmeanPrice2 = pd.DataFrame()\n",
    "dfmeanPrice3 = pd.DataFrame()\n",
    "#Nombre d'expériences à réaliser \n",
    "for i in range(20):\n",
    "    print(i, end=' ')\n",
    "    \n",
    "    # Création des SMA\n",
    "    np.random.seed(3)\n",
    "    test = generate_pack_categorie(\"bananes\") # Création de la catégorie de packs\n",
    "    sma1 = SMA([test],300,100)\n",
    "    sma1.initialise()\n",
    "    sma2 = SMA([test],300,100)\n",
    "    sma2.initialise()\n",
    "    sma3 = SMA([test],300,100)\n",
    "    sma3.initialise()\n",
    "\n",
    "    # Promotions\n",
    "    sma2.make_promo(0,20,(10,14),\"bananes\",\"bananes0\")\n",
    "    sma2.make_promo(0,20,(20,24),\"bananes\",\"bananes0\")\n",
    "    sma2.make_promo(0,20,(30,34),\"bananes\",\"bananes0\")\n",
    "    sma2.make_promo(0,20,(40,44),\"bananes\",\"bananes0\")\n",
    "    sma2.make_promo(0,20,(50,54),\"bananes\",\"bananes0\")\n",
    "\n",
    "    sma3.make_promo(0,50,(10,14),\"bananes\",\"bananes0\")\n",
    "    sma3.make_promo(0,50,(20,24),\"bananes\",\"bananes0\")\n",
    "    sma3.make_promo(0,50,(30,34),\"bananes\",\"bananes0\")\n",
    "    sma3.make_promo(0,50,(40,44),\"bananes\",\"bananes0\")\n",
    "    sma3.make_promo(0,50,(50,54),\"bananes\",\"bananes0\")\n",
    "\n",
    "    # Simulations\n",
    "    np.random.seed(int(10000 * time.time()) % 2**32)\n",
    "    sma1.run()\n",
    "    sma2.run()\n",
    "    sma3.run()\n",
    "    \n",
    "    #Enregistrement des résultats\n",
    "    for cat in sma1.packs_categories:\n",
    "        dfmeanPrice1.insert(i,cat.name+str(i),sma1.get_mean_needs()[cat.name])\n",
    "        dfmeanPrice2.insert(i,cat.name+str(i),sma2.get_mean_needs()[cat.name])\n",
    "        dfmeanPrice3.insert(i,cat.name+str(i),sma3.get_mean_needs()[cat.name])"
   ]
  },
  {
   "cell_type": "code",
   "execution_count": null,
   "id": "sealed-cargo",
   "metadata": {},
   "outputs": [],
   "source": [
    "#Affichage\n",
    "#Comme on a qu'une seul catégorie l'affichage est plus simple\n",
    "my_plot(dfmeanPrice1)\n",
    "my_plot(dfmeanPrice2)\n",
    "my_plot(dfmeanPrice3)\n",
    "plt.legend([\"Pas de promotion\",\"\",\"Promotion à 20%\",\"\",\"Promotion à 50%\"])\n",
    "plt.ylabel(\"Prix de référence moyen\")\n",
    "plt.xlabel(\"Pas de temps\")\n",
    "plt.savefig(\"PrixRefMoyen.svg\",bbox_inches='tight')\n",
    "plt.plot()"
   ]
  },
  {
   "cell_type": "markdown",
   "id": "swedish-serve",
   "metadata": {},
   "source": [
    "### L’acquisition et la rétention de nouveaux clients"
   ]
  },
  {
   "cell_type": "markdown",
   "id": "metropolitan-picnic",
   "metadata": {},
   "source": [
    "### Guerre des prix\n",
    "\n",
    "On génère 2 produits assez similaires, un porté sur la qualité, l'autre sur le prix. On peut aussi imaginer deux produits très différents en terme de prix/qualité ou encore 2 produits encore plus similaires. Ces caratéristiques auront un impact sur les courbes que nous allons observer. Le but ici est de présenter une guerre des prix, avec des baisses successives du prix des produits. \n",
    "\n",
    "Dans un premier temps la méthode SMA.get_favorites() permet de récupérer pour chaque produit le nombre d'agent ayant pour favorit le produit. Un agent a pour produit favori celui qu'il le plus acheté dans l'historique de l'agent. Voici comment utiliser get_favorites():"
   ]
  },
  {
   "cell_type": "code",
   "execution_count": null,
   "id": "worthy-convert",
   "metadata": {},
   "outputs": [],
   "source": [
    "#On fait la simulation\n",
    "cat_0 = Category(\"catégorie 0\",[Pack(\"Produit_A\", 10, 0.5, 1), Pack(\"Produit_B\", 12, 0.7, 1)])\n",
    "sma_avec_guerre_des_prix = SMA([cat_0],300,10)\n",
    "sma_avec_guerre_des_prix.initialise()\n",
    "sma_avec_guerre_des_prix.run()\n",
    "#On récupère les informations\n",
    "results = sma_avec_guerre_des_prix.get_favorites()\n",
    "results"
   ]
  },
  {
   "cell_type": "code",
   "execution_count": null,
   "id": "olive-outside",
   "metadata": {},
   "outputs": [],
   "source": [
    "plt.plot(results['Produit_A'],label='Produit_A')\n",
    "plt.plot(results['Produit_B'],label='Produit_B')\n",
    "plt.legend()"
   ]
  },
  {
   "cell_type": "markdown",
   "id": "thirty-dayton",
   "metadata": {},
   "source": [
    "On observe que le produit B est légèrement meilleur que le produit A sur notre population d'agents. "
   ]
  },
  {
   "cell_type": "markdown",
   "id": "marked-rider",
   "metadata": {},
   "source": [
    "On relance une simulation avec des produits différents pour illustrer le fait qu'avec seulement 2 produits en concurence direct leurs paramètres ont une grand importance. \n",
    "\n",
    "De plus la prise en compte des paramètres globaux peuvent faire varier l'importance du prix ou de la qualité. "
   ]
  },
  {
   "cell_type": "code",
   "execution_count": null,
   "id": "waiting-reset",
   "metadata": {},
   "outputs": [],
   "source": [
    "cat_0 = Category(\"catégorie 0\",[Pack(\"Produit_A\", 6, 0.6, 1), Pack(\"Produit_B\", 24, 0.7, 1)])\n",
    "sma_avec_guerre_des_prix = SMA([cat_0],300,10)\n",
    "sma_avec_guerre_des_prix.initialise()\n",
    "sma_avec_guerre_des_prix.run()\n",
    "#On récupère les informations\n",
    "results = sma_avec_guerre_des_prix.get_favorites()\n",
    "results\n",
    "for k in results.keys():\n",
    "    plt.plot(results[k],label=k)\n",
    "plt.legend()"
   ]
  },
  {
   "cell_type": "markdown",
   "id": "declared-terry",
   "metadata": {},
   "source": [
    "Nous allons réaliser des simulations de 100 pas de temps à graine aléatoire fixé (pour la comparaison)\n",
    "\n",
    "Maintenant nous allons réaliser une simulation un peu plus longue sans changement de prix."
   ]
  },
  {
   "cell_type": "code",
   "execution_count": null,
   "id": "dense-lending",
   "metadata": {},
   "outputs": [],
   "source": [
    "np.random.seed(42)\n",
    "#On fait la simulation\n",
    "cat_0 = Category(\"catégorie 0\",[Pack(\"Produit_A\", 100, 0.5, 1), Pack(\"Produit_B\", 120, 0.6, 1)])\n",
    "sma_avec_guerre_des_prix = SMA([cat_0],300,100)\n",
    "sma_avec_guerre_des_prix.initialise()\n",
    "sma_avec_guerre_des_prix.run()\n",
    "#On récupère les informations\n",
    "chiffreAffaires = sma_avec_guerre_des_prix.revenues\n",
    "favoris = sma_avec_guerre_des_prix.get_favorites()"
   ]
  },
  {
   "cell_type": "code",
   "execution_count": null,
   "id": "official-porcelain",
   "metadata": {},
   "outputs": [],
   "source": [
    "fig,axs = plt.subplots(1,2,figsize=(12,4))\n",
    "axs[0].plot(chiffreAffaires)\n",
    "for k in favoris.keys():\n",
    "    axs[1].plot(favoris[k],label=k)\n",
    "axs[1].legend()"
   ]
  },
  {
   "cell_type": "markdown",
   "id": "concerned-imperial",
   "metadata": {},
   "source": [
    "Nouvelle simulation avec une baisse du prix uniquement du produit A\n",
    "\n",
    "Un changement de prix définitif, qui n'est pas une promotion, s'effectue avec la méthode `reduce_price(pourcentage, tick d'effet, produit)` ou `raise_price(pourcentage, tick d'effet, produit)`. ce qui donne par exemple `reduce_price(20, 30, 0, 0)`."
   ]
  },
  {
   "cell_type": "code",
   "execution_count": null,
   "id": "emerging-values",
   "metadata": {},
   "outputs": [],
   "source": [
    "np.random.seed(42)\n",
    "#On fait la simulation\n",
    "cat_0 = Category(\"catégorie 0\",[Pack(\"Produit_A\", 100, 0.5, 1), Pack(\"Produit_B\", 120, 0.6, 1)])\n",
    "sma_avec_guerre_des_prix = SMA([cat_0],300,100)\n",
    "sma_avec_guerre_des_prix.initialise()\n",
    "#On indique à quel moment à lieu la baisse de prix ()\n",
    "sma_avec_guerre_des_prix.reduce_price(40, 30, 0, 0)\n",
    "sma_avec_guerre_des_prix.run()\n",
    "#On récupère les informations\n",
    "chiffreAffaires = sma_avec_guerre_des_prix.revenues\n",
    "favoris = sma_avec_guerre_des_prix.get_favorites()"
   ]
  },
  {
   "cell_type": "code",
   "execution_count": null,
   "id": "pediatric-teach",
   "metadata": {},
   "outputs": [],
   "source": [
    "fig,axs = plt.subplots(1,2,figsize=(12,4))\n",
    "axs[0].plot(chiffreAffaires)\n",
    "for k in favoris.keys():\n",
    "    axs[1].plot(favoris[k],label=k)\n",
    "axs[1].legend()"
   ]
  },
  {
   "cell_type": "markdown",
   "id": "golden-subscription",
   "metadata": {},
   "source": [
    "Finalement on réalise une simulation avec ce qu'on entend par guerre des prix, c'est à dire, le prix du produit B baisse ce qui entraine une baisse du prix du produit A ce qui entraine une baisse du produit B etc. "
   ]
  },
  {
   "cell_type": "code",
   "execution_count": null,
   "id": "spare-welsh",
   "metadata": {},
   "outputs": [],
   "source": [
    "np.random.seed(42)\n",
    "#On fait la simulation\n",
    "cat_0 = Category(\"catégorie 0\",[Pack(\"Produit_A\", 100, 0.5, 1), Pack(\"Produit_B\", 120, 0.6, 1)])\n",
    "sma_avec_guerre_des_prix = SMA([cat_0],300,100)\n",
    "sma_avec_guerre_des_prix.initialise()\n",
    "#On indique à quel moment à lieu la baisse de prix ()\n",
    "sma_avec_guerre_des_prix.reduce_price(20, 10, 0, 0)\n",
    "sma_avec_guerre_des_prix.reduce_price(20, 20, 0, 1)\n",
    "sma_avec_guerre_des_prix.reduce_price(20, 30, 0, 0)\n",
    "sma_avec_guerre_des_prix.reduce_price(20, 40, 0, 1)\n",
    "# envrionnement_price_war.reduce_price(20, 50, 0, 1)\n",
    "# envrionnement_price_war.reduce_price(20, 60, 0, 1)\n",
    "sma_avec_guerre_des_prix.run()\n",
    "#On récupère les informations\n",
    "chiffreAffaires = sma_avec_guerre_des_prix.revenues\n",
    "favoris = sma_avec_guerre_des_prix.get_favorites()"
   ]
  },
  {
   "cell_type": "code",
   "execution_count": null,
   "id": "patent-orbit",
   "metadata": {},
   "outputs": [],
   "source": [
    "fig,axs = plt.subplots(1,2,figsize=(12,4))\n",
    "axs[0].plot(chiffreAffaires)\n",
    "for k in favoris.keys():\n",
    "    axs[1].plot(favoris[k],label=k)\n",
    "axs[1].legend()"
   ]
  },
  {
   "cell_type": "markdown",
   "id": "brilliant-filter",
   "metadata": {},
   "source": []
  },
  {
   "cell_type": "markdown",
   "id": "restricted-aggregate",
   "metadata": {},
   "source": [
    "#### C et alpha_sat\n",
    "Pour mieux comprendre les valeurs alpha_sat et c on affiche la fonction de saturation en faisant varier ces valeurs."
   ]
  },
  {
   "cell_type": "code",
   "execution_count": null,
   "id": "blond-behalf",
   "metadata": {},
   "outputs": [],
   "source": []
  },
  {
   "cell_type": "code",
   "execution_count": null,
   "id": "curious-logistics",
   "metadata": {},
   "outputs": [],
   "source": []
  },
  {
   "cell_type": "markdown",
   "id": "opposite-vampire",
   "metadata": {},
   "source": [
    "#### Simulations pour différents paramètres\n",
    "\n",
    "Voici quelque exemples de changements de paramètres. On reprend la catégorie de produit à 8 produits utilisée précedemment. "
   ]
  },
  {
   "cell_type": "code",
   "execution_count": null,
   "id": "chicken-delay",
   "metadata": {},
   "outputs": [],
   "source": [
    "environnement_test = SMA([Ma_categorie],300,100)"
   ]
  },
  {
   "cell_type": "markdown",
   "id": "recognized-intent",
   "metadata": {},
   "source": [
    "Les paramètres de l'evironnement sont passés via la méthode initialise() \n",
    "Les paramètres sont price, quality, promophile, sat_alpha, phi, c, inertia"
   ]
  },
  {
   "cell_type": "code",
   "execution_count": null,
   "id": "prescription-green",
   "metadata": {},
   "outputs": [],
   "source": [
    "sma_de_test.initialise(inertia = 10)\n",
    "sma_de_test.make_promo((0,40,(30,34),0,0))\n",
    "sma_de_test.run()\n",
    "sma_de_test.show_sales()"
   ]
  },
  {
   "cell_type": "code",
   "execution_count": null,
   "id": "supposed-exhaust",
   "metadata": {},
   "outputs": [],
   "source": [
    "sma_de_test.initialise(inertia = 0)\n",
    "sma_de_test.make_promo((0,40,(30,34),0,0))\n",
    "sma_de_test.run()\n",
    "sma_de_test.show_sales()"
   ]
  },
  {
   "cell_type": "code",
   "execution_count": null,
   "id": "closing-multimedia",
   "metadata": {},
   "outputs": [],
   "source": [
    "sma_de_test.show_sales_separated()"
   ]
  },
  {
   "cell_type": "markdown",
   "id": "exempt-wagner",
   "metadata": {},
   "source": [
    "On vois qu'il n'y a plus de fidélisation"
   ]
  },
  {
   "cell_type": "code",
   "execution_count": null,
   "id": "light-deposit",
   "metadata": {},
   "outputs": [],
   "source": [
    "sma_de_test.initialise(price=0.5, quality=100, promophile=5, sat_alpha=1, phi=0.3, c = 2, inertia = 2)\n",
    "sma_de_test.make_promo((0,40,(30,34),0,0))\n",
    "sma_de_test.run()\n",
    "sma_de_test.show_sales()"
   ]
  },
  {
   "cell_type": "code",
   "execution_count": null,
   "id": "collective-frank",
   "metadata": {},
   "outputs": [],
   "source": [
    "sma_de_test.initialise(price=2, quality=0, promophile=5, sat_alpha=100, phi=0.3, c = 2, inertia = 0)\n",
    "sma_de_test.make_promo((0,40,(30,34),0,0))\n",
    "sma_de_test.run()\n",
    "sma_de_test.show_sales()"
   ]
  },
  {
   "cell_type": "code",
   "execution_count": null,
   "id": "corresponding-brazil",
   "metadata": {},
   "outputs": [],
   "source": [
    "sma_de_test.show_sales_separated()"
   ]
  },
  {
   "cell_type": "markdown",
   "id": "excellent-stations",
   "metadata": {},
   "source": [
    "La qualité n'ayant plus d'impact on observe que certains produits (les plus cher) ne sont plus du tout achetés "
   ]
  },
  {
   "cell_type": "code",
   "execution_count": null,
   "id": "mineral-cover",
   "metadata": {},
   "outputs": [],
   "source": []
  }
 ],
 "metadata": {
  "kernelspec": {
   "display_name": "Python 3",
   "language": "python",
   "name": "python3"
  },
  "language_info": {
   "codemirror_mode": {
    "name": "ipython",
    "version": 3
   },
   "file_extension": ".py",
   "mimetype": "text/x-python",
   "name": "python",
   "nbconvert_exporter": "python",
   "pygments_lexer": "ipython3",
   "version": "3.9.15"
  },
  "vscode": {
   "interpreter": {
    "hash": "40d3a090f54c6569ab1632332b64b2c03c39dcf918b08424e98f38b5ae0af88f"
   }
  }
 },
 "nbformat": 4,
 "nbformat_minor": 5
}
